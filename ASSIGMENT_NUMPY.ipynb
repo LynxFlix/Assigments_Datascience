{
 "cells": [
  {
   "cell_type": "markdown",
   "id": "8db5706c-ee0e-4d3c-9371-7ecfb3ed19ca",
   "metadata": {},
   "source": [
    "Q1. Is there any difference in the data type of variables list_ and array_list? If there is then write a code\n",
    "to print the data types of both the variables."
   ]
  },
  {
   "cell_type": "markdown",
   "id": "2356154c-8016-40cc-b1f9-975e2ac494b2",
   "metadata": {},
   "source": [
    "ANS_1:_\n",
    "Yes, there is a difference in the data type of the variables list_ and array_list. The variable list_ is a Python list, whereas array_list is a NumPy array."
   ]
  },
  {
   "cell_type": "code",
   "execution_count": 1,
   "id": "183d4d42-031f-4be1-aaf9-425598461ae3",
   "metadata": {},
   "outputs": [
    {
     "name": "stdout",
     "output_type": "stream",
     "text": [
      "Data type of list_: <class 'list'>\n",
      "Data type of array_list: <class 'numpy.ndarray'>\n"
     ]
    }
   ],
   "source": [
    "#CODE:-\n",
    "\n",
    "import numpy as np\n",
    "\n",
    "list_ = ['1', '2', '3', '4', '5']\n",
    "array_list = np.array(object=list_)\n",
    "\n",
    "print(f\"Data type of list_: {type(list_)}\")\n",
    "print(f\"Data type of array_list: {type(array_list)}\")\n"
   ]
  },
  {
   "cell_type": "markdown",
   "id": "6fe3edd4-7999-4499-bc70-cd493e25227e",
   "metadata": {},
   "source": [
    "Q2. Write a code to print the data type of each and every element of both the variables list_ and\n",
    "arra_list."
   ]
  },
  {
   "cell_type": "markdown",
   "id": "38ba6653-6cf0-488a-a1e3-ae1f81d36c45",
   "metadata": {},
   "source": [
    "ANS_2:-"
   ]
  },
  {
   "cell_type": "code",
   "execution_count": 2,
   "id": "9d95fc70-adfe-4743-aca5-4abd65a2d8d8",
   "metadata": {},
   "outputs": [
    {
     "name": "stdout",
     "output_type": "stream",
     "text": [
      "Data types of elements in list_:\n",
      "<class 'str'>\n",
      "<class 'str'>\n",
      "<class 'str'>\n",
      "<class 'str'>\n",
      "<class 'str'>\n",
      "\n",
      "Data types of elements in array_list:\n",
      "<class 'numpy.str_'>\n",
      "<class 'numpy.str_'>\n",
      "<class 'numpy.str_'>\n",
      "<class 'numpy.str_'>\n",
      "<class 'numpy.str_'>\n"
     ]
    }
   ],
   "source": [
    "#CODE:-\n",
    "\n",
    "import numpy as np\n",
    "\n",
    "list_ = ['1', '2', '3', '4', '5']\n",
    "array_list = np.array(object=list_)\n",
    "\n",
    "print(\"Data types of elements in list_:\")\n",
    "for element in list_:\n",
    "    print(type(element))\n",
    "\n",
    "print(\"\\nData types of elements in array_list:\")\n",
    "for element in array_list:\n",
    "    print(type(element))\n"
   ]
  },
  {
   "cell_type": "markdown",
   "id": "10cd9fb5-3f37-49c6-956c-c705c9d45a07",
   "metadata": {},
   "source": [
    "Q3. Considering the following changes in the variable, array_list:\n",
    "array_list = np.array(object = list_, dtype = int)"
   ]
  },
  {
   "cell_type": "markdown",
   "id": "1b766589-8f22-444a-8d76-279e8353d012",
   "metadata": {},
   "source": [
    "ANS_3:-\n",
    "\n",
    "Yes, there will be a difference in the data type of the elements present in list_ and array_list after setting dtype=int for array_list. The elements in list_ will remain strings, while the elements in array_list will be converted to integers."
   ]
  },
  {
   "cell_type": "code",
   "execution_count": 3,
   "id": "decfe154-5a8c-4b61-9336-c2ebabcadfaa",
   "metadata": {},
   "outputs": [
    {
     "name": "stdout",
     "output_type": "stream",
     "text": [
      "Data types of elements in num_list:\n",
      "<class 'int'>\n",
      "<class 'int'>\n",
      "<class 'int'>\n",
      "<class 'int'>\n",
      "<class 'int'>\n",
      "<class 'int'>\n",
      "\n",
      "Data types of elements in num_array:\n",
      "<class 'numpy.int64'>\n",
      "<class 'numpy.int64'>\n",
      "<class 'numpy.int64'>\n",
      "<class 'numpy.int64'>\n",
      "<class 'numpy.int64'>\n",
      "<class 'numpy.int64'>\n"
     ]
    }
   ],
   "source": [
    "#CODE:-\n",
    "\n",
    "import numpy as np\n",
    "\n",
    "num_list = [[1, 2, 3], [4, 5, 6]]\n",
    "num_array = np.array(object=num_list)\n",
    "\n",
    "print(\"Data types of elements in num_list:\")\n",
    "for sublist in num_list:\n",
    "    for element in sublist:\n",
    "        print(type(element))\n",
    "\n",
    "print(\"\\nData types of elements in num_array:\")\n",
    "for element in num_array.flatten():\n",
    "    print(type(element))\n"
   ]
  },
  {
   "cell_type": "markdown",
   "id": "56e8c339-1035-4a25-8f9b-ddb61929610f",
   "metadata": {},
   "source": [
    "Q4. Write a code to find the following characteristics of variable, num_array:\n",
    "(i) shape\n",
    "(ii) size"
   ]
  },
  {
   "cell_type": "markdown",
   "id": "8eaca871-2ce9-48fc-b732-a3c620c88d7c",
   "metadata": {},
   "source": [
    "ANS_4:-"
   ]
  },
  {
   "cell_type": "code",
   "execution_count": 4,
   "id": "fbc68228-2f0a-4c8c-9fdd-e0e2aa7caa68",
   "metadata": {},
   "outputs": [
    {
     "name": "stdout",
     "output_type": "stream",
     "text": [
      "Shape of num_array: (2, 3)\n",
      "Size of num_array: 6\n"
     ]
    }
   ],
   "source": [
    "#CODE:-\n",
    "\n",
    "import numpy as np\n",
    "\n",
    "num_list = [[1, 2, 3], [4, 5, 6]]\n",
    "num_array = np.array(object=num_list)\n",
    "\n",
    "shape = num_array.shape\n",
    "print(f\"Shape of num_array: {shape}\")\n",
    "\n",
    "size = num_array.size\n",
    "print(f\"Size of num_array: {size}\")\n"
   ]
  },
  {
   "cell_type": "markdown",
   "id": "2474a6bf-81e1-48ff-aba0-8b833408d7e0",
   "metadata": {},
   "source": [
    "Q5. Write a code to create numpy array of 3*3 matrix containing zeros only, using a numpy array\n",
    "creation function.\n",
    "[Hint: The size of the array will be 9 and the shape will be (3,3).]"
   ]
  },
  {
   "cell_type": "markdown",
   "id": "12273c59-95f4-45ed-9a04-a9435a86f156",
   "metadata": {},
   "source": [
    "ANS_5:-"
   ]
  },
  {
   "cell_type": "code",
   "execution_count": 5,
   "id": "23a75127-7dc8-486b-9c0a-c961fecc2cae",
   "metadata": {},
   "outputs": [
    {
     "name": "stdout",
     "output_type": "stream",
     "text": [
      "3x3 matrix of zeros:\n",
      "[[0. 0. 0.]\n",
      " [0. 0. 0.]\n",
      " [0. 0. 0.]]\n"
     ]
    }
   ],
   "source": [
    "#CODE:-\n",
    "\n",
    "import numpy as np\n",
    "\n",
    "zero_matrix = np.zeros((3, 3))\n",
    "\n",
    "print(\"3x3 matrix of zeros:\")\n",
    "print(zero_matrix)\n"
   ]
  },
  {
   "cell_type": "markdown",
   "id": "9e2a4e6e-249e-44c5-af88-1c5be0d72124",
   "metadata": {},
   "source": [
    "Q6. Create an identity matrix of shape (5,5) using numpy functions?\n",
    "[Hint: An identity matrix is a matrix containing 1 diagonally and other elements will be 0.]"
   ]
  },
  {
   "cell_type": "markdown",
   "id": "9f774c83-cc42-406b-bd53-6fb4d21fbedb",
   "metadata": {},
   "source": [
    "ANS_6:"
   ]
  },
  {
   "cell_type": "code",
   "execution_count": 6,
   "id": "c4ddf0d8-a3e0-46af-859f-f5e3dbfdb9c5",
   "metadata": {},
   "outputs": [
    {
     "name": "stdout",
     "output_type": "stream",
     "text": [
      "5x5 identity matrix:\n",
      "[[1. 0. 0. 0. 0.]\n",
      " [0. 1. 0. 0. 0.]\n",
      " [0. 0. 1. 0. 0.]\n",
      " [0. 0. 0. 1. 0.]\n",
      " [0. 0. 0. 0. 1.]]\n"
     ]
    }
   ],
   "source": [
    "#CODE:-\n",
    "\n",
    "import numpy as np\n",
    "identity_matrix = np.eye(5)\n",
    "\n",
    "print(\"5x5 identity matrix:\")\n",
    "print(identity_matrix)\n"
   ]
  },
  {
   "cell_type": "code",
   "execution_count": null,
   "id": "486f814c-97ce-49f9-ba49-74da6c8795b4",
   "metadata": {},
   "outputs": [],
   "source": []
  }
 ],
 "metadata": {
  "kernelspec": {
   "display_name": "Python 3 (ipykernel)",
   "language": "python",
   "name": "python3"
  },
  "language_info": {
   "codemirror_mode": {
    "name": "ipython",
    "version": 3
   },
   "file_extension": ".py",
   "mimetype": "text/x-python",
   "name": "python",
   "nbconvert_exporter": "python",
   "pygments_lexer": "ipython3",
   "version": "3.10.8"
  }
 },
 "nbformat": 4,
 "nbformat_minor": 5
}
