{
 "cells": [
  {
   "cell_type": "markdown",
   "id": "0e718998-7a5b-4009-beda-bacbdae7250c",
   "metadata": {},
   "source": [
    "Q1. You are writing code for a company. The requirement of the company is that you create a python\n",
    "function that will check whether the password entered by the user is correct or not. The function should\n",
    "take the password as input and return the string “Valid Password” if the entered password follows the\n",
    "below-given password guidelines else it should return “Invalid Password”.\n",
    "Note: 1. The Password should contain at least two uppercase letters and at least two lowercase letters.\n",
    "2. The Password should contain at least a number and three special characters.\n",
    "3. The length of the password should be 10 characters long."
   ]
  },
  {
   "cell_type": "markdown",
   "id": "fae6d05d-7347-41ef-8f53-4ddd8a11f8da",
   "metadata": {},
   "source": [
    "ANS_1:-"
   ]
  },
  {
   "cell_type": "code",
   "execution_count": 1,
   "id": "0dd6f2b4-993e-4a4f-a538-f96314a6533b",
   "metadata": {},
   "outputs": [
    {
     "name": "stdin",
     "output_type": "stream",
     "text": [
      "Enter your password:  ashish12312003\n"
     ]
    },
    {
     "name": "stdout",
     "output_type": "stream",
     "text": [
      "Invalid Password\n"
     ]
    }
   ],
   "source": [
    "import string\n",
    "\n",
    "def validate_password(password):\n",
    "    special_chars = set('!@#$%^&*()_+{}[]:;\"\\'<>,.?/~`')\n",
    "    if len(password) != 10:\n",
    "        return \"Invalid Password\"\n",
    "    \n",
    "    upper_count = lower_count = num_count = special_count = 0\n",
    "\n",
    "    for char in password:\n",
    "        if char.isupper():\n",
    "            upper_count += 1\n",
    "        elif char.islower():\n",
    "            lower_count += 1\n",
    "        elif char.isdigit():\n",
    "            num_count += 1\n",
    "        elif char in special_chars:\n",
    "            special_count += 1\n",
    "    if upper_count >= 2 and lower_count >= 2 and num_count >= 1 and special_count >= 3:\n",
    "        return \"Valid Password\"\n",
    "    \n",
    "    return \"Invalid Password\"\n",
    "\n",
    "password = input(\"Enter your password: \")\n",
    "print(validate_password(password))\n"
   ]
  },
  {
   "cell_type": "markdown",
   "id": "b80706df-ef77-48ad-a93f-b7106d60be0b",
   "metadata": {},
   "source": [
    "Q2. Solve the below-given questions using at least one of the following:\n",
    "1. Lambda functioJ\n",
    "2. Filter functioJ\n",
    "3. Zap functioJ\n",
    "4. List ComprehensioI\n",
    "\n",
    "\n",
    "1) Check if the string starts with a particular letterY\n"
   ]
  },
  {
   "cell_type": "code",
   "execution_count": 3,
   "id": "d3a8cdaa-ead0-44af-9216-9376a1b3e893",
   "metadata": {},
   "outputs": [
    {
     "name": "stdout",
     "output_type": "stream",
     "text": [
      "['apple']\n"
     ]
    }
   ],
   "source": [
    "strings = [\"apple\", \"banana\", \"cherry\", \"date\"]\n",
    "letter = 'a'\n",
    "starts_with_letter = list(filter(lambda s: s.startswith(letter), strings))\n",
    "print(starts_with_letter)  # Output: ['apple']\n"
   ]
  },
  {
   "cell_type": "markdown",
   "id": "2cf36068-7ce6-4210-94cb-394e1535c58b",
   "metadata": {},
   "source": [
    "2. Check if the string is numeric.\n"
   ]
  },
  {
   "cell_type": "code",
   "execution_count": 6,
   "id": "16875b10-5609-4b0b-950e-0d3f1a0345e8",
   "metadata": {},
   "outputs": [
    {
     "name": "stdout",
     "output_type": "stream",
     "text": [
      "['apple']\n"
     ]
    }
   ],
   "source": [
    "strings = [\"apple\", \"banana\", \"cherry\", \"date\"]\n",
    "letter = 'a'\n",
    "starts_with_letter = list(filter(lambda s: s.startswith(letter), strings))\n",
    "print(starts_with_letter)  \n"
   ]
  },
  {
   "cell_type": "markdown",
   "id": "8450085e-3cd5-47bb-9fc1-19957ef2acd9",
   "metadata": {},
   "source": [
    "3. Sort a list of tuples having fruit names and their quantity. [(\"mango\",99),(\"orange\",80), (\"grapes\", 1000)-\n"
   ]
  },
  {
   "cell_type": "code",
   "execution_count": 7,
   "id": "55139389-0d9e-4368-b90e-8e746ab4b118",
   "metadata": {},
   "outputs": [
    {
     "name": "stdout",
     "output_type": "stream",
     "text": [
      "[('orange', 80), ('mango', 99), ('grapes', 1000)]\n"
     ]
    }
   ],
   "source": [
    "fruit_list = [(\"mango\", 99), (\"orange\", 80), (\"grapes\", 1000)]\n",
    "sorted_fruit_list = sorted(fruit_list, key=lambda x: x[1])\n",
    "print(sorted_fruit_list)  \n"
   ]
  },
  {
   "cell_type": "markdown",
   "id": "b62c8cc6-f162-4cae-bcb1-d7afbc677391",
   "metadata": {},
   "source": [
    "4. Find the squares of numbers from 1 to 10Y\n"
   ]
  },
  {
   "cell_type": "code",
   "execution_count": 8,
   "id": "2cc38495-23af-4061-bf36-4102053cf1aa",
   "metadata": {},
   "outputs": [
    {
     "name": "stdout",
     "output_type": "stream",
     "text": [
      "[('orange', 80), ('mango', 99), ('grapes', 1000)]\n"
     ]
    }
   ],
   "source": [
    "fruit_list = [(\"mango\", 99), (\"orange\", 80), (\"grapes\", 1000)]\n",
    "sorted_fruit_list = sorted(fruit_list, key=lambda x: x[1])\n",
    "print(sorted_fruit_list)  \n"
   ]
  },
  {
   "cell_type": "markdown",
   "id": "0bf24cf3-c334-4e9c-b0f4-2ea3f8b90967",
   "metadata": {},
   "source": [
    "5. Find the squares of numbers from 1 to 10Y\n"
   ]
  },
  {
   "cell_type": "code",
   "execution_count": 9,
   "id": "0c1976e8-a6c6-4281-8dbd-2cbea64becbb",
   "metadata": {},
   "outputs": [
    {
     "name": "stdout",
     "output_type": "stream",
     "text": [
      "[('orange', 80), ('mango', 99), ('grapes', 1000)]\n"
     ]
    }
   ],
   "source": [
    "fruit_list = [(\"mango\", 99), (\"orange\", 80), (\"grapes\", 1000)]\n",
    "sorted_fruit_list = sorted(fruit_list, key=lambda x: x[1])\n",
    "print(sorted_fruit_list)  \n"
   ]
  },
  {
   "cell_type": "markdown",
   "id": "cfc121a7-b678-4916-bf92-dfeed2edc1dc",
   "metadata": {},
   "source": [
    "6. Find the cube root of numbers from 1 to 10Y\n"
   ]
  },
  {
   "cell_type": "code",
   "execution_count": 10,
   "id": "43bd6992-0bb8-463a-a50c-3d14d3772293",
   "metadata": {},
   "outputs": [
    {
     "name": "stdout",
     "output_type": "stream",
     "text": [
      "[('orange', 80), ('mango', 99), ('grapes', 1000)]\n"
     ]
    }
   ],
   "source": [
    "fruit_list = [(\"mango\", 99), (\"orange\", 80), (\"grapes\", 1000)]\n",
    "sorted_fruit_list = sorted(fruit_list, key=lambda x: x[1])\n",
    "print(sorted_fruit_list)  \n"
   ]
  },
  {
   "cell_type": "markdown",
   "id": "42953789-1f85-4391-87dc-1834e649b39c",
   "metadata": {},
   "source": [
    "7. Check if a given number is even.\n"
   ]
  },
  {
   "cell_type": "code",
   "execution_count": 11,
   "id": "28a0ac78-73ee-4093-a728-a833ee01f44e",
   "metadata": {},
   "outputs": [
    {
     "name": "stdout",
     "output_type": "stream",
     "text": [
      "[1, 3, 5, 7, 9]\n"
     ]
    }
   ],
   "source": [
    "numbers = [1, 2, 3, 4, 5, 6, 7, 8, 9, 10]\n",
    "odd_numbers = list(filter(lambda x: x % 2 != 0, numbers))\n",
    "print(odd_numbers)  "
   ]
  },
  {
   "cell_type": "markdown",
   "id": "e1fdef42-a4e9-44be-8bc8-f19f45647d28",
   "metadata": {},
   "source": [
    "8. Filter odd numbers from the given list.\n",
    "[1,2,3,4,5,6,7,8,9,10-\n",
    "B Sort a list of integers into positive and negative integers lists.\n",
    "[1,2,3,4,5,6,-1,-2,-3,-4,-5,0]"
   ]
  },
  {
   "cell_type": "code",
   "execution_count": 12,
   "id": "36361a32-01e3-49c7-b044-7099be80fbc7",
   "metadata": {},
   "outputs": [
    {
     "name": "stdout",
     "output_type": "stream",
     "text": [
      "[1, 3, 5, 7, 9]\n"
     ]
    }
   ],
   "source": [
    "numbers = [1, 2, 3, 4, 5, 6, 7, 8, 9, 10]\n",
    "odd_numbers = list(filter(lambda x: x % 2 != 0, numbers))\n",
    "print(odd_numbers)  \n"
   ]
  },
  {
   "cell_type": "code",
   "execution_count": null,
   "id": "49abbb0e-d824-4180-88ff-e606dca57675",
   "metadata": {},
   "outputs": [],
   "source": []
  }
 ],
 "metadata": {
  "kernelspec": {
   "display_name": "Python 3 (ipykernel)",
   "language": "python",
   "name": "python3"
  },
  "language_info": {
   "codemirror_mode": {
    "name": "ipython",
    "version": 3
   },
   "file_extension": ".py",
   "mimetype": "text/x-python",
   "name": "python",
   "nbconvert_exporter": "python",
   "pygments_lexer": "ipython3",
   "version": "3.10.8"
  }
 },
 "nbformat": 4,
 "nbformat_minor": 5
}
