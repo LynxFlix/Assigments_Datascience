{
 "cells": [
  {
   "cell_type": "markdown",
   "id": "4776a9c2-3733-4a14-9476-028b44b389a9",
   "metadata": {},
   "source": [
    "Q1. Create a function which will take a list as an argument and return the product of all the numbers\n",
    "after creating a flat list.\n",
    "Use the below-given list as an argument for your function."
   ]
  },
  {
   "cell_type": "markdown",
   "id": "283a2a0b-b50e-41ac-bc1c-c090de797b95",
   "metadata": {},
   "source": [
    "ANS_1:-"
   ]
  },
  {
   "cell_type": "code",
   "execution_count": 4,
   "id": "fea685ee-c84a-475f-beb9-fe5660309e08",
   "metadata": {},
   "outputs": [
    {
     "name": "stdout",
     "output_type": "stream",
     "text": [
      "The product of all numbers is: 0\n"
     ]
    }
   ],
   "source": [
    "# CODE:-\n",
    "\n",
    "from functools import reduce\n",
    "import operator\n",
    "\n",
    "def flatten_and_multiply(lst):\n",
    "    \"\"\"Flattens the list and returns the product of all numbers.\"\"\"\n",
    "    flat_list = []\n",
    "    stack = [lst]\n",
    "\n",
    "    while stack:\n",
    "        item = stack.pop()\n",
    "        if isinstance(item, list):\n",
    "            stack.extend(item)\n",
    "        elif isinstance(item, tuple):\n",
    "            stack.extend(item)\n",
    "        elif isinstance(item, set):\n",
    "            stack.extend(item)\n",
    "        elif isinstance(item, dict):\n",
    "            stack.extend(item.keys())\n",
    "            stack.extend(item.values())\n",
    "        elif isinstance(item, (int, float)):\n",
    "            flat_list.append(item)\n",
    "\n",
    "    return reduce(operator.mul, flat_list, 1)\n",
    "\n",
    "\n",
    "list1 = [1, 2, 3, 4, [44, 55, 66, True], False, (34, 56, 78, 89, 34), {1, 2, 3, 3, 2, 1}, \n",
    "         {1: 34, \"key2\": [55, 67, 78, 89], 4: (45, 22, 61, 34)}, [56, 'data science'], 'Machine Learning']\n",
    "\n",
    "result = flatten_and_multiply(list1)\n",
    "print(f\"The product of all numbers is: {result}\")\n"
   ]
  },
  {
   "cell_type": "markdown",
   "id": "ef1b6570-1378-41a9-bc5e-06295da151a8",
   "metadata": {},
   "source": [
    "Q2. Write a python program for encrypting a message sent to you by your friend. The logic of encryption\n",
    "should be such that, for a the output should be z. For b, the output should be y. For c, the output should\n",
    "be x respectively. Also, the whitespace should be replaced with a dollar sign. Keep the punctuation\n",
    "marks unchanged.\n",
    "Input Sentence: I want to become a Data Scientist.\n",
    "Encrypt the above input sentence using the program you just created.\n",
    "Note: Convert the given input sentence into lowercase before encrypting. The final output should be\n",
    "lowercase."
   ]
  },
  {
   "cell_type": "markdown",
   "id": "a28e78f3-5ef7-45b7-ab86-d7a703c1dd31",
   "metadata": {},
   "source": [
    "ANS_2:-"
   ]
  },
  {
   "cell_type": "code",
   "execution_count": 5,
   "id": "2fb64e6b-4829-449a-b5a7-e292954410be",
   "metadata": {},
   "outputs": [
    {
     "name": "stdout",
     "output_type": "stream",
     "text": [
      "Encrypted message: r$dzmg$gl$yvxlnv$z$wzgz$hxrvmgrhg.\n"
     ]
    }
   ],
   "source": [
    "def encrypt_message(message):\n",
    "\n",
    "    message = message.lower()\n",
    "    \n",
    "    encrypted_message = ''\n",
    "    \n",
    "    for char in message:\n",
    "        if char.isalpha():\n",
    "            encrypted_message += chr(219 - ord(char))\n",
    "        elif char == ' ':\n",
    "            encrypted_message += '$'\n",
    "        else:\n",
    "            encrypted_message += char\n",
    "    \n",
    "    return encrypted_message\n",
    "\n",
    "input_sentence = \"I want to become a Data Scientist.\"\n",
    "\n",
    "encrypted_message = encrypt_message(input_sentence)\n",
    "print(f\"Encrypted message: {encrypted_message}\")\n"
   ]
  },
  {
   "cell_type": "code",
   "execution_count": null,
   "id": "6a764f02-fe47-4892-810b-d686d009724f",
   "metadata": {},
   "outputs": [],
   "source": []
  }
 ],
 "metadata": {
  "kernelspec": {
   "display_name": "Python 3 (ipykernel)",
   "language": "python",
   "name": "python3"
  },
  "language_info": {
   "codemirror_mode": {
    "name": "ipython",
    "version": 3
   },
   "file_extension": ".py",
   "mimetype": "text/x-python",
   "name": "python",
   "nbconvert_exporter": "python",
   "pygments_lexer": "ipython3",
   "version": "3.10.8"
  }
 },
 "nbformat": 4,
 "nbformat_minor": 5
}
