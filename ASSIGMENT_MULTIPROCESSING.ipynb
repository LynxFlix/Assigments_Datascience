{
 "cells": [
  {
   "cell_type": "markdown",
   "id": "426bf1e1-3071-4a8c-8e75-68f75604ef06",
   "metadata": {},
   "source": [
    "Q1. What is multiprocessing in python? Why is it useful?"
   ]
  },
  {
   "cell_type": "markdown",
   "id": "a3d11756-85a2-4dc0-9c29-91fc66261bd0",
   "metadata": {},
   "source": [
    "ANS_1:-\n",
    "\n",
    "Multiprocessing in Python refers to the technique of running multiple processes concurrently to execute tasks in parallel. Each process runs independently, with its own memory space, and does not share memory with other processes. The Python multiprocessing module provides the ability to create, manage, and synchronize multiple processes.\n",
    "\n",
    "1. Bypassing Global Interpreter Lock (GIL):\n",
    "    Description: In CPython, the Global Interpreter Lock (GIL) limits the execution of Python bytecode to one thread at a time. This can be a bottleneck for CPU-bound tasks. Multiprocessing allows parallel execution across multiple processes, effectively bypassing the GIL and utilizing multiple CPU cores.\n",
    "Benefit: Enables true parallelism for CPU-bound tasks by utilizing multiple processors.\n",
    "2. Improved Performance for CPU-bound Tasks:\n",
    "    Description: Multiprocessing can significantly improve performance for tasks that require heavy computation. By distributing the workload across multiple processes, the task can be completed more quickly.\n",
    "Benefit: Reduces execution time for CPU-intensive operations.\n",
    "    \n",
    "3. Isolation and Fault Tolerance:\n",
    "    Description: Processes in multiprocessing are isolated from each other, meaning that a failure or crash in one process does not affect others. This isolation provides better fault tolerance compared to multithreading.\n",
    "Benefit: Enhances the stability of the application, as each process runs in its own memory space.\n",
    "    \n",
    "4. Effective Resource Utilization:\n",
    "   Description: Multiprocessing can make efficient use of multi-core processors by leveraging parallel execution. This improves the overall resource utilization of the system.\n",
    "Benefit: Maximizes the performance of multi-core CPUs."
   ]
  },
  {
   "cell_type": "markdown",
   "id": "25ceea05-989d-4614-a845-3547d770921c",
   "metadata": {},
   "source": [
    "Q2. What are the differences between multiprocessing and multithreading?"
   ]
  },
  {
   "cell_type": "markdown",
   "id": "23d2d8bf-5d45-481b-9a30-a49f96a69615",
   "metadata": {},
   "source": [
    "ANS_2:-\n",
    "Differences Between Multiprocessing and Multithreading:-\n",
    "\n",
    "1. Basic Concept:\n",
    "\n",
    "    Multiprocessing:\n",
    "    Involves running multiple processes simultaneously. Each process has its own memory space and resources.\n",
    "    Isolation: Processes are completely isolated from each other; they do not share memory.\n",
    "    Concurrency: True parallelism can be achieved as each process runs on a separate CPU core or processor.\n",
    "    \n",
    "    Multithreading:\n",
    "    Involves running multiple threads within a single process. Threads share the same memory space and resources of the parent process.\n",
    "    Shared Memory: Threads share the same memory space, which can lead to data corruption if not properly synchronized.\n",
    "    Concurrency: Threads can run concurrently but are subject to the Global Interpreter Lock (GIL) in CPython, which can limit parallel execution of CPU-bound tasks.\n",
    "\n",
    "2. Global Interpreter Lock (GIL):\n",
    "\n",
    "    Multiprocessing:\n",
    "    GIL: Each process has its own Python interpreter and memory space, so the GIL does not affect multiprocessing. True parallel execution is possible.\n",
    "\n",
    "    Multithreading:\n",
    "    GIL: In CPython, the GIL prevents multiple threads from executing Python bytecodes at once. This can limit the effectiveness of multithreading for CPU-bound tasks but not for I/O-bound tasks.\n",
    "    \n",
    "3. Resource Utilization:\n",
    "\n",
    "    Multiprocessing:\n",
    "    Resource Usage: Each process has its own memory space, so resource utilization can be higher. Communication between processes requires inter-process communication (IPC) mechanisms.\n",
    "    Overhead: Creating and managing processes is generally more resource-intensive compared to threads.\n",
    "    \n",
    "    Multithreading:\n",
    "    Resource Usage: Threads share the same memory space, leading to lower overhead in terms of memory usage. Inter-thread communication is simpler as threads share the same memory space.\n",
    "    Overhead: Threads are lighter-weight compared to processes.\n",
    "    \n",
    "4. Fault Tolerance:\n",
    "    Multiprocessing:\n",
    "    Isolation: Failures in one process do not affect other processes. Processes are isolated and do not interfere with each other.\n",
    "    \n",
    "    Multithreading:\n",
    "    Shared Memory: Threads share the same memory space, so a failure in one thread could potentially corrupt shared data and affect other threads.\n",
    "    \n",
    "5. Use Cases:\n",
    "\n",
    "    Multiprocessing:\n",
    "    Best For: CPU-bound tasks that require heavy computation and need to fully utilize multiple CPU cores.\n",
    "    Examples: Data processing, scientific computing, and tasks that benefit from parallel execution.\n",
    "    \n",
    "    Multithreading:\n",
    "    Best For: I/O-bound tasks where threads spend time waiting for external operations (e.g., file I/O, network communication) and can benefit from concurrent execution.\n",
    "    Examples: GUI applications, network servers, and applications with tasks that can be performed concurrently without heavy computation."
   ]
  },
  {
   "cell_type": "markdown",
   "id": "e315aed3-6868-496d-979f-b5bba2537122",
   "metadata": {},
   "source": [
    "Q3. Write a python code to create a process using the multiprocessing module"
   ]
  },
  {
   "cell_type": "markdown",
   "id": "bb675582-c8a9-49d3-b952-3d0532cdf1d4",
   "metadata": {},
   "source": [
    "ANS_3:-\n"
   ]
  },
  {
   "cell_type": "code",
   "execution_count": null,
   "id": "7b8a6561-93e0-458c-bfd9-dc85d0856f93",
   "metadata": {},
   "outputs": [],
   "source": [
    "# CODE:-\n",
    "import multiprocessing\n",
    "import time\n",
    "\n",
    "def worker_function(number):\n",
    "    print(f\"Process {number} started\")\n",
    "    time.sleep(2)\n",
    "    print(f\"Process {number} finished\")\n",
    "\n",
    "if __name__ == \"__main__\":\n",
    "    \n",
    "    process = multiprocessing.Process(target=worker_function, args=(1,))\n",
    "    process.start()\n",
    "    process.join()\n",
    "    \n",
    "    print(\"Main process finished\")\n"
   ]
  },
  {
   "cell_type": "markdown",
   "id": "bf3320b6-972c-46b5-b94c-c475b3a3d56d",
   "metadata": {},
   "source": [
    "Q4. What is a multiprocessing pool in python? Why is it used?"
   ]
  },
  {
   "cell_type": "markdown",
   "id": "d80d63b2-7c95-4c7d-82dd-9c744285eaa3",
   "metadata": {},
   "source": [
    "ANS_4:- \n",
    "\n",
    "A multiprocessing pool in Python is a way to manage a pool of worker processes to perform tasks in parallel. It is provided by the multiprocessing module, specifically through the multiprocessing.Pool class. The pool allows you to easily distribute tasks among a specified number of worker processes and retrieve results.\n",
    "\n",
    "1. Parallel Execution of Tasks:\n",
    "    The pool enables parallel execution of tasks, distributing the workload across multiple worker processes. This can significantly speed up the execution of CPU-bound operations.\n",
    "\n",
    "2. Simplifies Parallel Processing:\n",
    "    Using a pool simplifies the parallel processing of tasks by managing the creation, assignment, and coordination of multiple processes. It abstracts away the complexities of process management.\n",
    "\n",
    "3. Efficient Resource Utilization:\n",
    "    A pool efficiently utilizes multiple CPU cores or processors by distributing tasks among them. This can lead to better performance and resource utilization for parallelizable workloads.\n",
    "\n",
    "4. Load Balancing:\n",
    "    The pool handles load balancing among the worker processes, automatically distributing tasks and managing the number of active processes.\n",
    "\n",
    "5. Task Distribution and Result Collection:\n",
    "    The pool provides methods for distributing tasks (e.g., map, apply, starmap) and collecting results in a straightforward manner."
   ]
  },
  {
   "cell_type": "code",
   "execution_count": null,
   "id": "7ee772f9-5994-4589-97aa-48c32897c293",
   "metadata": {},
   "outputs": [],
   "source": [
    "# CODE:-\n",
    "import multiprocessing\n",
    "import math\n",
    "\n",
    "def square_root(number):\n",
    "    return math.sqrt(number)\n",
    "\n",
    "if __name__ == \"__main__\":\n",
    "    numbers = [4, 16, 25, 36, 49, 64]\n",
    "\n",
    "    with multiprocessing.Pool(processes=3) as pool:\n",
    "        \n",
    "        results = pool.map(square_root, numbers)\n",
    "\n",
    "    print(\"Square roots:\", results)\n"
   ]
  },
  {
   "cell_type": "markdown",
   "id": "26855315-f926-41f0-9d45-06b43332f5a7",
   "metadata": {},
   "source": [
    "Q5. How can we create a pool of worker processes in python using the multiprocessing module?"
   ]
  },
  {
   "cell_type": "markdown",
   "id": "5e1a76a1-23fd-4000-9038-5f44179b4994",
   "metadata": {},
   "source": [
    "ANS_5:-\n",
    "\n",
    "Creating a pool of worker processes in Python using the multiprocessing module involves using the multiprocessing.Pool class. The pool provides a simple interface for parallelizing tasks across multiple processes. Here’s a step-by-step guide on how to create and use a pool of worker processes:\n",
    "\n",
    "1. Import the multiprocessing Module:\n",
    "    Import the multiprocessing module to access the Pool class and other multiprocessing functionalities.\n",
    "\n",
    "2. Define the Task Function:\n",
    "    Create a function that performs the task you want to execute in parallel. This function will be called by each worker process.\n",
    "\n",
    "3. Create a Pool Object:\n",
    "    Instantiate a Pool object, specifying the number of worker processes you want to create.\n",
    "\n",
    "4. Distribute Tasks:\n",
    "    Use methods like map(), apply(), starmap(), or imap() to distribute tasks among the worker processes.\n",
    "\n",
    "5. Close and Join the Pool:\n",
    "    Close the pool to prevent any more tasks from being submitted, and then join the pool to wait for all worker processes to finish."
   ]
  },
  {
   "cell_type": "code",
   "execution_count": null,
   "id": "c9717ebd-c639-43d3-82d8-669f92e668a9",
   "metadata": {},
   "outputs": [],
   "source": [
    "# CODE:-\n",
    "import multiprocessing\n",
    "import math\n",
    "\n",
    "def square_root(number):\n",
    "    return math.sqrt(number)\n",
    "\n",
    "if __name__ == \"__main__\":\n",
    "    numbers = [4, 16, 25, 36, 49, 64]\n",
    "\n",
    "    with multiprocessing.Pool(processes=4) as pool:\n",
    "        results = pool.map(square_root, numbers)\n",
    "\n",
    "    print(\"Square roots:\", results)\n"
   ]
  },
  {
   "cell_type": "markdown",
   "id": "a3e36425-d171-4e1f-8b2d-8e548d14209d",
   "metadata": {},
   "source": [
    "Q6. Write a python program to create 4 processes, each process should print a different number using the\n",
    "multiprocessing module in python?"
   ]
  },
  {
   "cell_type": "markdown",
   "id": "a18c9672-0f95-48ee-8249-2848b0f505cb",
   "metadata": {},
   "source": [
    "ANS_6:-\n"
   ]
  },
  {
   "cell_type": "code",
   "execution_count": null,
   "id": "71d7f2b5-0084-4e4b-a83a-5e31c3dc18ab",
   "metadata": {},
   "outputs": [],
   "source": [
    "# CODE:-\n",
    "import multiprocessing\n",
    "\n",
    "def print_number(number):\n",
    "    print(f\"Process {number} is printing number: {number}\")\n",
    "\n",
    "if __name__ == \"__main__\":\n",
    "    numbers = [1, 2, 3, 4]\n",
    "\n",
    "    processes = []\n",
    "    for number in numbers:\n",
    "        process = multiprocessing.Process(target=print_number, args=(number,))\n",
    "        processes.append(process)\n",
    "        process.start()\n",
    "\n",
    "    for process in processes:\n",
    "        process.join()\n",
    "\n",
    "    print(\"All processes have finished\")\n"
   ]
  }
 ],
 "metadata": {
  "kernelspec": {
   "display_name": "Python 3 (ipykernel)",
   "language": "python",
   "name": "python3"
  },
  "language_info": {
   "codemirror_mode": {
    "name": "ipython",
    "version": 3
   },
   "file_extension": ".py",
   "mimetype": "text/x-python",
   "name": "python",
   "nbconvert_exporter": "python",
   "pygments_lexer": "ipython3",
   "version": "3.10.8"
  }
 },
 "nbformat": 4,
 "nbformat_minor": 5
}
