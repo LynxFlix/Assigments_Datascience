{
 "cells": [
  {
   "cell_type": "markdown",
   "id": "426bf1e1-3071-4a8c-8e75-68f75604ef06",
   "metadata": {},
   "source": [
    "Q1. What is Exception in pthon? Write the differen,e etween Ex,eptions and Syntax errors."
   ]
  },
  {
   "cell_type": "markdown",
   "id": "a3d11756-85a2-4dc0-9c29-91fc66261bd0",
   "metadata": {},
   "source": [
    "ANS_1:-\n",
    "\n",
    "In Python, an exception is an event that disrupts the normal flow of a program's execution. It is typically used to handle errors or unexpected situations that arise during runtime. Exceptions allow you to manage errors gracefully without crashing the program.\n",
    "\n",
    "Differences Between Exceptions and Syntax Errors\n",
    "1. Exceptions\n",
    "    Definition: Exceptions are errors detected during the execution of the program. They can be caused by various runtime issues such as division by zero, file not found, or invalid input.\n",
    "\n",
    "    Timing: Exceptions occur during runtime. They do not prevent the code from being executed but can interrupt the flow of execution when they are raised.\n",
    "\n",
    "    Handling: Exceptions can be caught and handled using try, except, else, and finally blocks, allowing the program to continue running or to manage the error gracefully.\n",
    "\n",
    "2. Syntax Errors\n",
    "    Definition: Syntax errors occur when the code does not conform to the syntax rules of the Python language. These errors are usually due to mistakes in the code structure such as missing colons, incorrect indentation, or misspelled keywords.\n",
    "\n",
    "    Timing: Syntax errors are detected during the parsing phase before the program is executed. They prevent the program from running and must be fixed before the code can be executed.\n",
    "\n",
    "    Handling: Syntax errors cannot be caught or handled using exception handling mechanisms since they occur before the program execution begins.\n"
   ]
  },
  {
   "cell_type": "markdown",
   "id": "25ceea05-989d-4614-a845-3547d770921c",
   "metadata": {},
   "source": [
    "Q2. What happen when exception is not Handled?"
   ]
  },
  {
   "cell_type": "markdown",
   "id": "09464c63-f4cf-427b-9789-c433a0355fcd",
   "metadata": {},
   "source": [
    "ANS_2:-\n",
    "\n",
    "When an exception is not handled in Python, the following sequence of events typically occurs:\n",
    "\n",
    "1. Exception Propagation: The exception is propagated up the call stack. Python will search for an exception handler in the current scope. If it does not find one, it will move to the caller of the current function, and so on, until it reaches the top level of the program.\n",
    "\n",
    "2. Uncaught Exception: If no handler is found for the exception, Python's default behavior is to terminate the program. An error message is printed to the console, which includes the traceback (a report of the function calls leading to the exception) and the type of the exception.\n",
    "\n",
    "3. Program Termination: The program will exit with a non-zero exit code indicating that an error occurred. This typically signals a failure in the program execution.\n"
   ]
  },
  {
   "cell_type": "code",
   "execution_count": null,
   "id": "216e4960-e7b3-4833-bf76-86788a10f4a8",
   "metadata": {},
   "outputs": [],
   "source": [
    "# CODE:-\n",
    "def divide(a, b):\n",
    "    return a / b\n",
    "\n",
    "result = divide(10, 0)\n",
    "print(result)\n"
   ]
  },
  {
   "cell_type": "markdown",
   "id": "e315aed3-6868-496d-979f-b5bba2537122",
   "metadata": {},
   "source": [
    "Q3. Which Python statment are used to catch and handle exceptions?"
   ]
  },
  {
   "cell_type": "markdown",
   "id": "bb675582-c8a9-49d3-b952-3d0532cdf1d4",
   "metadata": {},
   "source": [
    "ANS_3:-\n",
    "\n",
    "In Python, the statements used to catch and handle exceptions are try, except, else, and finally. These statements allow you to define a block of code to be executed, a block to handle exceptions, a block to execute if no exceptions were raised, and a block to clean up resources.\n",
    "\n",
    "1. try Statement:-\n",
    "    The try block lets you test a block of code for errors.\n",
    "\n",
    "2. except Statement:- \n",
    "    The except block lets you handle the error. You can have multiple except blocks to handle different types of exceptions.\n",
    "\n",
    "3. else Statement:-\n",
    "    The else block lets you execute code if no exceptions were raised in the try block.\n",
    "\n",
    "4. finally Statement\n",
    "    The finally block lets you execute code, regardless of the result of the try and except blocks. It is often used to clean up resources, such as closing files or network connections."
   ]
  },
  {
   "cell_type": "code",
   "execution_count": 1,
   "id": "6a08188c-7c1e-4a43-a8af-8e7c72f57708",
   "metadata": {},
   "outputs": [
    {
     "name": "stdout",
     "output_type": "stream",
     "text": [
      "The result is 5.0\n",
      "This block always executes.\n"
     ]
    }
   ],
   "source": [
    "# CODE:-\n",
    "try:\n",
    "    # Code that may raise an exception\n",
    "    result = 10 / 2\n",
    "except ZeroDivisionError:\n",
    "    # Code to handle the specific exception\n",
    "    print(\"Cannot divide by zero.\")\n",
    "except TypeError:\n",
    "    # Code to handle another specific exception\n",
    "    print(\"Invalid data type for division.\")\n",
    "except Exception as e:\n",
    "    # Code to handle any other exception\n",
    "    print(f\"An unexpected error occurred: {e}\")\n",
    "else:\n",
    "    # Code to execute if no exception was raised\n",
    "    print(f\"The result is {result}\")\n",
    "finally:\n",
    "    # Code to execute regardless of whether an exception was raised or not\n",
    "    print(\"This block always executes.\")\n"
   ]
  },
  {
   "cell_type": "markdown",
   "id": "bf3320b6-972c-46b5-b94c-c475b3a3d56d",
   "metadata": {},
   "source": [
    "Q4. Explain with an example:-1)try and else. 2)Finally. 3)Raise."
   ]
  },
  {
   "cell_type": "markdown",
   "id": "d80d63b2-7c95-4c7d-82dd-9c744285eaa3",
   "metadata": {},
   "source": [
    "ANS_4:- \n",
    "\n",
    "1. try and else:- \n",
    "    The else block is executed only if no exceptions are raised in the try block. This can be useful to separate the normal execution path from the error handling code."
   ]
  },
  {
   "cell_type": "code",
   "execution_count": 3,
   "id": "f2ea2011-2307-4196-899f-7b0de45c67c2",
   "metadata": {},
   "outputs": [
    {
     "name": "stdout",
     "output_type": "stream",
     "text": [
      "Division was successful. The result is 5.0\n",
      "Error: Cannot divide by zero.\n"
     ]
    }
   ],
   "source": [
    "# CODE:\n",
    "def divide(a, b):\n",
    "    try:\n",
    "        result = a / b\n",
    "    except ZeroDivisionError:\n",
    "        print(\"Error: Cannot divide by zero.\")\n",
    "    else:\n",
    "        print(f\"Division was successful. The result is {result}\")\n",
    "\n",
    "divide(10, 2)\n",
    "divide(10, 0)"
   ]
  },
  {
   "cell_type": "markdown",
   "id": "ee39a692-70cc-42e2-9d7e-65fca1b37104",
   "metadata": {},
   "source": [
    "2. Finally:-\n",
    "    The finally block is always executed, regardless of whether an exception was raised or not. This is typically used for cleanup actions, such as closing files or releasing resources."
   ]
  },
  {
   "cell_type": "code",
   "execution_count": 4,
   "id": "cca4c99d-0a6f-4585-9dd1-7af5a9772ca8",
   "metadata": {},
   "outputs": [
    {
     "name": "stdout",
     "output_type": "stream",
     "text": [
      "Division was successful. The result is 5.0\n",
      "This block always executes.\n",
      "Error: Cannot divide by zero.\n",
      "This block always executes.\n"
     ]
    }
   ],
   "source": [
    "# CODE:-\n",
    "def divide(a, b):\n",
    "    try:\n",
    "        result = a / b\n",
    "    except ZeroDivisionError:\n",
    "        print(\"Error: Cannot divide by zero.\")\n",
    "        return\n",
    "    else:\n",
    "        print(f\"Division was successful. The result is {result}\")\n",
    "    finally:\n",
    "        print(\"This block always executes.\")\n",
    "\n",
    "divide(10, 2)\n",
    "divide(10, 0)\n"
   ]
  },
  {
   "cell_type": "markdown",
   "id": "557d3009-0f6a-4a77-a1ac-687d7bf9b37e",
   "metadata": {},
   "source": [
    "3. Raise:-\n",
    "    The raise statement allows you to manually raise an exception in your code. This can be useful for enforcing certain conditions or for custom error handling."
   ]
  },
  {
   "cell_type": "code",
   "execution_count": 6,
   "id": "6dd29d87-f3ed-4a66-8809-628413db8a5d",
   "metadata": {},
   "outputs": [
    {
     "name": "stdout",
     "output_type": "stream",
     "text": [
      "The age is 25\n",
      "Error: Age cannot be negative.\n"
     ]
    }
   ],
   "source": [
    "# CODE:-\n",
    "def check_age(age):\n",
    "    if age < 0:\n",
    "        raise ValueError(\"Age cannot be negative.\")\n",
    "    else:\n",
    "        print(f\"The age is {age}\")\n",
    "check_age(25)\n",
    "try:\n",
    "    check_age(-5)\n",
    "except ValueError as e:\n",
    "    print(f\"Error: {e}\")\n",
    "\n"
   ]
  },
  {
   "cell_type": "markdown",
   "id": "26855315-f926-41f0-9d45-06b43332f5a7",
   "metadata": {},
   "source": [
    "Q5. What are the custom exception in Python? Why we need custom exception?"
   ]
  },
  {
   "cell_type": "markdown",
   "id": "5e1a76a1-23fd-4000-9038-5f44179b4994",
   "metadata": {},
   "source": [
    "ANS_5:-\n",
    "\n",
    "Custom exceptions in Python are user-defined exceptions that extend the standard exception classes to provide more specific error handling. By creating custom exceptions, you can make your code more readable, organized, and easier to debug. They allow you to clearly signal and handle specific error conditions that are relevant to the application domain.\n",
    "\n",
    "1. Clarity and Specificity: Custom exceptions provide clarity by allowing you to define and handle specific error conditions that are unique to your application. This makes your code more understandable and maintainable.\n",
    "\n",
    "2. Better Error Handling: Custom exceptions help you manage errors more precisely, ensuring that different types of errors are handled appropriately.\n",
    "\n",
    "3. Separation of Concerns: By defining custom exceptions, you can separate error handling logic from the main business logic of your application, leading to cleaner and more modular code.\n",
    "\n",
    "4. Improved Debugging: Custom exceptions can include more detailed error messages and additional context, making it easier to diagnose and fix issues."
   ]
  },
  {
   "cell_type": "markdown",
   "id": "a3e36425-d171-4e1f-8b2d-8e548d14209d",
   "metadata": {},
   "source": [
    "Q6.Create custom exception in python? Use this class to handle an exception?"
   ]
  },
  {
   "cell_type": "code",
   "execution_count": 9,
   "id": "305a531c-d06f-41f7-bcf1-e67b332eb81e",
   "metadata": {},
   "outputs": [
    {
     "name": "stdout",
     "output_type": "stream",
     "text": [
      "Error: Value is too high\n",
      "Error: Value is too low\n",
      "Value 50 is within the acceptable range.\n"
     ]
    }
   ],
   "source": [
    "# CODE:-\n",
    "\n",
    "class CustomError(Exception):\n",
    "    pass\n",
    "\n",
    "class ValueTooHighError(CustomError):\n",
    "    def __init__(self, value, message=\"Value is too high\"):\n",
    "        self.value = value\n",
    "        self.message = message\n",
    "        super().__init__(self.message)\n",
    "\n",
    "class ValueTooLowError(CustomError):\n",
    "    def __init__(self, value, message=\"Value is too low\"):\n",
    "        self.value = value\n",
    "        self.message = message\n",
    "        super().__init__(self.message)\n",
    "\n",
    "def check_value(value):\n",
    "    if value > 100:\n",
    "        raise ValueTooHighError(value)\n",
    "    elif value < 1:\n",
    "        raise ValueTooLowError(value)\n",
    "    else:\n",
    "        print(f\"Value {value} is within the acceptable range.\")\n",
    "try:\n",
    "    check_value(150)\n",
    "except ValueTooHighError as e:\n",
    "    print(f\"Error: {e}\")\n",
    "except ValueTooLowError as e:\n",
    "    print(f\"Error: {e}\")\n",
    "\n",
    "try:\n",
    "    check_value(-5)\n",
    "except ValueTooHighError as e:\n",
    "    print(f\"Error: {e}\")\n",
    "except ValueTooLowError as e:\n",
    "    print(f\"Error: {e}\")\n",
    "\n",
    "try:\n",
    "    check_value(50)\n",
    "except ValueTooHighError as e:\n",
    "    print(f\"Error: {e}\")\n",
    "except ValueTooLowError as e:\n",
    "    print(f\"Error: {e}\")\n"
   ]
  },
  {
   "cell_type": "code",
   "execution_count": null,
   "id": "71d7f2b5-0084-4e4b-a83a-5e31c3dc18ab",
   "metadata": {},
   "outputs": [],
   "source": []
  }
 ],
 "metadata": {
  "kernelspec": {
   "display_name": "Python 3 (ipykernel)",
   "language": "python",
   "name": "python3"
  },
  "language_info": {
   "codemirror_mode": {
    "name": "ipython",
    "version": 3
   },
   "file_extension": ".py",
   "mimetype": "text/x-python",
   "name": "python",
   "nbconvert_exporter": "python",
   "pygments_lexer": "ipython3",
   "version": "3.10.8"
  }
 },
 "nbformat": 4,
 "nbformat_minor": 5
}
