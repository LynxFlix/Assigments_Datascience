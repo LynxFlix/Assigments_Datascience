{
 "cells": [
  {
   "cell_type": "markdown",
   "id": "426bf1e1-3071-4a8c-8e75-68f75604ef06",
   "metadata": {},
   "source": [
    "Q1. Which function is used to open a file? What are the different modes of opening a file? Explain each mode\n",
    "of file opening."
   ]
  },
  {
   "cell_type": "markdown",
   "id": "a3d11756-85a2-4dc0-9c29-91fc66261bd0",
   "metadata": {},
   "source": [
    "ANS_1:-\n",
    "\n",
    "In Python, the open() function is used to open a file. This function returns a file object and is most commonly used with two arguments: the name of the file and the mode in which the file is to be opened.\n",
    "\n",
    "-> Different Modes of Opening a File\n",
    "1. 'r' - Read Mode:\n",
    "\n",
    "   Opens the file for reading only.\n",
    "   \n",
    "2. 'w' - Write Mode:\n",
    "\n",
    "    Opens the file for writing only.\n",
    "    \n",
    "    The file pointer is placed at the beginning of the file, and the file is truncated to zero length. \n",
    "    \n",
    "3. 'a' - Append Mode:\n",
    "\n",
    "    Opens the file for writing only.\n",
    "    \n",
    "    The file pointer is placed at the end of the file.\n",
    "    \n",
    "4. 'x' - Exclusive Creation Mode:\n",
    "\n",
    "    Creates a new file and opens it for writing only.\n",
    "    If the file already exists, a FileExistsError is raised.\n",
    "\n"
   ]
  },
  {
   "cell_type": "markdown",
   "id": "25ceea05-989d-4614-a845-3547d770921c",
   "metadata": {},
   "source": [
    "Q2. Why close() function is used? Why is it important to close a file?"
   ]
  },
  {
   "cell_type": "markdown",
   "id": "09464c63-f4cf-427b-9789-c433a0355fcd",
   "metadata": {},
   "source": [
    "ANS_2:-\n",
    "\n",
    "\n",
    "The close() function is used to close an open file in Python. It is an important function for several reasons:\n",
    "\n",
    "1. Release Resources:\n",
    "\n",
    "    When you open a file, the operating system allocates resources to handle the file. The close() function releases these resources once you are done with the file operations.\n",
    "\n",
    "2. Flush Data:\n",
    "\n",
    "    Closing a file ensures that any data buffered in memory is written to the file. This is crucial when writing to a file because it guarantees that all your data is saved properly.\n",
    "    \n",
    "3. Prevent Data Corruption:\n",
    "\n",
    "    If a file is not closed properly, it can lead to data corruption. This is because the file might still be in use or in an inconsistent state when the program terminates or the file is accessed again.\n"
   ]
  },
  {
   "cell_type": "markdown",
   "id": "e315aed3-6868-496d-979f-b5bba2537122",
   "metadata": {},
   "source": [
    "Q3. Write a python program to create a text file. Write ‘I want to become a Data Scientist’ in that file. Then\n",
    "close the file. Open this file and read the content of the file."
   ]
  },
  {
   "cell_type": "markdown",
   "id": "bb675582-c8a9-49d3-b952-3d0532cdf1d4",
   "metadata": {},
   "source": [
    "ANS_3:-"
   ]
  },
  {
   "cell_type": "code",
   "execution_count": 1,
   "id": "6a08188c-7c1e-4a43-a8af-8e7c72f57708",
   "metadata": {},
   "outputs": [
    {
     "name": "stdout",
     "output_type": "stream",
     "text": [
      "I want to become a Data Scientist\n"
     ]
    }
   ],
   "source": [
    "# CODE:-\n",
    "# Step 1: Create a text file and write to it\n",
    "with open('data_scientist.txt', 'w') as file:\n",
    "    file.write('I want to become a Data Scientist')\n",
    "\n",
    "# Step 2: Open the file and read its content\n",
    "with open('data_scientist.txt', 'r') as file:\n",
    "    content = file.read()\n",
    "    print(content)\n"
   ]
  },
  {
   "cell_type": "markdown",
   "id": "bf3320b6-972c-46b5-b94c-c475b3a3d56d",
   "metadata": {},
   "source": [
    "Q4. Explain the following with python code: read(), readline() and readlines()."
   ]
  },
  {
   "cell_type": "markdown",
   "id": "d80d63b2-7c95-4c7d-82dd-9c744285eaa3",
   "metadata": {},
   "source": [
    "ANS_4:- \n",
    "\n",
    "\n",
    "The read(), readline(), and readlines() methods in Python are used to read content from a file, but they do so in different ways.\n",
    "\n",
    "1. read()\n",
    "    The read():-Method reads the entire content of the file as a single string.\n"
   ]
  },
  {
   "cell_type": "code",
   "execution_count": 2,
   "id": "f2ea2011-2307-4196-899f-7b0de45c67c2",
   "metadata": {},
   "outputs": [
    {
     "name": "stdout",
     "output_type": "stream",
     "text": [
      "Using read():\n",
      "Hello, world!\n",
      "Welcome to Python file handling.\n",
      "Enjoy coding!\n"
     ]
    }
   ],
   "source": [
    "# CODE:\n",
    "with open('example.txt', 'w') as file:\n",
    "    file.write('Hello, world!\\nWelcome to Python file handling.\\nEnjoy coding!')\n",
    "\n",
    "with open('example.txt', 'r') as file:\n",
    "    content = file.read()\n",
    "    print('Using read():')\n",
    "    print(content)\n"
   ]
  },
  {
   "cell_type": "markdown",
   "id": "5d7a9f41-73cb-4d73-af31-13ec085b6021",
   "metadata": {},
   "source": [
    "2. readline():- The readline() method reads one line from the file at a time.\n"
   ]
  },
  {
   "cell_type": "code",
   "execution_count": 4,
   "id": "cca4c99d-0a6f-4585-9dd1-7af5a9772ca8",
   "metadata": {},
   "outputs": [
    {
     "name": "stdout",
     "output_type": "stream",
     "text": [
      "Using readline():\n",
      "Hello, world!\n",
      "Welcome to Python file handling.\n"
     ]
    }
   ],
   "source": [
    "# CODE:-\n",
    "\n",
    "with open('example.txt', 'r') as file:\n",
    "    print('Using readline():')\n",
    "    line1 = file.readline()\n",
    "    print(line1, end='')\n",
    "    line2 = file.readline()\n",
    "    print(line2, end='')\n"
   ]
  },
  {
   "cell_type": "markdown",
   "id": "557d3009-0f6a-4a77-a1ac-687d7bf9b37e",
   "metadata": {},
   "source": [
    "3. readlines():- The readlines() method reads all the lines of a file into a list, where each element is a line from the file."
   ]
  },
  {
   "cell_type": "code",
   "execution_count": 5,
   "id": "6dd29d87-f3ed-4a66-8809-628413db8a5d",
   "metadata": {},
   "outputs": [
    {
     "name": "stdout",
     "output_type": "stream",
     "text": [
      "Using readlines():\n",
      "['Hello, world!\\n', 'Welcome to Python file handling.\\n', 'Enjoy coding!']\n"
     ]
    }
   ],
   "source": [
    "# CODE:-\n",
    "with open('example.txt', 'r') as file:\n",
    "    lines = file.readlines()\n",
    "    print('Using readlines():')\n",
    "    print(lines)\n"
   ]
  },
  {
   "cell_type": "markdown",
   "id": "26855315-f926-41f0-9d45-06b43332f5a7",
   "metadata": {},
   "source": [
    "Q5. Explain why with statement is used with open(). What is the advantage of using with statement and\n",
    "open() together?"
   ]
  },
  {
   "cell_type": "markdown",
   "id": "5e1a76a1-23fd-4000-9038-5f44179b4994",
   "metadata": {},
   "source": [
    "ANS_5:-\n",
    "\n",
    "The with statement is used in Python to wrap the execution of a block of code. It is often used with the open() function when working with files. This combination provides a clean and efficient way to handle file operations, ensuring that resources are properly managed.\n",
    "\n",
    "-> Automatic Resource Management:\n",
    "The with statement ensures that the file is properly closed after its suite finishes, even if an exception is raised at some point.\n",
    "This automatic management of resources helps prevent resource leaks and makes the code more robust.\n",
    "\n",
    "-> Cleaner Syntax:\n",
    "Using with results in cleaner and more readable code. You don't need to explicitly call the close() method, which reduces the chances of forgetting to close the file.\n",
    "The file object is only accessible within the block of the with statement, which limits its scope and makes the code easier to understand.\n",
    "\n",
    "-> Exception Handling:\n",
    "The with statement simplifies exception handling by ensuring that the file is closed if an error occurs during file operations.\n",
    "\n",
    "::Advantages of Using with Statement with open():\n",
    "\n",
    "->Automatic Cleanup:- Ensures that the file is closed automatically after the block of code is executed, even if an exception is raised.\n",
    "\n",
    "->Simplified Code:- Reduces the amount of boilerplate code and makes the code cleaner and easier to read.\n",
    "\n",
    "->Error Handling:- Automatically handles exceptions, ensuring that resources are released properly.\n"
   ]
  },
  {
   "cell_type": "markdown",
   "id": "a3e36425-d171-4e1f-8b2d-8e548d14209d",
   "metadata": {},
   "source": [
    "Q6. Explain the write() and writelines() functions. Give a suitable example."
   ]
  },
  {
   "cell_type": "markdown",
   "id": "59aa51ab-d5bd-4899-b481-d30d8fe21eaf",
   "metadata": {},
   "source": [
    "ANS_6:-\n",
    "In Python, the write() and writelines() functions are used to write content to a file. Both methods are part of the file object and are used for different types of writing operations.\n",
    "\n",
    "1. write()\n",
    "    The write() function writes a single string to the file. This can include plain text, numbers converted to strings, or any other data that can be represented as a string."
   ]
  },
  {
   "cell_type": "code",
   "execution_count": 7,
   "id": "f074b2fc-09dc-4934-934d-4a83ead62232",
   "metadata": {},
   "outputs": [
    {
     "name": "stdout",
     "output_type": "stream",
     "text": [
      "Hello, world!\n",
      "Welcome to Python file handling.\n",
      "\n"
     ]
    }
   ],
   "source": [
    "# CODE:-\n",
    "with open('example.txt', 'w') as file:\n",
    "    file.write('Hello, world!\\n')\n",
    "    file.write('Welcome to Python file handling.\\n')\n",
    "    \n",
    "\n",
    "with open('example.txt', 'r') as file:\n",
    "    content = file.read()\n",
    "    print(content)\n"
   ]
  },
  {
   "cell_type": "markdown",
   "id": "2fd61666-d58f-4fbe-9b56-cd375f1c9cbe",
   "metadata": {},
   "source": [
    "2. writelines()\n",
    "    The writelines() function writes a list of strings to the file. Unlike write(), it does not add any newline characters by default, so you must include them if needed."
   ]
  },
  {
   "cell_type": "code",
   "execution_count": 10,
   "id": "e1905630-51f6-4df9-9676-d2980b94dc60",
   "metadata": {},
   "outputs": [
    {
     "name": "stdout",
     "output_type": "stream",
     "text": [
      "Hello, world!\n",
      "Welcome to Python file handling.\n",
      "\n"
     ]
    }
   ],
   "source": [
    "# CODE:-\n",
    "\n",
    "with open('example.txt', 'w') as file:\n",
    "    lines = [\n",
    "        'Hello, world!\\n',\n",
    "        'Welcome to Python file handling.\\n',\n",
    "    ]\n",
    "    file.writelines(lines)\n",
    "\n",
    "with open('example.txt', 'r') as file:\n",
    "    content = file.read()\n",
    "    print(content)\n"
   ]
  },
  {
   "cell_type": "code",
   "execution_count": null,
   "id": "71d7f2b5-0084-4e4b-a83a-5e31c3dc18ab",
   "metadata": {},
   "outputs": [],
   "source": []
  }
 ],
 "metadata": {
  "kernelspec": {
   "display_name": "Python 3 (ipykernel)",
   "language": "python",
   "name": "python3"
  },
  "language_info": {
   "codemirror_mode": {
    "name": "ipython",
    "version": 3
   },
   "file_extension": ".py",
   "mimetype": "text/x-python",
   "name": "python",
   "nbconvert_exporter": "python",
   "pygments_lexer": "ipython3",
   "version": "3.10.8"
  }
 },
 "nbformat": 4,
 "nbformat_minor": 5
}
