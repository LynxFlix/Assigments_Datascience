{
 "cells": [
  {
   "cell_type": "markdown",
   "id": "d8034c1e-2407-4f77-9528-98f8853ef29b",
   "metadata": {},
   "source": [
    "Q1. List any five functions of the pandas library with execution."
   ]
  },
  {
   "cell_type": "markdown",
   "id": "261b1587-533d-425d-9df7-e795bfd3c3f0",
   "metadata": {},
   "source": [
    "ANS_1:- \n",
    "\n",
    "1. head(): Returns the first n rows of the DataFrame.\n"
   ]
  },
  {
   "cell_type": "code",
   "execution_count": 10,
   "id": "99794827-92a4-437c-af28-cda1dd4c4934",
   "metadata": {},
   "outputs": [
    {
     "name": "stdout",
     "output_type": "stream",
     "text": [
      "First 3 rows of the DataFrame:\n",
      "      Name  Age Gender\n",
      "0    Alice   25      F\n",
      "1      Bob   30      M\n",
      "2  Charlie   35      M\n"
     ]
    }
   ],
   "source": [
    "import pandas as pd\n",
    "\n",
    "data = {\n",
    "    'Name': ['Alice', 'Bob', 'Charlie', 'David', 'Eva'],\n",
    "    'Age': [25, 30, 35, 40, 45],\n",
    "    'Gender': ['F', 'M', 'M', 'M', 'F']\n",
    "}\n",
    "\n",
    "df = pd.DataFrame(data)\n",
    "print(\"First 3 rows of the DataFrame:\")\n",
    "print(df.head(3))\n"
   ]
  },
  {
   "cell_type": "markdown",
   "id": "56378f9b-7371-4ba9-801b-c75a462dcf94",
   "metadata": {},
   "source": [
    "2. describe(): Generates descriptive statistics of the DataFrame."
   ]
  },
  {
   "cell_type": "code",
   "execution_count": 12,
   "id": "eaad3a41-5ae8-4238-874a-03fff737ab9d",
   "metadata": {},
   "outputs": [
    {
     "name": "stdout",
     "output_type": "stream",
     "text": [
      "Descriptive statistics of the DataFrame:\n",
      "             Age\n",
      "count   5.000000\n",
      "mean   35.000000\n",
      "std     7.905694\n",
      "min    25.000000\n",
      "25%    30.000000\n",
      "50%    35.000000\n",
      "75%    40.000000\n",
      "max    45.000000\n"
     ]
    }
   ],
   "source": [
    "print(\"Descriptive statistics of the DataFrame:\")\n",
    "print(df.describe())"
   ]
  },
  {
   "cell_type": "markdown",
   "id": "9b53991c-0f5c-4929-a5f8-5e07cc756972",
   "metadata": {},
   "source": [
    "3. info(): Displays a concise summary of the DataFrame."
   ]
  },
  {
   "cell_type": "code",
   "execution_count": 13,
   "id": "6fdfbd76-97d4-45a1-ad42-0148523091d0",
   "metadata": {},
   "outputs": [
    {
     "name": "stdout",
     "output_type": "stream",
     "text": [
      "Info of the DataFrame:\n",
      "<class 'pandas.core.frame.DataFrame'>\n",
      "RangeIndex: 5 entries, 0 to 4\n",
      "Data columns (total 3 columns):\n",
      " #   Column  Non-Null Count  Dtype \n",
      "---  ------  --------------  ----- \n",
      " 0   Name    5 non-null      object\n",
      " 1   Age     5 non-null      int64 \n",
      " 2   Gender  5 non-null      object\n",
      "dtypes: int64(1), object(2)\n",
      "memory usage: 248.0+ bytes\n"
     ]
    }
   ],
   "source": [
    "print(\"Info of the DataFrame:\")\n",
    "df.info()"
   ]
  },
  {
   "cell_type": "markdown",
   "id": "efe92b3f-9cb7-46a4-9595-3378fd9a1880",
   "metadata": {},
   "source": [
    "4. drop(): Removes rows or columns by specifying label names and the corresponding axis."
   ]
  },
  {
   "cell_type": "code",
   "execution_count": 14,
   "id": "be8e9e7a-c02b-4140-9725-d087436b402a",
   "metadata": {},
   "outputs": [
    {
     "name": "stdout",
     "output_type": "stream",
     "text": [
      "DataFrame after dropping the 'Gender' column:\n",
      "      Name  Age\n",
      "0    Alice   25\n",
      "1      Bob   30\n",
      "2  Charlie   35\n",
      "3    David   40\n",
      "4      Eva   45\n"
     ]
    }
   ],
   "source": [
    "df_dropped = df.drop(columns=['Gender'])\n",
    "print(\"DataFrame after dropping the 'Gender' column:\")\n",
    "print(df_dropped)"
   ]
  },
  {
   "cell_type": "markdown",
   "id": "01f49227-3dfc-403d-9744-3149f80b1124",
   "metadata": {},
   "source": [
    "5. sort_values(): Sorts the DataFrame by the values of specified columns."
   ]
  },
  {
   "cell_type": "code",
   "execution_count": 15,
   "id": "b79ecaa7-562d-436a-9070-5cd6f7084c67",
   "metadata": {},
   "outputs": [
    {
     "name": "stdout",
     "output_type": "stream",
     "text": [
      "DataFrame sorted by 'Age':\n",
      "      Name  Age Gender\n",
      "0    Alice   25      F\n",
      "1      Bob   30      M\n",
      "2  Charlie   35      M\n",
      "3    David   40      M\n",
      "4      Eva   45      F\n"
     ]
    }
   ],
   "source": [
    "df_sorted = df.sort_values(by='Age')\n",
    "print(\"DataFrame sorted by 'Age':\")\n",
    "print(df_sorted)"
   ]
  },
  {
   "cell_type": "markdown",
   "id": "fdbeb621-6f9f-40cf-9b4d-c01a823d5ad1",
   "metadata": {},
   "source": [
    "Q2. Given a Pandas DataFrame df with columns 'A', 'B', and 'C', write a Python function to re-index the\n",
    "DataFrame with a new index that starts from 1 and increments by 2 for each row."
   ]
  },
  {
   "cell_type": "markdown",
   "id": "357f3583-b69b-4b1a-a350-51a54d68c4b1",
   "metadata": {},
   "source": [
    "ANS_2:- "
   ]
  },
  {
   "cell_type": "code",
   "execution_count": 16,
   "id": "25260a1b-88de-43e1-9f42-58011d62e6f2",
   "metadata": {},
   "outputs": [
    {
     "name": "stdout",
     "output_type": "stream",
     "text": [
      "     A    B    C\n",
      "1  100  450  770\n",
      "3  200  550  880\n",
      "5  300  650  990\n"
     ]
    }
   ],
   "source": [
    "import pandas as pd\n",
    "\n",
    "def reindex_dataframe(df):\n",
    "    new_index = range(1, 2 * len(df) + 1, 2)\n",
    "    df.index = new_index\n",
    "    return df\n",
    "data = {\n",
    "    'A': [100, 200, 300],\n",
    "    'B': [450, 550, 650],\n",
    "    'C': [770, 880, 990]\n",
    "}\n",
    "\n",
    "df = pd.DataFrame(data)\n",
    "df_reindexed = reindex_dataframe(df)\n",
    "print(df_reindexed)\n"
   ]
  },
  {
   "cell_type": "markdown",
   "id": "d0805319-2d38-45f9-a92a-aba3f8a78631",
   "metadata": {},
   "source": [
    "Q3. You have a Pandas DataFrame df with a column named 'Values'. Write a Python function that\n",
    "iterates over the DataFrame and calculates the sum of the first three values in the 'Values' column. The\n",
    "function should print the sum to the console."
   ]
  },
  {
   "cell_type": "markdown",
   "id": "cb939c0a-6a62-497c-9a15-bd96b9a5098b",
   "metadata": {},
   "source": [
    "ANS_3:-\n"
   ]
  },
  {
   "cell_type": "code",
   "execution_count": 17,
   "id": "cd2c0593-025b-47de-8020-276076e237f9",
   "metadata": {},
   "outputs": [
    {
     "name": "stdout",
     "output_type": "stream",
     "text": [
      "The sum of the first three values is: 600\n"
     ]
    }
   ],
   "source": [
    "import pandas as pd\n",
    "\n",
    "def sum_first_three_values(df):\n",
    "    sum_values = df['Values'].head(3).sum()\n",
    "    \n",
    "    print(f\"The sum of the first three values is: {sum_values}\")\n",
    "\n",
    "data = {\n",
    "    'Values': [100, 200, 300, 400, 500]\n",
    "}\n",
    "\n",
    "df = pd.DataFrame(data)\n",
    "\n",
    "sum_first_three_values(df)\n"
   ]
  },
  {
   "cell_type": "markdown",
   "id": "2f4c765a-a315-4cc2-b5f0-f7a47646342e",
   "metadata": {},
   "source": [
    "Q4. Given a Pandas DataFrame df with a column 'Text', write a Python function to create a new column\n",
    "'Word_Count' that contains the number of words in each row of the 'Text' column."
   ]
  },
  {
   "cell_type": "markdown",
   "id": "1e4d2851-deb6-4efb-bac9-64228234016c",
   "metadata": {},
   "source": [
    "ANS_4:-"
   ]
  },
  {
   "cell_type": "code",
   "execution_count": 18,
   "id": "8027e7dd-07a9-48e5-a214-d39a3481f50f",
   "metadata": {},
   "outputs": [
    {
     "name": "stdout",
     "output_type": "stream",
     "text": [
      "                 Text  Word_Count\n",
      "0         Hello world           2\n",
      "1     Pandas is great           3\n",
      "2  Python programming           2\n",
      "3       Data analysis           2\n"
     ]
    }
   ],
   "source": [
    "import pandas as pd\n",
    "\n",
    "data = {\n",
    "    'Text': ['Hello world', 'Pandas is great', 'Python programming', 'Data analysis']\n",
    "}\n",
    "\n",
    "df = pd.DataFrame(data)\n",
    "df['Word_Count'] = df['Text'].str.split().str.len()\n",
    "print(df)\n"
   ]
  },
  {
   "cell_type": "markdown",
   "id": "da476197-2beb-4f67-b349-6d7bb3addf78",
   "metadata": {},
   "source": [
    "Q5. How are DataFrame.size() and DataFrame.shape() different?"
   ]
  },
  {
   "cell_type": "markdown",
   "id": "886cebf9-2dfa-416e-bd3a-86d7e7ae4130",
   "metadata": {},
   "source": [
    "ANS_5:-\n",
    "\n",
    "DataFrame.size and DataFrame.shape are two attributes of a Pandas DataFrame that provide information about the DataFrame's dimensions, but they convey different aspects:\n",
    "\n",
    "-> DataFrame.size:-\n",
    "\n",
    "    1. Definition: The size attribute returns the total number of elements in the DataFrame.\n",
    "    2. Calculation: It is the product of the number of rows and columns in the DataFrame.\n",
    "    3. Usage: Useful when you need to know the total number of elements regardless of the DataFrame's dimensions.\n",
    "\n",
    "->DataFrame.shape\n",
    "\n",
    "    1. Definition: The shape attribute returns a tuple representing the dimensions of the DataFrame.\n",
    "    2. Calculation: It provides the number of rows and columns in the DataFrame.\n",
    "    3. Usage: Useful for quickly obtaining the dimensions of the DataFrame."
   ]
  },
  {
   "cell_type": "markdown",
   "id": "26b00d9c-75c7-4267-a95b-93d0034a866b",
   "metadata": {},
   "source": [
    "Q6. Which function of pandas do we use to read an excel file?"
   ]
  },
  {
   "cell_type": "markdown",
   "id": "a22347a9-d83c-4716-a12b-cd3a2faccbf6",
   "metadata": {},
   "source": [
    "ANS_6:-\n",
    "\n",
    "To read an Excel file into a Pandas DataFrame, you use the pd.read_excel() function. This function allows you to load data from Excel files (both .xls and .xlsx formats) into a DataFrame.\n",
    "\n",
    "#CODE\n",
    "\n",
    "import pandas as pd\n",
    "\n",
    "df = pd.read_excel('path/to/your/file.xlsx')\n",
    "\n",
    "print(df)\n"
   ]
  },
  {
   "cell_type": "markdown",
   "id": "587be9ff-1f9a-4f38-8777-00f00224f835",
   "metadata": {},
   "source": [
    "Q7. You have a Pandas DataFrame df that contains a column named 'Email' that contains email\n",
    "addresses in the format 'username@domain.com'. Write a Python function that creates a new column\n",
    "'Username' in df that contains only the username part of each email address.\n",
    "The username is the part of the email address that appears before the '@' symbol. For example, if the\n",
    "email address is 'john.doe@example.com', the 'Username' column should contain 'john.doe'. Your\n",
    "function should extract the username from each email address and store it in the new 'Username'\n",
    "column."
   ]
  },
  {
   "cell_type": "markdown",
   "id": "166cf284-30cc-43fb-b4b5-aeb86f4e946d",
   "metadata": {},
   "source": [
    "ANS_7:-"
   ]
  },
  {
   "cell_type": "code",
   "execution_count": 20,
   "id": "a8612b7d-0203-4e51-9847-9610050d3934",
   "metadata": {},
   "outputs": [
    {
     "name": "stdout",
     "output_type": "stream",
     "text": [
      "                   Email    Username\n",
      "0   john.doe@example.com    john.doe\n",
      "1  jane.smith@domain.com  jane.smith\n",
      "2  bob.jones@another.com   bob.jones\n"
     ]
    }
   ],
   "source": [
    "import pandas as pd\n",
    "\n",
    "def extract_username(df):\n",
    "    df['Username'] = df['Email'].str.split('@').str[0]\n",
    "    return df\n",
    "data = {\n",
    "    'Email': ['john.doe@example.com', 'jane.smith@domain.com', 'bob.jones@another.com']\n",
    "}\n",
    "\n",
    "df = pd.DataFrame(data)\n",
    "df = extract_username(df)\n",
    "print(df)\n"
   ]
  },
  {
   "cell_type": "markdown",
   "id": "cf4840c4-2742-4790-b83e-902cad225f7b",
   "metadata": {},
   "source": [
    "Q8. You have a Pandas DataFrame df with columns 'A', 'B', and 'C'. Write a Python function that selects\n",
    "all rows where the value in column 'A' is greater than 5 and the value in column 'B' is less than 10. The\n",
    "function should return a new DataFrame that contains only the selected rows."
   ]
  },
  {
   "cell_type": "markdown",
   "id": "979f8d19-8196-434a-90c2-3d0608fe5953",
   "metadata": {},
   "source": [
    "ANS_8:-"
   ]
  },
  {
   "cell_type": "code",
   "execution_count": 21,
   "id": "1d756fdd-466b-485f-9590-649734918c59",
   "metadata": {},
   "outputs": [
    {
     "name": "stdout",
     "output_type": "stream",
     "text": [
      "   A  B  C\n",
      "1  8  5  7\n",
      "2  6  9  4\n",
      "4  9  1  2\n"
     ]
    }
   ],
   "source": [
    "import pandas as pd\n",
    "\n",
    "def filter_rows(df):\n",
    "    filtered_df = df[(df['A'] > 5) & (df['B'] < 10)]\n",
    "    return filtered_df\n",
    "\n",
    "data = {\n",
    "    'A': [3,8,6,2,9],\n",
    "    'B': [3,5,9,3,1],\n",
    "    'C': [1,7,4,5,2]\n",
    "}\n",
    "\n",
    "df = pd.DataFrame(data)\n",
    "filtered_df = filter_rows(df)\n",
    "print(filtered_df)\n"
   ]
  },
  {
   "cell_type": "markdown",
   "id": "3ff9d337-0103-4099-bead-2aaf674411b1",
   "metadata": {},
   "source": [
    "Q9. Given a Pandas DataFrame df with a column 'Values', write a Python function to calculate the mean,\n",
    "median, and standard deviation of the values in the 'Values' column."
   ]
  },
  {
   "cell_type": "markdown",
   "id": "cf9a5f60-e0e1-4bba-b5c2-4128689daeb9",
   "metadata": {},
   "source": [
    "ANS_9:-"
   ]
  },
  {
   "cell_type": "code",
   "execution_count": 23,
   "id": "2cb2c588-e385-4a1a-b07c-08001e9bd857",
   "metadata": {},
   "outputs": [
    {
     "name": "stdout",
     "output_type": "stream",
     "text": [
      "Mean: 30.0\n",
      "Median: 30.0\n",
      "Standard Deviation: 15.811388300841896\n"
     ]
    }
   ],
   "source": [
    "import pandas as pd\n",
    "\n",
    "def calculate_statistics(df):\n",
    "    mean_value = df['Values'].mean()\n",
    "    median_value = df['Values'].median()\n",
    "    std_dev_value = df['Values'].std()\n",
    "    \n",
    "    \n",
    "    print(f\"Mean: {mean_value}\")\n",
    "    print(f\"Median: {median_value}\")\n",
    "    print(f\"Standard Deviation: {std_dev_value}\")\n",
    "\n",
    "data = {\n",
    "    'Values': [10, 20, 30, 40, 50]\n",
    "}\n",
    "\n",
    "df = pd.DataFrame(data)\n",
    "\n",
    "calculate_statistics(df)\n"
   ]
  },
  {
   "cell_type": "markdown",
   "id": "1faf7ed3-88e8-47d0-9b7e-eadf4cebdd43",
   "metadata": {},
   "source": [
    "Q10. Given a Pandas DataFrame df with a column 'Sales' and a column 'Date', write a Python function to\n",
    "create a new column 'MovingAverage' that contains the moving average of the sales for the past 7 days\n",
    "for each row in the DataFrame. The moving average should be calculated using a window of size 7 and\n",
    "should include the current day."
   ]
  },
  {
   "cell_type": "code",
   "execution_count": 25,
   "id": "189d3bce-950a-4214-903c-35d607f7b6cb",
   "metadata": {},
   "outputs": [
    {
     "name": "stdout",
     "output_type": "stream",
     "text": [
      "        Date  Sales  MovingAverage\n",
      "0 2024-01-01    100            NaN\n",
      "1 2024-01-02    120            NaN\n",
      "2 2024-01-03    130            NaN\n",
      "3 2024-01-04    140            NaN\n",
      "4 2024-01-05    150            NaN\n",
      "5 2024-01-06    160            NaN\n",
      "6 2024-01-07    170     138.571429\n",
      "7 2024-01-08    180     150.000000\n",
      "8 2024-01-09    190     160.000000\n",
      "9 2024-01-10    200     170.000000\n"
     ]
    }
   ],
   "source": [
    "import pandas as pd\n",
    "\n",
    "def add_moving_average(df):\n",
    "    df['MovingAverage'] = df['Sales'].rolling(window=7).mean()\n",
    "    return df\n",
    "\n",
    "data = {\n",
    "    'Date': pd.date_range(start='2024-01-01', periods=10, freq='D'),\n",
    "    'Sales': [100, 120, 130, 140, 150, 160, 170, 180, 190, 200]\n",
    "}\n",
    "\n",
    "df = pd.DataFrame(data)\n",
    "df = add_moving_average(df)\n",
    "\n",
    "print(df)\n"
   ]
  },
  {
   "cell_type": "markdown",
   "id": "b19de02a-cbfc-4908-b51d-5fa0717b49d9",
   "metadata": {},
   "source": [
    "Q11. You have a Pandas DataFrame df with a column 'Date'. Write a Python function that creates a new\n",
    "column 'Weekday' in the DataFrame. The 'Weekday' column should contain the weekday name (e.g.\n",
    "Monday, Tuesday) corresponding to each date in the 'Date' column."
   ]
  },
  {
   "cell_type": "code",
   "execution_count": 26,
   "id": "a8e24ec0-390e-4cd0-8521-1f8db763712b",
   "metadata": {},
   "outputs": [
    {
     "name": "stdout",
     "output_type": "stream",
     "text": [
      "        Date    Weekday\n",
      "0 2024-01-01     Monday\n",
      "1 2024-01-02    Tuesday\n",
      "2 2024-01-03  Wednesday\n",
      "3 2024-01-04   Thursday\n",
      "4 2024-01-05     Friday\n",
      "5 2024-01-06   Saturday\n",
      "6 2024-01-07     Sunday\n"
     ]
    }
   ],
   "source": [
    "import pandas as pd\n",
    "\n",
    "def add_weekday_column(df):\n",
    "    df['Date'] = pd.to_datetime(df['Date'])\n",
    "    df['Weekday'] = df['Date'].dt.day_name()\n",
    "    return df\n",
    "\n",
    "data = {\n",
    "    'Date': pd.date_range(start='2024-01-01', periods=7, freq='D')\n",
    "}\n",
    "df = pd.DataFrame(data)\n",
    "df = add_weekday_column(df)\n",
    "print(df)\n"
   ]
  },
  {
   "cell_type": "markdown",
   "id": "91778e96-d430-4461-b513-cc7c3cfdd662",
   "metadata": {},
   "source": [
    "Q12. Given a Pandas DataFrame df with a column 'Date' that contains timestamps, write a Python\n",
    "function to select all rows where the date is between '2023-01-01' and '2023-01-31'."
   ]
  },
  {
   "cell_type": "code",
   "execution_count": 27,
   "id": "e5473bca-9c8b-4667-a875-d9888cd7094c",
   "metadata": {},
   "outputs": [
    {
     "name": "stdout",
     "output_type": "stream",
     "text": [
      "         Date  Value\n",
      "7  2023-01-01      7\n",
      "8  2023-01-02      8\n",
      "9  2023-01-03      9\n",
      "10 2023-01-04     10\n",
      "11 2023-01-05     11\n",
      "12 2023-01-06     12\n",
      "13 2023-01-07     13\n",
      "14 2023-01-08     14\n",
      "15 2023-01-09     15\n",
      "16 2023-01-10     16\n",
      "17 2023-01-11     17\n",
      "18 2023-01-12     18\n",
      "19 2023-01-13     19\n",
      "20 2023-01-14     20\n",
      "21 2023-01-15     21\n",
      "22 2023-01-16     22\n",
      "23 2023-01-17     23\n",
      "24 2023-01-18     24\n",
      "25 2023-01-19     25\n",
      "26 2023-01-20     26\n",
      "27 2023-01-21     27\n",
      "28 2023-01-22     28\n",
      "29 2023-01-23     29\n",
      "30 2023-01-24     30\n",
      "31 2023-01-25     31\n",
      "32 2023-01-26     32\n",
      "33 2023-01-27     33\n",
      "34 2023-01-28     34\n",
      "35 2023-01-29     35\n",
      "36 2023-01-30     36\n",
      "37 2023-01-31     37\n"
     ]
    }
   ],
   "source": [
    "import pandas as pd\n",
    "\n",
    "def filter_dates(df):\n",
    "    df['Date'] = pd.to_datetime(df['Date'])\n",
    "    \n",
    "    start_date = '2023-01-01'\n",
    "    end_date = '2023-01-31'\n",
    "    \n",
    "    filtered_df = df[(df['Date'] >= start_date) & (df['Date'] <= end_date)]\n",
    "    \n",
    "    return filtered_df\n",
    "\n",
    "data = {\n",
    "    'Date': pd.date_range(start='2022-12-25', periods=40, freq='D'),\n",
    "    'Value': range(40)\n",
    "}\n",
    "\n",
    "df = pd.DataFrame(data)\n",
    "filtered_df = filter_dates(df)\n",
    "print(filtered_df)\n"
   ]
  },
  {
   "cell_type": "markdown",
   "id": "95f0f750-3694-43bc-9c6a-2b3ba97b3250",
   "metadata": {},
   "source": [
    "Q13. To use the basic functions of pandas, what is the first and foremost necessary library that needs to\n",
    "be imported?"
   ]
  },
  {
   "cell_type": "markdown",
   "id": "d2c7b99a-04c7-41c4-a630-bcb91d3fa37b",
   "metadata": {},
   "source": [
    "ANS_13:-\n",
    "\n",
    "To use the basic functions of Pandas, the first and foremost necessary library that needs to be imported is pandas itself. You typically import it with the alias pd, which is the conventional shorthand used in the Pandas community.\n",
    "\n",
    "CODE:-\n",
    "\n",
    "->  import pandas as pd\n",
    "\n",
    "By importing Pandas with import pandas as pd, you gain access to all the fundamental functions and classes provided by the library, such as pd.DataFrame(), pd.Series(), pd.read_csv(), and many others."
   ]
  },
  {
   "cell_type": "code",
   "execution_count": null,
   "id": "b5d95b3c-4b83-4609-aec8-9f4b29e2a50d",
   "metadata": {},
   "outputs": [],
   "source": []
  }
 ],
 "metadata": {
  "kernelspec": {
   "display_name": "Python 3 (ipykernel)",
   "language": "python",
   "name": "python3"
  },
  "language_info": {
   "codemirror_mode": {
    "name": "ipython",
    "version": 3
   },
   "file_extension": ".py",
   "mimetype": "text/x-python",
   "name": "python",
   "nbconvert_exporter": "python",
   "pygments_lexer": "ipython3",
   "version": "3.10.8"
  }
 },
 "nbformat": 4,
 "nbformat_minor": 5
}
