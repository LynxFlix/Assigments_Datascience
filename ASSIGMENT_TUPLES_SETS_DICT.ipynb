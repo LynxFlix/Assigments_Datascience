{
 "cells": [
  {
   "cell_type": "markdown",
   "id": "d8034c1e-2407-4f77-9528-98f8853ef29b",
   "metadata": {},
   "source": [
    "Q1. What are the characteristics of the tuples? Is tuple immutable?"
   ]
  },
  {
   "cell_type": "raw",
   "id": "c66e683e-56cb-43e7-97ce-2074ed4ee4f4",
   "metadata": {},
   "source": [
    "ANS_1:-  \n",
    "Tuples are a type of data structure in Python that have several distinct characteristics:\n",
    "\n",
    "Ordered: Tuples maintain the order of the elements as they are inserted. This means that the elements can be accessed using an index, with the first element being at index 0.\n",
    "\n",
    "Immutable: Once a tuple is created, its elements cannot be changed, added, or removed. This immutability is one of the key characteristics that differentiates tuples from lists.\n",
    "\n",
    "Heterogeneous: Tuples can store elements of different data types. For example, a tuple can contain integers, strings, and floats all at once.\n",
    "\n",
    "Hashable: Since tuples are immutable, they can be used as keys in dictionaries, unlike lists which are mutable and therefore unhashable."
   ]
  },
  {
   "cell_type": "markdown",
   "id": "fdbeb621-6f9f-40cf-9b4d-c01a823d5ad1",
   "metadata": {},
   "source": [
    "Q2. What are the two tuple methods in python? Give an example of each method. Give a reason why\n",
    "tuples have only two in-built methods as compared to Lists."
   ]
  },
  {
   "cell_type": "raw",
   "id": "2fada586-7e1c-42ac-bfa9-79208f69f625",
   "metadata": {},
   "source": [
    "ANS_2:- \n",
    "Tuples in Python have only two built-in methods:\n",
    "\n",
    "count(): This method returns the number of times a specified value appears in the tuple.\n",
    "index(): This method returns the index of the first occurrence of a specified value in the tuple.\n",
    "\n",
    "eg:-\n",
    "code count():-\n",
    "my_tuple = (1, 2, 3, 2, 2, 4)\n",
    "count_of_2 = my_tuple.count(2)\n",
    "print(count_of_2)  \n",
    "\n",
    "code index():-\n",
    "my_tuple = (1, 2, 3, 2, 4)\n",
    "index_of_3 = my_tuple.index(3)\n",
    "print(index_of_3)  # Output: 2\n",
    "\n",
    "Tuples have only two built-in methods mainly because of their immutability. Unlike lists, tuples cannot be modified after they are created. This limits the operations that can be performed on them, making many list methods inapplicable to tuples. Methods such as append(), extend(), remove(), and pop(), which modify the content or size of the data structure, are relevant for lists but not for tuples. Therefore, the two methods available for tuples are those that do not alter their content but rather provide information about their elements."
   ]
  },
  {
   "cell_type": "markdown",
   "id": "d0805319-2d38-45f9-a92a-aba3f8a78631",
   "metadata": {},
   "source": [
    "Q3. Which collection datatypes in python do not allow duplicate items? Write a code using a set to remove\n",
    "duplicates from the given list."
   ]
  },
  {
   "cell_type": "raw",
   "id": "7cec7972-6d93-4dbf-95ec-9cd6e1e6597a",
   "metadata": {},
   "source": [
    "ANS_3:-\n",
    "In Python, the collection datatype that does not allow duplicate items is the set. A set automatically removes any duplicate items when it is created or when items are added to it.\n",
    "\n",
    "Code:-\n",
    "\n",
    "\n",
    "my_list = [1, 1, 1, 2, 1, 3, 1, 4, 2, 1, 2, 2, 2, 3, 2, 4, 3, 1, 3, 2, 3, 3, 3, 4, 4, 1, 4, 2, 4, 3, 4, 4]\n",
    "\n",
    "my_set = set(my_list)\n",
    "\n",
    "unique_list = list(my_set)\n",
    "\n",
    "print(unique_list)  # Output: [1, 2, 3, 4]\n",
    "\n"
   ]
  },
  {
   "cell_type": "markdown",
   "id": "2f4c765a-a315-4cc2-b5f0-f7a47646342e",
   "metadata": {},
   "source": [
    "Q4. Explain the difference between the union() and update() methods for a set. Give an example of\n",
    "each method."
   ]
  },
  {
   "cell_type": "raw",
   "id": "15ed1390-41dc-405f-bb1c-9d5259f8fe02",
   "metadata": {},
   "source": [
    "ANS_4:-\n",
    "\n",
    "The union() and update() methods are used with sets in Python, but they serve different purposes and have different behaviors.\n",
    "\n",
    "1) UNION():-\n",
    "\n",
    "Purpose: The union() method returns a new set that contains all the elements from the original set and all the elements from the specified set(s).\n",
    "\n",
    "Behavior: It does not modify the original set but returns a new set with the combined elements.\n",
    "Syntax: set1.union(set2, set3, ...)\n",
    "\n",
    "eg:-\n",
    "\n",
    "set1 = {1, 2, 3}\n",
    "set2 = {3, 4, 5}\n",
    "\n",
    "result_set = set1.union(set2)\n",
    "\n",
    "print(result_set)  # Output: {1, 2, 3, 4, 5}\n",
    "print(set1)        # Output: {1, 2, 3} (original set1 remains unchanged)\n",
    "print(set2)        # Output: {3, 4, 5} (original set2 remains unchanged)\n",
    "\n",
    "2)Update():-\n",
    "\n",
    "Purpose: The update() method adds all the elements from the specified set(s) to the original set.\n",
    "Behavior: It modifies the original set in place by adding the elements from the specified set(s).\n",
    "Syntax: set1.update(set2, set3, ...)\n",
    "\n",
    "eg:-\n",
    "\n",
    "set1 = {1, 2, 3}\n",
    "set2 = {3, 4, 5}\n",
    "\n",
    "set1.update(set2)\n",
    "\n",
    "print(set1)  \n",
    "print(set2)  \n",
    "\n",
    "\n"
   ]
  },
  {
   "cell_type": "markdown",
   "id": "da476197-2beb-4f67-b349-6d7bb3addf78",
   "metadata": {},
   "source": [
    "Q5. What is a dictionary? Give an example. Also, state whether a dictionary is ordered or unordered.\n"
   ]
  },
  {
   "cell_type": "raw",
   "id": "b36c45b6-d791-4673-8cf5-7bb0f0c273a3",
   "metadata": {},
   "source": [
    "ANS_5:-\n",
    "\n",
    "A dictionary in Python is a collection of key-value pairs. Each key is unique and is used to access its corresponding value. Dictionaries are defined using curly braces {} and have the format key: value.\n",
    "\n",
    "eg:-\n",
    "\n",
    "\n",
    "my_dict = {\n",
    "    \"name\": \"Alice\",\n",
    "    \"age\": 25,\n",
    "    \"city\": \"New York\"\n",
    "}\n",
    "\n",
    "print(my_dict[\"name\"])  \n",
    "print(my_dict[\"age\"])   \n",
    "print(my_dict[\"city\"]) \n",
    "\n",
    "Order of a Dictionary:-Dictionaries in Python are ordered as of Python 3.7 and later, maintaining the insertion order of keys.\n"
   ]
  },
  {
   "cell_type": "markdown",
   "id": "ea91e9d3-dfe6-4e4c-b044-a5995329929e",
   "metadata": {},
   "source": [
    "Q6. Can we create a nested dictionary? If so, please give an example by creating a simple one-level\n",
    "nested dictionary."
   ]
  },
  {
   "cell_type": "raw",
   "id": "c8a79910-1396-4f15-80f9-f7b8097e2a62",
   "metadata": {},
   "source": [
    "ANS_6:-\n",
    "You can create nested dictionaries in Python. A nested dictionary is a dictionary where the value of one or more keys is itself another dictionary. This allows you to represent more complex data structures.\n",
    "\n",
    "EG:-\n",
    "\n",
    "nested_dict = {\n",
    "    \"student\": {\n",
    "        \"name\": \"John\",\n",
    "        \"age\": 21,\n",
    "        \"courses\": [\"Math\", \"Science\", \"History\"]\n",
    "    },\n",
    "    \"address\": {\n",
    "        \"city\": \"New York\",\n",
    "        \"zip\": \"10001\"\n",
    "    }\n",
    "}\n",
    "print(nested_dict[\"student\"][\"name\"])      # Output: John\n",
    "print(nested_dict[\"student\"][\"courses\"])   # Output: ['Math', 'Science', 'History']\n",
    "print(nested_dict[\"address\"][\"city\"])      # Output: New York\n",
    "\n",
    "\n"
   ]
  },
  {
   "cell_type": "markdown",
   "id": "3f619281-6578-4790-829f-2f1e87bac02d",
   "metadata": {},
   "source": [
    "Q7. Using setdefault() method, create key named topics in the given dictionary and also add the value of\n",
    "the key as this list ['Python', 'Machine Learning’, 'Deep Learning']"
   ]
  },
  {
   "cell_type": "raw",
   "id": "3c2817f0-09c4-4aed-94bb-90904105d163",
   "metadata": {},
   "source": [
    "ANS_7:-\n",
    "The setdefault() method in Python's dictionary is used to get the value of a specified key. If the key does not exist, it sets the key with a default value and then returns that value.\n",
    "\n",
    "Here’s how you can use setdefault() to create a key named topics in a dictionary and set its value to ['Python', 'Machine Learning', 'Deep Learning']:\n",
    "\n",
    "eg:-\n",
    "\n",
    "\n",
    "dict1 = {'language': 'Python', 'course': 'Data Science Masters'}\n",
    "dict1.setdefault('topics', ['Python', 'Machine Learning', 'Deep Learning'])\n",
    "print(dict1)\n",
    "\n",
    "\n",
    "Output:-\" {'language': 'Python','course': 'Data Science Masters','topics': ['Python', 'Machine Learning', 'Deep Learning'] }\"\n"
   ]
  },
  {
   "cell_type": "markdown",
   "id": "804e771e-e9ed-4e04-90a1-59a20f366898",
   "metadata": {},
   "source": [
    "Q8. What are the three view objects in dictionaries? Use the three in-built methods in python to display\n",
    "these three view objects for the given dictionary."
   ]
  },
  {
   "cell_type": "raw",
   "id": "a1f1571f-6214-452d-bfd8-83054977c3eb",
   "metadata": {},
   "source": [
    "ANS_8:-\n",
    "\n",
    "In Python, dictionaries provide three view objects that offer different perspectives on the dictionary's data:\n",
    "1) Keys View: A view object that displays a dynamic view of the dictionary's keys.\n",
    "2) Values View: A view object that displays a dynamic view of the dictionary's values.\n",
    "3) Items View: A view object that displays a dynamic view of the dictionary's key-value pairs as \n",
    "\n",
    "eg:-\n",
    "\n",
    "dict1 = {\n",
    "    'Sport': 'Cricket',\n",
    "    'Teams': ['India', 'Australia', 'England', 'South Africa', 'Sri Lanka', 'New Zealand']}\n",
    "\n",
    "keys_view = dict1.keys()\n",
    "print(\"Keys View:\", keys_view)  \n",
    "\n",
    "values_view = dict1.values()\n",
    "print(\"Values View:\", values_view)  \n",
    "\n",
    "items_view = dict1.items()\n",
    "print(\"Items View:\", items_view)  "
   ]
  },
  {
   "cell_type": "code",
   "execution_count": null,
   "id": "289f8f70-b047-41a2-8dc0-e7f34b1c149e",
   "metadata": {},
   "outputs": [],
   "source": []
  }
 ],
 "metadata": {
  "kernelspec": {
   "display_name": "Python 3 (ipykernel)",
   "language": "python",
   "name": "python3"
  },
  "language_info": {
   "codemirror_mode": {
    "name": "ipython",
    "version": 3
   },
   "file_extension": ".py",
   "mimetype": "text/x-python",
   "name": "python",
   "nbconvert_exporter": "python",
   "pygments_lexer": "ipython3",
   "version": "3.10.8"
  }
 },
 "nbformat": 4,
 "nbformat_minor": 5
}
