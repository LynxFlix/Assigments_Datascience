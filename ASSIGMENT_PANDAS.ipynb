{
 "cells": [
  {
   "cell_type": "markdown",
   "id": "d8034c1e-2407-4f77-9528-98f8853ef29b",
   "metadata": {},
   "source": [
    "Q1. Create a Pandas Series that contains the following data: 4, 8, 15, 16, 23, and 42. Then, print the series."
   ]
  },
  {
   "cell_type": "markdown",
   "id": "261b1587-533d-425d-9df7-e795bfd3c3f0",
   "metadata": {},
   "source": [
    "ANS_1:- "
   ]
  },
  {
   "cell_type": "code",
   "execution_count": 1,
   "id": "e54823f9-1f3e-41a9-bc61-c21f8bf3071b",
   "metadata": {},
   "outputs": [
    {
     "name": "stdout",
     "output_type": "stream",
     "text": [
      "0     4\n",
      "1     8\n",
      "2    15\n",
      "3    16\n",
      "4    23\n",
      "5    42\n",
      "dtype: int64\n"
     ]
    }
   ],
   "source": [
    "import pandas as pd\n",
    "\n",
    "data = [4, 8, 15, 16, 23, 42]\n",
    "series = pd.Series(data)\n",
    "\n",
    "print(series)\n"
   ]
  },
  {
   "cell_type": "markdown",
   "id": "fdbeb621-6f9f-40cf-9b4d-c01a823d5ad1",
   "metadata": {},
   "source": [
    "Q2. Create a variable of list type containing 10 elements in it, and apply pandas.Series function on the\n",
    "variable print it."
   ]
  },
  {
   "cell_type": "markdown",
   "id": "357f3583-b69b-4b1a-a350-51a54d68c4b1",
   "metadata": {},
   "source": [
    "ANS_2:- "
   ]
  },
  {
   "cell_type": "code",
   "execution_count": 2,
   "id": "25260a1b-88de-43e1-9f42-58011d62e6f2",
   "metadata": {},
   "outputs": [
    {
     "name": "stdout",
     "output_type": "stream",
     "text": [
      "0     1\n",
      "1     2\n",
      "2     3\n",
      "3     4\n",
      "4     5\n",
      "5     6\n",
      "6     7\n",
      "7     8\n",
      "8     9\n",
      "9    10\n",
      "dtype: int64\n"
     ]
    }
   ],
   "source": [
    "import pandas as pd\n",
    "\n",
    "data_list = [1, 2, 3, 4, 5, 6, 7, 8, 9, 10]\n",
    "\n",
    "series = pd.Series(data_list)\n",
    "\n",
    "print(series)\n"
   ]
  },
  {
   "cell_type": "markdown",
   "id": "d0805319-2d38-45f9-a92a-aba3f8a78631",
   "metadata": {},
   "source": [
    "Q3. Create a Pandas DataFrame that contains the following data:"
   ]
  },
  {
   "cell_type": "markdown",
   "id": "cb939c0a-6a62-497c-9a15-bd96b9a5098b",
   "metadata": {},
   "source": [
    "ANS_3:-\n"
   ]
  },
  {
   "cell_type": "code",
   "execution_count": 3,
   "id": "cd2c0593-025b-47de-8020-276076e237f9",
   "metadata": {},
   "outputs": [
    {
     "name": "stdout",
     "output_type": "stream",
     "text": [
      "      name  age gender\n",
      "0    Alice   25      F\n",
      "1      Bob   30      M\n",
      "2  Charlie   35      M\n"
     ]
    }
   ],
   "source": [
    "import pandas as pd\n",
    "\n",
    "data = {\n",
    "    'name': ['Alice', 'Bob', 'Charlie'],\n",
    "    'age': [25, 30, 35],\n",
    "    'gender': ['F', 'M', 'M']\n",
    "}\n",
    "\n",
    "df = pd.DataFrame(data)\n",
    "print(df)\n"
   ]
  },
  {
   "cell_type": "markdown",
   "id": "2f4c765a-a315-4cc2-b5f0-f7a47646342e",
   "metadata": {},
   "source": [
    "Q4. What is ‘DataFrame’ in pandas and how is it different from pandas.series? Explain with an example."
   ]
  },
  {
   "cell_type": "markdown",
   "id": "1e4d2851-deb6-4efb-bac9-64228234016c",
   "metadata": {},
   "source": [
    "ANS_4:-\n",
    "\n",
    "A DataFrame is a two-dimensional, size-mutable, and potentially heterogeneous tabular data structure with labeled axes (rows and columns). It can be thought of as a collection of Series objects, where each Series represents a column in the DataFrame.\n",
    "\n",
    "Difference Between DataFrame and Series:-\n",
    "\n",
    "1. Dimensionality:\n",
    "    1. Series: One-dimensional (1D). Essentially a single column of data with an index.\n",
    "    2. DataFrame: Two-dimensional (2D). Consists of rows and columns, similar to a table or a spreadsheet.\n",
    "    \n",
    "2. Structure:\n",
    "    1. Series: Can be thought of as a single column of data.\n",
    "    2. DataFrame: Can be thought of as a collection of Series (multiple columns of data).\n",
    "    \n",
    "3. Usage:\n",
    "    1. Series: Used when you need to work with a single column of data.\n",
    "    2. DataFrame: Used when you need to work with multiple columns of data"
   ]
  },
  {
   "cell_type": "markdown",
   "id": "da476197-2beb-4f67-b349-6d7bb3addf78",
   "metadata": {},
   "source": [
    "Q5. What are some common functions you can use to manipulate data in a Pandas DataFrame? Can\n",
    "you give an example of when you might use one of these functions?"
   ]
  },
  {
   "cell_type": "markdown",
   "id": "886cebf9-2dfa-416e-bd3a-86d7e7ae4130",
   "metadata": {},
   "source": [
    "ANS_5:-\n",
    "\n",
    "-> Pandas provides a wide range of functions to manipulate and analyze data in a DataFrame. Some of the common functions include:\n",
    "\n",
    "1. head() and tail(): View the first or last n rows of the DataFrame.\n",
    "2. describe(): Generate descriptive statistics.\n",
    "3. info(): Display a concise summary of the DataFrame.\n",
    "4. shape: Get the dimensions of the DataFrame.\n",
    "5. drop(): Remove rows or columns.\n",
    "6. loc[] and iloc[]: Access rows and columns by labels or positions.\n",
    "7. groupby(): Group data by specified columns.\n",
    "8. merge(): Merge DataFrames using database-style joins.\n"
   ]
  },
  {
   "cell_type": "code",
   "execution_count": 7,
   "id": "192621ab-f25b-4a14-aa50-0470479f1f0c",
   "metadata": {},
   "outputs": [
    {
     "name": "stdout",
     "output_type": "stream",
     "text": [
      "   Category  DAMAGE\n",
      "0   D-EAGEL    30.0\n",
      "1  OPERATOR   150.0\n",
      "2    VANDEL   100.0\n"
     ]
    }
   ],
   "source": [
    "import pandas as pd\n",
    "\n",
    "data = {\n",
    "    'Guns': ['PISTOL', 'RIFEL', 'SNIPER'],\n",
    "    'Category': ['D-EAGEL', 'VANDEL', 'OPERATOR'],\n",
    "    'DAMAGE': [30, 100, 150]\n",
    "}\n",
    "\n",
    "df = pd.DataFrame(data)\n",
    "\n",
    "average_sales = df.groupby('Category')['DAMAGE'].mean().reset_index()\n",
    "\n",
    "print(average_sales)\n"
   ]
  },
  {
   "cell_type": "markdown",
   "id": "26b00d9c-75c7-4267-a95b-93d0034a866b",
   "metadata": {},
   "source": [
    "Q6. Which of the following is mutable in nature Series, DataFrame, Panel?"
   ]
  },
  {
   "cell_type": "markdown",
   "id": "a22347a9-d83c-4716-a12b-cd3a2faccbf6",
   "metadata": {},
   "source": [
    "ANS_6:-\n",
    "\n",
    "Among the given options, both Series and DataFrame in Pandas are mutable in nature. This means you can modify their contents after they have been created.\n",
    "\n",
    "Panel, on the other hand, was a three-dimensional data structure in earlier versions of Pandas, but it has been deprecated since version 0.25.0 in favor of more powerful and flexible data structures like MultiIndex DataFrame."
   ]
  },
  {
   "cell_type": "markdown",
   "id": "587be9ff-1f9a-4f38-8777-00f00224f835",
   "metadata": {},
   "source": [
    "Q7. Create a DataFrame using multiple Series. Explain with an example."
   ]
  },
  {
   "cell_type": "markdown",
   "id": "166cf284-30cc-43fb-b4b5-aeb86f4e946d",
   "metadata": {},
   "source": [
    "ANS_7:-"
   ]
  },
  {
   "cell_type": "code",
   "execution_count": 9,
   "id": "a8612b7d-0203-4e51-9847-9610050d3934",
   "metadata": {},
   "outputs": [
    {
     "name": "stdout",
     "output_type": "stream",
     "text": [
      "     Name  Age Gender\n",
      "0  ASHISH   20      M\n",
      "1  DEVESH   21      G\n",
      "2  DHARAM   19      G\n"
     ]
    }
   ],
   "source": [
    "import pandas as pd\n",
    "\n",
    "names = pd.Series(['ASHISH', 'DEVESH', 'DHARAM'])\n",
    "ages = pd.Series([20, 21, 19])\n",
    "genders = pd.Series(['M', 'G', 'G'])\n",
    "\n",
    "df = pd.DataFrame({\n",
    "    'Name': names,\n",
    "    'Age': ages,\n",
    "    'Gender': genders\n",
    "})\n",
    "\n",
    "print(df)\n"
   ]
  },
  {
   "cell_type": "code",
   "execution_count": null,
   "id": "bfb309ca-8df8-4003-b0e2-ecc42445b0ba",
   "metadata": {},
   "outputs": [],
   "source": []
  }
 ],
 "metadata": {
  "kernelspec": {
   "display_name": "Python 3 (ipykernel)",
   "language": "python",
   "name": "python3"
  },
  "language_info": {
   "codemirror_mode": {
    "name": "ipython",
    "version": 3
   },
   "file_extension": ".py",
   "mimetype": "text/x-python",
   "name": "python",
   "nbconvert_exporter": "python",
   "pygments_lexer": "ipython3",
   "version": "3.10.8"
  }
 },
 "nbformat": 4,
 "nbformat_minor": 5
}
