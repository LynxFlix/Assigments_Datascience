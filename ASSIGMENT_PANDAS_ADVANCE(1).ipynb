{
 "cells": [
  {
   "cell_type": "markdown",
   "id": "d8034c1e-2407-4f77-9528-98f8853ef29b",
   "metadata": {},
   "source": [
    "Q1. Write a code to print the data present in the second row of the dataframe, df."
   ]
  },
  {
   "cell_type": "markdown",
   "id": "261b1587-533d-425d-9df7-e795bfd3c3f0",
   "metadata": {},
   "source": [
    "ANS_1:- "
   ]
  },
  {
   "cell_type": "code",
   "execution_count": 1,
   "id": "280edf63-9c1d-44e5-b502-ebbba6bb0c16",
   "metadata": {},
   "outputs": [
    {
     "name": "stdout",
     "output_type": "stream",
     "text": [
      "course_name    Machine Learning\n",
      "duration                      3\n",
      "Name: 1, dtype: object\n"
     ]
    }
   ],
   "source": [
    "#CODE:-\n",
    "\n",
    "import pandas as pd\n",
    "\n",
    "course_name = ['Data Science', 'Machine Learning', 'Big Data', 'Data Engineer']\n",
    "duration = [2, 3, 6, 4]\n",
    "\n",
    "df = pd.DataFrame(data = {'course_name': course_name, 'duration': duration})\n",
    "\n",
    "print(df.iloc[1])\n"
   ]
  },
  {
   "cell_type": "markdown",
   "id": "fdbeb621-6f9f-40cf-9b4d-c01a823d5ad1",
   "metadata": {},
   "source": [
    "Q2. What is the difference between the functions loc and iloc in pandas.DataFrame?"
   ]
  },
  {
   "cell_type": "markdown",
   "id": "357f3583-b69b-4b1a-a350-51a54d68c4b1",
   "metadata": {},
   "source": [
    "ANS_2:- \n",
    "\n",
    "In pandas, loc and iloc are two methods used for indexing and selecting data from a DataFrame. They have different purposes and operate based on different criteria:\n",
    "\n",
    "1. loc:-\n",
    "\n",
    "     -> Label-based indexing: loc is used to access a group of rows and columns by labels or a boolean array.\n",
    "     \n",
    "    -> Inclusive: When specifying a range with loc, both the start and end labels are included.\n",
    "    \n",
    "    -> Can accept boolean arrays: loc can be used with a boolean array to select rows that meet a certain condition.\n",
    "\n",
    "2. iloc :-\n",
    "\n",
    "    -> Integer-based indexing: iloc is used to access a group of rows and columns by their integer position.\n",
    "    -> Exclusive: When specifying a range with iloc, the end position is not included.\n",
    "    -> Cannot accept boolean arrays: iloc only works with integer positions and does not accept labels or boolean arrays."
   ]
  },
  {
   "cell_type": "markdown",
   "id": "d0805319-2d38-45f9-a92a-aba3f8a78631",
   "metadata": {},
   "source": [
    "Q3. Reindex the given dataframe using a variable, reindex = [3,0,1,2] and store it in the variable, new_df\n",
    "then find the output for both new_df.loc[2] and new_df.iloc[2]."
   ]
  },
  {
   "cell_type": "markdown",
   "id": "cb939c0a-6a62-497c-9a15-bd96b9a5098b",
   "metadata": {},
   "source": [
    "ANS_3:-\n"
   ]
  },
  {
   "cell_type": "code",
   "execution_count": 2,
   "id": "cd2c0593-025b-47de-8020-276076e237f9",
   "metadata": {},
   "outputs": [
    {
     "name": "stdout",
     "output_type": "stream",
     "text": [
      "new_df.loc[2]:\n",
      "course_name    Big Data\n",
      "duration              6\n",
      "Name: 2, dtype: object\n",
      "new_df.iloc[2]:\n",
      "course_name    Machine Learning\n",
      "duration                      3\n",
      "Name: 1, dtype: object\n"
     ]
    }
   ],
   "source": [
    "import pandas as pd\n",
    "\n",
    "course_name = ['Data Science', 'Machine Learning', 'Big Data', 'Data Engineer']\n",
    "duration = [2, 3, 6, 4]\n",
    "\n",
    "df = pd.DataFrame(data = {'course_name': course_name, 'duration': duration})\n",
    "\n",
    "reindex = [3, 0, 1, 2]\n",
    "new_df = df.reindex(reindex)\n",
    "\n",
    "print(\"new_df.loc[2]:\")\n",
    "print(new_df.loc[2])\n",
    "\n",
    "print(\"new_df.iloc[2]:\")\n",
    "print(new_df.iloc[2])\n"
   ]
  },
  {
   "cell_type": "markdown",
   "id": "baf9749d-7c79-4e26-b3fc-f44afa6900cd",
   "metadata": {},
   "source": [
    "--> When we use loc and iloc on new_df, we observe the following differences:\n",
    "\n",
    "-> new_df.loc[2] accesses the row by its label, so it will return the row from the original DataFrame that had the index 2. After reindexing, this row corresponds to the original row with index 2.\n",
    "\n",
    "-> new_df.iloc[2] accesses the row by its integer position in the reindexed DataFrame. Since the reindexing changes the order of the rows, new_df.iloc[2] will return the third row of the reindexed DataFrame, which originally had the index 1."
   ]
  },
  {
   "cell_type": "markdown",
   "id": "2f4c765a-a315-4cc2-b5f0-f7a47646342e",
   "metadata": {},
   "source": [
    "Q4. Write a code to find the following statistical measurements for the above dataframe df1:\n",
    "(i) mean of each and every column present in the dataframe.\n",
    "(ii) standard deviation of column, ‘column_2’"
   ]
  },
  {
   "cell_type": "markdown",
   "id": "1e4d2851-deb6-4efb-bac9-64228234016c",
   "metadata": {},
   "source": [
    "ANS_4:-"
   ]
  },
  {
   "cell_type": "code",
   "execution_count": 4,
   "id": "8027e7dd-07a9-48e5-a214-d39a3481f50f",
   "metadata": {},
   "outputs": [
    {
     "name": "stdout",
     "output_type": "stream",
     "text": [
      "Mean of each column:\n",
      "duration    3.75\n",
      "dtype: float64\n",
      "\n",
      "Standard deviation of column 'duration':\n",
      "1.707825127659933\n"
     ]
    },
    {
     "name": "stderr",
     "output_type": "stream",
     "text": [
      "/tmp/ipykernel_119/40512486.py:9: FutureWarning: The default value of numeric_only in DataFrame.mean is deprecated. In a future version, it will default to False. In addition, specifying 'numeric_only=None' is deprecated. Select only valid columns or specify the value of numeric_only to silence this warning.\n",
      "  mean_values = df.mean()\n"
     ]
    }
   ],
   "source": [
    "import pandas as pd\n",
    "\n",
    "course_name = ['Data Science', 'Machine Learning', 'Big Data', 'Data Engineer']\n",
    "duration = [2, 3, 6, 4]\n",
    "\n",
    "df = pd.DataFrame(data={'course_name': course_name, 'duration': duration})\n",
    "\n",
    "# (i) Mean of each and every column present in the dataframe\n",
    "mean_values = df.mean()\n",
    "print(\"Mean of each column:\")\n",
    "print(mean_values)\n",
    "\n",
    "# (ii) Standard deviation of column 'duration'\n",
    "std_duration = df['duration'].std()\n",
    "print(\"\\nStandard deviation of column 'duration':\")\n",
    "print(std_duration)\n"
   ]
  },
  {
   "cell_type": "markdown",
   "id": "da476197-2beb-4f67-b349-6d7bb3addf78",
   "metadata": {},
   "source": [
    "Q5. How are DataFrame.size() and DataFrame.shape() different?"
   ]
  },
  {
   "cell_type": "markdown",
   "id": "886cebf9-2dfa-416e-bd3a-86d7e7ae4130",
   "metadata": {},
   "source": [
    "ANS_5:-"
   ]
  },
  {
   "cell_type": "code",
   "execution_count": 5,
   "id": "f5788e51-bb88-4655-82c8-5756960338d9",
   "metadata": {},
   "outputs": [
    {
     "name": "stdout",
     "output_type": "stream",
     "text": [
      "Original DataFrame:\n",
      "        course_name  duration\n",
      "0      Data Science         2\n",
      "1  Machine Learning         3\n",
      "2          Big Data         6\n",
      "3     Data Engineer         4\n",
      "\n",
      "DataFrame after replacing second row of 'duration' with a string:\n",
      "        course_name      duration\n",
      "0      Data Science             2\n",
      "1  Machine Learning  string_value\n",
      "2          Big Data             6\n",
      "3     Data Engineer             4\n",
      "\n",
      "Error encountered while calculating the mean of column 'duration': unsupported operand type(s) for +: 'int' and 'str'\n"
     ]
    }
   ],
   "source": [
    "import pandas as pd\n",
    "\n",
    "course_name = ['Data Science', 'Machine Learning', 'Big Data', 'Data Engineer']\n",
    "duration = [2, 3, 6, 4]\n",
    "\n",
    "df = pd.DataFrame(data={'course_name': course_name, 'duration': duration})\n",
    "\n",
    "print(\"Original DataFrame:\")\n",
    "print(df)\n",
    "\n",
    "df.loc[1, 'duration'] = 'string_value'\n",
    "\n",
    "\n",
    "print(\"\\nDataFrame after replacing second row of 'duration' with a string:\")\n",
    "print(df)\n",
    "\n",
    "try:\n",
    "    mean_duration = df['duration'].mean()\n",
    "    print(\"\\nMean of column 'duration':\", mean_duration)\n",
    "except Exception as e:\n",
    "    print(\"\\nError encountered while calculating the mean of column 'duration':\", e)\n"
   ]
  },
  {
   "cell_type": "markdown",
   "id": "26b00d9c-75c7-4267-a95b-93d0034a866b",
   "metadata": {},
   "source": [
    "Q6. What do you understand about the windows function in pandas and list the types of windows\n",
    "functions?"
   ]
  },
  {
   "cell_type": "markdown",
   "id": "a22347a9-d83c-4716-a12b-cd3a2faccbf6",
   "metadata": {},
   "source": [
    "ANS_6:-\n",
    "\n",
    "A window function performs calculations over a specified window of data, which moves across the dataset. The window can be defined in various ways, such as a fixed number of rows or a time-based window. Window functions are often used to compute rolling statistics, such as moving averages, cumulative sums, and other aggregate metrics over a specified window.\n",
    "\n",
    "-> Types of Window Functions in pandas:-\n",
    "\n",
    "1. Rolling Window Functions:\n",
    "\n",
    "    -> rolling(): Provides rolling or moving window calculations.\n",
    "2. Expanding Window Functions:\n",
    "\n",
    "    ->expanding(): Provides cumulative calculations that expand with each new data point.\n",
    "    \n",
    "3. Ewma (Exponentially Weighted Moving Average) Functions:\n",
    "\n",
    "    ->ewm(): Provides exponentially weighted moving calculations.\n",
    "\n",
    "4. Rolling Apply:\n",
    "\n",
    "    -> rolling().apply(): Allows you to apply a custom function to each window.\n",
    "\n",
    "5. Rolling Median:\n",
    "\n",
    "    -> rolling().median(): Calculates the median over a rolling window.\n"
   ]
  },
  {
   "cell_type": "markdown",
   "id": "587be9ff-1f9a-4f38-8777-00f00224f835",
   "metadata": {},
   "source": [
    "Q7. Write a code to print only the current month and year at the time of answering this question.\n",
    "[Hint: Use pandas.datetime function]"
   ]
  },
  {
   "cell_type": "markdown",
   "id": "166cf284-30cc-43fb-b4b5-aeb86f4e946d",
   "metadata": {},
   "source": [
    "ANS_7:-"
   ]
  },
  {
   "cell_type": "code",
   "execution_count": 6,
   "id": "a8612b7d-0203-4e51-9847-9610050d3934",
   "metadata": {},
   "outputs": [
    {
     "name": "stdout",
     "output_type": "stream",
     "text": [
      "Current month: 8\n",
      "Current year: 2024\n"
     ]
    }
   ],
   "source": [
    "import pandas as pd\n",
    "\n",
    "current_time = pd.Timestamp.now()\n",
    "\n",
    "current_month = current_time.month\n",
    "current_year = current_time.year\n",
    "\n",
    "print(f\"Current month: {current_month}\")\n",
    "print(f\"Current year: {current_year}\")\n"
   ]
  },
  {
   "cell_type": "markdown",
   "id": "cf4840c4-2742-4790-b83e-902cad225f7b",
   "metadata": {},
   "source": [
    "Q8. Write a Python program that takes in two dates as input (in the format YYYY-MM-DD) and\n",
    "calculates the difference between them in days, hours, and minutes using Pandas time delta. The\n",
    "program should prompt the user to enter the dates and display the result."
   ]
  },
  {
   "cell_type": "markdown",
   "id": "979f8d19-8196-434a-90c2-3d0608fe5953",
   "metadata": {},
   "source": [
    "ANS_8:-"
   ]
  },
  {
   "cell_type": "code",
   "execution_count": 8,
   "id": "1d756fdd-466b-485f-9590-649734918c59",
   "metadata": {},
   "outputs": [
    {
     "name": "stdin",
     "output_type": "stream",
     "text": [
      "Enter the first date (YYYY-MM-DD):  2003 12 31\n",
      "Enter the second date (YYYY-MM-DD):  2004 1 20\n"
     ]
    },
    {
     "name": "stdout",
     "output_type": "stream",
     "text": [
      "Difference between 2004 1 20 and 2003 12 31:\n",
      "Days: 20\n",
      "Hours: 0\n",
      "Minutes: 0\n"
     ]
    }
   ],
   "source": [
    "import pandas as pd\n",
    "\n",
    "date1_str = input(\"Enter the first date (YYYY-MM-DD): \")\n",
    "date2_str = input(\"Enter the second date (YYYY-MM-DD): \")\n",
    "\n",
    "date1 = pd.Timestamp(date1_str)\n",
    "date2 = pd.Timestamp(date2_str)\n",
    "\n",
    "delta = date2 - date1\n",
    "\n",
    "days = delta.days\n",
    "seconds = delta.seconds\n",
    "hours = seconds // 3600\n",
    "minutes = (seconds % 3600) // 60\n",
    "\n",
    "print(f\"Difference between {date2_str} and {date1_str}:\")\n",
    "print(f\"Days: {days}\")\n",
    "print(f\"Hours: {hours}\")\n",
    "print(f\"Minutes: {minutes}\")\n"
   ]
  },
  {
   "cell_type": "markdown",
   "id": "3ff9d337-0103-4099-bead-2aaf674411b1",
   "metadata": {},
   "source": [
    "Q9. Write a Python program that reads a CSV file containing categorical data and converts a specified\n",
    "column to a categorical data type. The program should prompt the user to enter the file path, column\n",
    "name, and category order, and then display the sorted data."
   ]
  },
  {
   "cell_type": "markdown",
   "id": "cf9a5f60-e0e1-4bba-b5c2-4128689daeb9",
   "metadata": {},
   "source": [
    "ANS_9:-"
   ]
  },
  {
   "cell_type": "code",
   "execution_count": null,
   "id": "eee7f994-81f9-452b-a9e0-e0d3de6d3244",
   "metadata": {},
   "outputs": [],
   "source": [
    "import pandas as pd\n",
    "\n",
    "file_path = input(\"Enter the file path of the CSV file: \")\n",
    "column_name = input(\"Enter the column name to convert to categorical: \")\n",
    "category_order = input(\"Enter the category order (comma-separated): \").split(',')\n",
    "\n",
    "df = pd.read_csv(\"work/Csv files/User_Data.csv\")\n",
    "\n",
    "if column_name not in df.columns:\n",
    "    print(f\"Column '{column_name}' does not exist in the CSV file.\")\n",
    "else:\n",
    "    \n",
    "    df[column_name] = pd.Categorical(df[column_name], categories=category_order, ordered=True)\n",
    "    \n",
    "    sorted_df = df.sort_values(by=column_name)\n",
    "    \n",
    "    print(\"\\nSorted DataFrame:\")\n",
    "    print(sorted_df)\n"
   ]
  },
  {
   "cell_type": "markdown",
   "id": "1faf7ed3-88e8-47d0-9b7e-eadf4cebdd43",
   "metadata": {},
   "source": [
    "Q10. Write a Python program that reads a CSV file containing sales data for different products and\n",
    "visualizes the data using a stacked bar chart to show the sales of each product category over time. The\n",
    "program should prompt the user to enter the file path and display the chart."
   ]
  },
  {
   "cell_type": "code",
   "execution_count": null,
   "id": "189d3bce-950a-4214-903c-35d607f7b6cb",
   "metadata": {},
   "outputs": [],
   "source": [
    "import pandas as pd\n",
    "import matplotlib.pyplot as plt\n",
    "\n",
    "file_path = input(\"Enter the file path of the CSV file: \")\n",
    "\n",
    "df = pd.read_csv(\"work/Csv files/User_Data.csv\")\n",
    "\n",
    "print(\"First few rows of the DataFrame:\")\n",
    "print(df.head())\n",
    "\n",
    "df['Date'] = pd.to_datetime(df['Date'])\n",
    "\n",
    "pivot_df = df.pivot_table(index='Date', columns='Category', values='Sales', aggfunc='sum')\n",
    "\n",
    "pivot_df.plot(kind='bar', stacked=True, figsize=(12, 8))\n",
    "\n",
    "plt.title('Sales by Product Category Over Time')\n",
    "plt.xlabel('Date')\n",
    "plt.ylabel('Sales')\n",
    "plt.legend(title='Category')\n",
    "plt.xticks(rotation=45)\n",
    "plt.tight_layout()\n",
    "\n",
    "plt.show()\n"
   ]
  },
  {
   "cell_type": "markdown",
   "id": "b19de02a-cbfc-4908-b51d-5fa0717b49d9",
   "metadata": {},
   "source": [
    "Q11. You are given a CSV file containing student data that includes the student ID and their test score. Write\n",
    "a Python program that reads the CSV file, calculates the mean, median, and mode of the test scores, and\n",
    "displays the results in a table."
   ]
  },
  {
   "cell_type": "code",
   "execution_count": null,
   "id": "a8e24ec0-390e-4cd0-8521-1f8db763712b",
   "metadata": {},
   "outputs": [],
   "source": [
    "import pandas as pd\n",
    "\n",
    "file_path = input(\"Enter the file path of the CSV file containing the student data: \")\n",
    "\n",
    "df = pd.read_csv(file_path)\n",
    "\n",
    "print(\"First few rows of the DataFrame:\")\n",
    "print(df.head())\n",
    "\n",
    "mean_score = df['Test Score'].mean()\n",
    "median_score = df['Test Score'].median()\n",
    "mode_score = df['Test Score'].mode().tolist()\n",
    "\n",
    "results = pd.DataFrame({\n",
    "    'Statistic': ['Mean', 'Median', 'Mode'],\n",
    "    'Value': [mean_score, median_score, ', '.join(map(str, mode_score))]\n",
    "})\n",
    "\n",
    "print(\"\\n+-----------+--------+\")\n",
    "print(\"| Statistic | Value  |\")\n",
    "print(\"+-----------+--------+\")\n",
    "for index, row in results.iterrows():\n",
    "    print(f\"| {row['Statistic'].ljust(10)} | {str(row['Value']).ljust(6)} |\")\n",
    "print(\"+-----------+--------+\")\n"
   ]
  },
  {
   "cell_type": "code",
   "execution_count": null,
   "id": "b5d95b3c-4b83-4609-aec8-9f4b29e2a50d",
   "metadata": {},
   "outputs": [],
   "source": []
  }
 ],
 "metadata": {
  "kernelspec": {
   "display_name": "Python 3 (ipykernel)",
   "language": "python",
   "name": "python3"
  },
  "language_info": {
   "codemirror_mode": {
    "name": "ipython",
    "version": 3
   },
   "file_extension": ".py",
   "mimetype": "text/x-python",
   "name": "python",
   "nbconvert_exporter": "python",
   "pygments_lexer": "ipython3",
   "version": "3.10.8"
  }
 },
 "nbformat": 4,
 "nbformat_minor": 5
}
