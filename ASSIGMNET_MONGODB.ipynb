{
 "cells": [
  {
   "cell_type": "markdown",
   "id": "251f2355-b90d-427b-9151-71ba7ca365db",
   "metadata": {},
   "source": [
    "Q1. What is MongoDB? Explain non-relational databases in short. In which scenarios it is preferred to use\n",
    "MongoDB over SQL databases?"
   ]
  },
  {
   "cell_type": "markdown",
   "id": "73e57939-c87a-4644-aa72-54c0b6cb5c1d",
   "metadata": {},
   "source": [
    "ANS_1:-\n",
    "\n",
    "MongoDB is a popular, open-source, NoSQL database that uses a document-oriented data model. Instead of using tables and rows as in traditional relational databases, MongoDB stores data in flexible, JSON-like documents. This allows for a more dynamic and scalable approach to handling data.\n",
    "\n",
    "Non-Relational Databases:-\n",
    "\n",
    "Non-relational databases, also known as NoSQL databases, differ from traditional relational databases in that they do not use a fixed schema and are not typically based on the table/row model. They are designed to handle a wide variety of data models, including key-value, document, column-family, and graph formats.\n",
    "\n",
    "-> Scenarios Where MongoDB is Preferred Over SQL Databases:-\n",
    "\n",
    "1. Flexible Schema Requirements:\n",
    "    When the data model is not fixed and can evolve over time, MongoDB's schema-less nature allows for easy modifications without requiring database migrations.\n",
    "    \n",
    "2. High Write Load:\n",
    "    Applications with high write loads and needing to handle large volumes of unstructured or semi-structured data benefit from MongoDB's efficient write performance.\n",
    "    \n",
    "3. Horizontal Scalability:\n",
    "    Applications that require horizontal scalability and can benefit from sharding to distribute data across multiple servers.\n",
    "    \n",
    "4. Complex, Hierarchical Data:\n",
    "    When dealing with complex, hierarchical data structures that would require multiple related tables in an SQL database, MongoDB's nested document structure can simplify data modeling and access."
   ]
  },
  {
   "cell_type": "markdown",
   "id": "728ffd88-acd6-4227-abb2-aad94a1eb225",
   "metadata": {},
   "source": [
    "Q2. State and Explain the features of MongoDB."
   ]
  },
  {
   "cell_type": "markdown",
   "id": "341b7473-97c5-44f1-940a-c4434cc9e4df",
   "metadata": {},
   "source": [
    "ANS_2:-\n",
    "\n",
    "MongoDB is a powerful NoSQL database known for its flexibility, scalability, and performance. Here are the key features of MongoDB:\n",
    "\n",
    "1. Document-Oriented Storage:\n",
    "    MongoDB stores data in BSON (Binary JSON) format, which allows for a rich, expressive data model. Documents can contain nested structures and arrays, making it easy to represent complex data relationships.\n",
    "    \n",
    "2. Schema-Less:\n",
    "    Collections in MongoDB do not enforce a fixed schema, allowing for dynamic and flexible data models. This means each document can have a different structure, which is ideal for applications with evolving data requirements.\n",
    "    \n",
    "3. Scalability:\n",
    "    MongoDB supports horizontal scaling through sharding. Sharding distributes data across multiple servers, allowing the database to handle large volumes of data and high-throughput operations efficiently.\n",
    "    \n",
    "4. Replication:\n",
    "    MongoDB provides high availability and redundancy through replica sets. A replica set consists of multiple copies of the data, with one primary node receiving writes and multiple secondary nodes replicating the data. If the primary node fails, one of the secondaries can be automatically promoted to primary.\n",
    "    \n",
    "5. Indexing:\n",
    "    MongoDB supports a variety of indexing techniques to improve query performance. Indexes can be created on any field within a document, including compound indexes, geospatial indexes, and text indexes.\\\n",
    "    \n",
    "6. Aggregation Framework:\n",
    "    MongoDB offers a powerful aggregation framework that allows for complex data processing and transformation operations. The framework supports operations such as filtering, grouping, sorting, and computing aggregate values.\n"
   ]
  },
  {
   "cell_type": "markdown",
   "id": "f02d98ba-3f45-4e2f-bc15-f0668b2da4f4",
   "metadata": {},
   "source": [
    "Q3. Write a code to connect MongoDB to Python. Also, create a database and a collection in MongoDB."
   ]
  },
  {
   "cell_type": "markdown",
   "id": "122a34c4-4b13-4807-aabd-596e9259885e",
   "metadata": {},
   "source": [
    "ANS-3:-\n"
   ]
  },
  {
   "cell_type": "code",
   "execution_count": null,
   "id": "6f018bf5-c625-4c74-9494-04ccc548d3d2",
   "metadata": {},
   "outputs": [],
   "source": [
    "# CODE:-\n",
    "\n",
    "from pymongo import MongoClient\n",
    "\n",
    "client = MongoClient(\"mongodb+srv://lynxflix:<password>@cluster0.k9j0ryy.mongodb.net/\")\n",
    "\n",
    "db = client[\"my_database\"]\n",
    "\n",
    "collection = db[\"my_collection\"]\n",
    "\n",
    "document = {\n",
    "    \"name\": \"Alice\",\n",
    "    \"age\": 30,\n",
    "    \"city\": \"New York\"\n",
    "}\n",
    "collection.insert_one(document)\n",
    "\n",
    "result = collection.find_one({\"name\": \"Alice\"})\n",
    "print(result)\n",
    "\n",
    "client.close()\n"
   ]
  },
  {
   "cell_type": "markdown",
   "id": "e47e897f-b232-4703-bd7c-6eddf57d4b78",
   "metadata": {},
   "source": [
    "Q4. Using the database and the collection created in question number 3, write a code to insert one record,\n",
    "and insert many records. Use the find() and find_one() methods to print the inserted record."
   ]
  },
  {
   "cell_type": "markdown",
   "id": "bd70a27b-c423-400a-bb5d-d46e7138fab3",
   "metadata": {},
   "source": [
    "ANS_4:-"
   ]
  },
  {
   "cell_type": "code",
   "execution_count": null,
   "id": "bd53dc8e-1728-487a-baaf-68c6763f368a",
   "metadata": {},
   "outputs": [],
   "source": [
    "from pymongo import MongoClient\n",
    "\n",
    "client = MongoClient(\"mongodb://localhost:27017/\")\n",
    "db = client[\"my_database\"]\n",
    "collection = db[\"my_collection\"]\n",
    "record = {\n",
    "    \"name\": \"Alice\",\n",
    "    \"age\": 30,\n",
    "    \"city\": \"New York\"\n",
    "}\n",
    "collection.insert_one(record)\n",
    "\n",
    "\n",
    "multiple_records = [\n",
    "    {\"name\": \"Bob\", \"age\": 25, \"city\": \"Los Angeles\"},\n",
    "    {\"name\": \"Charlie\", \"age\": 35, \"city\": \"Chicago\"},\n",
    "    {\"name\": \"Diana\", \"age\": 28, \"city\": \"San Francisco\"}\n",
    "]\n",
    "collection.insert_many(multiple_records)\n",
    "\n",
    "print(\"Inserted single record:\")\n",
    "result_single = collection.find_one({\"name\": \"Alice\"})\n",
    "print(result_single)\n",
    "\n",
    "print(\"\\nAll records in the collection:\")\n",
    "for record in collection.find():\n",
    "    print(record)\n",
    "    \n",
    "client.close()\n"
   ]
  },
  {
   "cell_type": "markdown",
   "id": "bc9473c5-7e31-4127-9204-4cc87ded9c2a",
   "metadata": {},
   "source": [
    "Q5. Explain how you can use the find() method to query the MongoDB database. Write a simple code to\n",
    "demonstrate this."
   ]
  },
  {
   "cell_type": "markdown",
   "id": "dc132e6c-2945-4554-89c9-29268e14240b",
   "metadata": {},
   "source": [
    "ANS_5:-\n",
    "\n",
    "The find() method in MongoDB is used to query a collection and retrieve multiple documents that match a specified filter. Unlike find_one(), which returns a single document, find() returns a cursor that can be iterated to access all matching documents.\n",
    "\n",
    "Basic Usage of find()\n",
    "The find() method takes a query filter as its argument and returns a cursor to the documents that match the filter. If no filter is provided, find() returns all documents in the collection.\n"
   ]
  },
  {
   "cell_type": "code",
   "execution_count": null,
   "id": "02384dec-612f-4876-a215-cae7bc429a67",
   "metadata": {},
   "outputs": [],
   "source": [
    "# CODE:-\n",
    "from pymongo import MongoClient\n",
    "\n",
    "client = MongoClient(\"mongodb://localhost:27017/\")\n",
    "\n",
    "db = client[\"my_database\"]\n",
    "\n",
    "collection = db[\"my_collection\"]\n",
    "\n",
    "collection.insert_many([\n",
    "    {\"name\": \"Ashish\", \"age\": 30, \"city\": \"New York\"},\n",
    "    {\"name\": \"Devesh\", \"age\": 25, \"city\": \"Los Angeles\"},\n",
    "    {\"name\": \"Deep\", \"age\": 35, \"city\": \"Chicago\"},\n",
    "    {\"name\": \"Dharam\", \"age\": 28, \"city\": \"San Francisco\"}\n",
    "])\n",
    "\n",
    "print(\"All records:\")\n",
    "for document in collection.find():\n",
    "    print(document)\n",
    "print(\"\\nRecords with age greater than 30:\")\n",
    "query_filter = {\"age\": {\"$gt\": 30}}\n",
    "for document in collection.find(query_filter):\n",
    "    print(document)\n",
    "\n",
    "print(\"\\nRecords with city 'Chicago' (projection example):\")\n",
    "query_filter = {\"city\": \"Chicago\"}\n",
    "projection = {\"_id\": 0, \"name\": 1}  \n",
    "for document in collection.find(query_filter, projection):\n",
    "    print(document)\n",
    "\n",
    "client.close()\n"
   ]
  },
  {
   "cell_type": "markdown",
   "id": "a0ad7003-41f5-47f5-8c1f-2b21a0810f8f",
   "metadata": {},
   "source": [
    "Q6. Explain the sort() method. Give an example to demonstrate sorting in MongoDB."
   ]
  },
  {
   "cell_type": "markdown",
   "id": "a331cde1-ded3-43cf-9b10-7420e6e81621",
   "metadata": {},
   "source": [
    "ANS_6:-\n",
    "\n",
    "sort() Method in MongoDB:-\n",
    "\n",
    "The sort() method in MongoDB is used to sort the documents in a collection based on one or more fields. It can be applied to the cursor returned by the find() method to order the results in ascending or descending order.\n"
   ]
  },
  {
   "cell_type": "code",
   "execution_count": null,
   "id": "1ca90a83-22a1-4c60-95b2-c62a8adc85da",
   "metadata": {},
   "outputs": [],
   "source": [
    "from pymongo import MongoClient\n",
    "\n",
    "client = MongoClient(\"mongodb://localhost:27017/\")\n",
    "\n",
    "db = client[\"my_database\"]\n",
    "\n",
    "collection = db[\"my_collection\"]\n",
    "\n",
    "collection.insert_many([\n",
    "    {\"name\": \"Ashish\", \"age\": 30, \"city\": \"New York\"},\n",
    "    {\"name\": \"Devesh\", \"age\": 25, \"city\": \"Los Angeles\"},\n",
    "    {\"name\": \"Dharam\", \"age\": 35, \"city\": \"Chicago\"},\n",
    "    {\"name\": \"Deep\", \"age\": 28, \"city\": \"San Francisco\"}\n",
    "])\n",
    "\n",
    "print(\"Records sorted by age (ascending):\")\n",
    "for document in collection.find().sort(\"age\", 1):\n",
    "    print(document)\n",
    "\n",
    "print(\"\\nRecords sorted by age (descending):\")\n",
    "for document in collection.find().sort(\"age\", -1):\n",
    "    print(document)\n",
    "    \n",
    "print(\"\\nRecords sorted by city (ascending) and age (descending):\")\n",
    "sort_criteria = [(\"city\", 1), (\"age\", -1)]\n",
    "for document in collection.find().sort(sort_criteria):\n",
    "    print(document)\n",
    "    \n",
    "client.close()"
   ]
  },
  {
   "cell_type": "markdown",
   "id": "32b5e23c-93b7-4df2-8f6c-957b133a38e9",
   "metadata": {},
   "source": [
    "Q7. Explain why delete_one(), delete_many(), and drop() is used."
   ]
  },
  {
   "cell_type": "markdown",
   "id": "f0d3958f-54e6-43c8-95e4-d251251b62f9",
   "metadata": {},
   "source": [
    "ANS_7:-\n",
    "\n",
    "In MongoDB, the methods delete_one(), delete_many(), and drop() are used for deleting data from a database. Each method serves a different purpose:\n",
    "\n",
    "1. delete_one() :-\n",
    "Purpose: Deletes a single document that matches the specified filter.\n",
    "Usage: This method is used when you want to remove a single, specific document from a collection based on a given condition. If multiple documents match the filter, only the first matching document will be deleted.\n",
    "\n",
    "-> Syntax:-collection.delete_one(filter)\n",
    "\n",
    "2. delete_many() :-\n",
    "Purpose: Deletes all documents that match the specified filter.\n",
    "Usage: This method is used when you want to remove multiple documents that match a given condition. It will delete all documents that satisfy the filter criteria.\n",
    "\n",
    "->Syntax:- collection.delete_many(filter)\n"
   ]
  },
  {
   "cell_type": "code",
   "execution_count": null,
   "id": "a970dedd-e794-4f55-b893-8ead0c3b1212",
   "metadata": {},
   "outputs": [],
   "source": []
  }
 ],
 "metadata": {
  "kernelspec": {
   "display_name": "Python 3 (ipykernel)",
   "language": "python",
   "name": "python3"
  },
  "language_info": {
   "codemirror_mode": {
    "name": "ipython",
    "version": 3
   },
   "file_extension": ".py",
   "mimetype": "text/x-python",
   "name": "python",
   "nbconvert_exporter": "python",
   "pygments_lexer": "ipython3",
   "version": "3.10.8"
  }
 },
 "nbformat": 4,
 "nbformat_minor": 5
}
