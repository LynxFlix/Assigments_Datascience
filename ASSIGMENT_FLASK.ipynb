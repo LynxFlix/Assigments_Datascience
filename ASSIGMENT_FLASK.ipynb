{
 "cells": [
  {
   "cell_type": "markdown",
   "id": "d8034c1e-2407-4f77-9528-98f8853ef29b",
   "metadata": {},
   "source": [
    "Q1. What is Flask Framework? What are the advantages of Flask Framework?"
   ]
  },
  {
   "cell_type": "markdown",
   "id": "261b1587-533d-425d-9df7-e795bfd3c3f0",
   "metadata": {},
   "source": [
    "ANS_1:- \n",
    "\n",
    "Flask is a micro web framework for Python, designed to be simple, lightweight, and flexible. It is often referred to as a microframework because it does not require particular tools or libraries. Flask provides the essential features of a web application, allowing developers to build web applications and APIs quickly and easily. It is known for its simplicity and ease of use, making it a popular choice for beginners and experienced developers alike.\n",
    "\n",
    "-> Advantages of Flask Framework:-\n",
    "\n",
    "1. Lightweight and Flexible:\n",
    "\n",
    "    -> Flask is a microframework, meaning it has a small core with simple, unopinionated components. This makes it easy to learn and use.\n",
    "    \n",
    "    ->Developers have the freedom to structure their applications as they see fit, using only the components they need.\n",
    "    \n",
    "2. Easy to Learn and Use:\n",
    "\n",
    "    ->Flask has a straightforward and easy-to-understand syntax, making it accessible for beginners.\n",
    "    \n",
    "    ->The documentation is extensive and well-organized, providing clear guidance for developers.\n",
    "    \n",
    "3. Modular Design:\n",
    "\n",
    "    -> Flask supports modular design, allowing developers to break down their applications into smaller, reusable components.\n",
    "    -> Extensions can be added to Flask to provide additional functionality, such as authentication, form validation, and database integration.\n",
    "    \n",
    "4. Extensible:\n",
    "\n",
    "    -> Flask has a wide range of extensions available that can be easily integrated into the application. These extensions cover various aspects such as database handling, form validation, authentication, and more.\n",
    "    \n",
    "    -> Popular extensions include Flask-SQLAlchemy for database integration, Flask-WTF for form handling, and Flask-Login for authentication."
   ]
  },
  {
   "cell_type": "markdown",
   "id": "fdbeb621-6f9f-40cf-9b4d-c01a823d5ad1",
   "metadata": {},
   "source": [
    "Q2. Create a simple Flask application to display ‘Hello World!!’. Attach the screenshot of the output in\n",
    "Jupyter Notebook."
   ]
  },
  {
   "cell_type": "markdown",
   "id": "357f3583-b69b-4b1a-a350-51a54d68c4b1",
   "metadata": {},
   "source": [
    "ANS_2:- "
   ]
  },
  {
   "cell_type": "code",
   "execution_count": null,
   "id": "25260a1b-88de-43e1-9f42-58011d62e6f2",
   "metadata": {},
   "outputs": [],
   "source": [
    "from flask import Flask\n",
    "\n",
    "app = Flask(__name__)\n",
    "@app.route(\"/\")\n",
    "def hello_world():\n",
    "\treturn \"<p>Hello, World!</p>\"\n",
    "\n",
    "if __name__ == '__main__':\n",
    "\tapp.run(debug=True, port=8001)\n"
   ]
  },
  {
   "cell_type": "markdown",
   "id": "d0805319-2d38-45f9-a92a-aba3f8a78631",
   "metadata": {},
   "source": [
    "Q3. What is App routing in Flask? Why do we use app routes?"
   ]
  },
  {
   "cell_type": "markdown",
   "id": "cb939c0a-6a62-497c-9a15-bd96b9a5098b",
   "metadata": {},
   "source": [
    "ANS_3:-\n",
    "\n",
    "App routing in Flask refers to the mechanism through which URLs (web addresses) are mapped to specific functions in a Flask application. This mapping allows you to define what should happen when a user accesses a particular URL.\n",
    "\n",
    "In Flask, this is achieved using the @app.route decorator, which is used to bind a function to a URL. The function associated with a specific route is called a view function. When a user navigates to a URL, the corresponding view function is executed, and its return value is sent as the response to the user.\n",
    "\n",
    "1. URL Mapping: App routes allow you to define clear and readable URL mappings for different parts of your application. This makes it easy to understand and manage how different URLs are handled.\n",
    "\n",
    "2. Separation of Concerns: By mapping URLs to specific view functions, you can keep your code organized and modular. Each view function handles a specific URL endpoint, promoting separation of concerns.\n",
    "\n",
    "3. Dynamic URLs: Routes can be dynamic, allowing you to capture variable parts of the URL and pass them to view functions. This is useful for creating dynamic and flexible web applications.\n",
    "\n",
    "4. Readable URLs: Using app routes, you can create user-friendly and readable URLs. This improves the overall user experience and can also benefit search engine optimization (SEO).\n",
    "\n",
    "5. Handling Different HTTP Methods: Flask routes can handle different HTTP methods (GET, POST, PUT, DELETE, etc.), allowing you to define specific behaviors for different types of requests to the same URL."
   ]
  },
  {
   "cell_type": "markdown",
   "id": "2f4c765a-a315-4cc2-b5f0-f7a47646342e",
   "metadata": {},
   "source": [
    "Q4. Create a “/welcome” route to display the welcome message “Welcome to ABC Corporation” and a “/”\n",
    "route to show the following details:\n",
    "Company Name: ABC Corporation\n",
    "Location: India\n",
    "Contact Detail: 999-999-9999"
   ]
  },
  {
   "cell_type": "markdown",
   "id": "1e4d2851-deb6-4efb-bac9-64228234016c",
   "metadata": {},
   "source": [
    "ANS_4:-"
   ]
  },
  {
   "cell_type": "code",
   "execution_count": null,
   "id": "f851296d-2826-440c-942e-88ea81afe239",
   "metadata": {},
   "outputs": [],
   "source": [
    "# CODE:-\n",
    "from flask import Flask\n",
    "import threading\n",
    "\n",
    "app = Flask(__name__)\n",
    "\n",
    "@app.route('/welcome')\n",
    "def welcome():\n",
    "    return 'Welcome to ABC Corporation'\n",
    "\n",
    "@app.route('/')\n",
    "def home():\n",
    "    return '''\n",
    "    <h1>Company Name: ABC Corporation</h1>\n",
    "    <p>Location: India</p>\n",
    "    <p>Contact Detail: 999-999-9999</p>\n",
    "    '''\n",
    "\n",
    "def run_app():\n",
    "    app.run(port=8001)\n",
    "\n",
    "thread = threading.Thread(target=run_app)\n",
    "thread.start()\n"
   ]
  },
  {
   "cell_type": "markdown",
   "id": "da476197-2beb-4f67-b349-6d7bb3addf78",
   "metadata": {},
   "source": [
    "Q5. What function is used in Flask for URL Building? Write a Python code to demonstrate the working of the\n",
    "url_for() function."
   ]
  },
  {
   "cell_type": "markdown",
   "id": "886cebf9-2dfa-416e-bd3a-86d7e7ae4130",
   "metadata": {},
   "source": [
    "ANS_5:-\n",
    "\n",
    "In Flask, the url_for() function is used for URL building. This function is helpful for dynamically generating URLs for specific functions based on their names and any associated arguments. Using url_for() ensures that your URL generation is consistent and makes it easier to manage and change routes in your application.\n"
   ]
  },
  {
   "cell_type": "code",
   "execution_count": null,
   "id": "192621ab-f25b-4a14-aa50-0470479f1f0c",
   "metadata": {},
   "outputs": [],
   "source": [
    "from flask import Flask, url_for, redirect\n",
    "\n",
    "app = Flask(__name__)\n",
    "\n",
    "@app.route('/')\n",
    "def home():\n",
    "    return 'Welcome to the Home Page'\n",
    "\n",
    "@app.route('/welcome')\n",
    "def welcome():\n",
    "    return 'Welcome to ABC Corporation'\n",
    "\n",
    "@app.route('/user/<username>')\n",
    "def show_user_profile(username):\n",
    "    return f'User: {username}'\n",
    "\n",
    "@app.route('/redirect_home')\n",
    "def redirect_home():\n",
    "    return redirect(url_for('home'))\n",
    "\n",
    "@app.route('/profile')\n",
    "def profile():\n",
    "    return redirect(url_for('show_user_profile', username='john_doe'))\n",
    "\n",
    "if __name__ == '__main__':\n",
    "    app.run(debug=True,port = 5001)\n"
   ]
  },
  {
   "cell_type": "code",
   "execution_count": null,
   "id": "289f8f70-b047-41a2-8dc0-e7f34b1c149e",
   "metadata": {},
   "outputs": [],
   "source": []
  }
 ],
 "metadata": {
  "kernelspec": {
   "display_name": "Python 3 (ipykernel)",
   "language": "python",
   "name": "python3"
  },
  "language_info": {
   "codemirror_mode": {
    "name": "ipython",
    "version": 3
   },
   "file_extension": ".py",
   "mimetype": "text/x-python",
   "name": "python",
   "nbconvert_exporter": "python",
   "pygments_lexer": "ipython3",
   "version": "3.10.8"
  }
 },
 "nbformat": 4,
 "nbformat_minor": 5
}
