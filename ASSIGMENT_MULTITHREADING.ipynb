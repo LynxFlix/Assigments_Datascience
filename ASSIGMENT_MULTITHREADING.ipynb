{
 "cells": [
  {
   "cell_type": "markdown",
   "id": "426bf1e1-3071-4a8c-8e75-68f75604ef06",
   "metadata": {},
   "source": [
    "Q1) What is multithreading in python? hy is it used? Name the module used to handle threads in python"
   ]
  },
  {
   "cell_type": "markdown",
   "id": "a3d11756-85a2-4dc0-9c29-91fc66261bd0",
   "metadata": {},
   "source": [
    "ANS_1:-\n",
    "\n",
    "Multithreading is a technique where multiple threads run concurrently within a single process. Each thread represents a separate path of execution and can perform tasks simultaneously, potentially improving the efficiency and responsiveness of a program.\n",
    "\n",
    "In Python, multithreading is used to execute multiple threads concurrently, allowing tasks to run in parallel. This is particularly useful for tasks that are I/O-bound or when you need to perform background operations while keeping the main application responsive.\n",
    "\n",
    "Module Used to Handle Threads in Python\n",
    "The primary module used for multithreading in Python is the threading module. It provides a high-level interface for creating and managing threads.\n",
    "\n",
    "Key Components of the threading Module\n",
    "\n",
    "1. Thread Class:\n",
    "    Allows the creation and management of threads.\n",
    "2. Lock Class:\n",
    "    Provides mutual exclusion to prevent race conditions when multiple threads access shared resources.\n",
    "3. Event Class:\n",
    "    Used for signaling between threads.    \n",
    "4. Condition Class:\n",
    "    Allows threads to wait for certain conditions to be met.\n",
    "5. Semaphore Class:\n",
    "    Manages a fixed number of resources and allows concurrent access up to the limit specified."
   ]
  },
  {
   "cell_type": "markdown",
   "id": "25ceea05-989d-4614-a845-3547d770921c",
   "metadata": {},
   "source": [
    "Q2. Why threading module used? rite the use of the following functions:-1)Activecount() 2) currentthread() 3)enumerate()\n"
   ]
  },
  {
   "cell_type": "markdown",
   "id": "23d2d8bf-5d45-481b-9a30-a49f96a69615",
   "metadata": {},
   "source": [
    "ANS_2:-\n",
    "The threading module in Python is used to create and manage threads, which allows concurrent execution of code. It provides various functions and classes to facilitate thread creation, synchronization, and communication between threads. The module helps in achieving parallelism and improving the efficiency and responsiveness of applications, especially in scenarios involving I/O-bound tasks.\n",
    "\n",
    "1. active_count():\n",
    "    Description: Returns the number of Thread objects currently alive. This includes all threads that have been started but not yet terminated.\n",
    "    Use Case: Useful for monitoring the number of active threads in the application, which can help in debugging or managing thread resources.\n",
    "2. current_thread():\n",
    "    Description: Returns the Thread object corresponding to the caller’s thread of control. This can be used to get the current thread’s information or to check which thread is currently executing a particular section of code.\n",
    "    Use Case: Helpful for debugging or logging, where you need to know which thread is executing a certain block of code.\n",
    "3. enumerate():\n",
    "    Description: Returns a list of all Thread objects currently alive. This includes all threads that have been started but not yet terminated. Unlike active_count(), which only returns the count, enumerate() provides a list of thread objects.\n",
    "    Use Case: Useful for getting a list of all active threads to perform operations like joining all threads or checking their status."
   ]
  },
  {
   "cell_type": "markdown",
   "id": "e315aed3-6868-496d-979f-b5bba2537122",
   "metadata": {},
   "source": [
    "Q3. Explain the following functions:- 1)run() 2)start() 3)join() 4)isalive() ?"
   ]
  },
  {
   "cell_type": "markdown",
   "id": "bb675582-c8a9-49d3-b952-3d0532cdf1d4",
   "metadata": {},
   "source": [
    "ANS_3:-\n",
    "\n",
    "1. run():-\n",
    "    Description: This method defines the code that should be executed by a thread. It is called when start() is invoked on a Thread object. By default, run() does nothing, but you can override this method in a subclass of Thread to specify the thread’s behavior."
   ]
  },
  {
   "cell_type": "code",
   "execution_count": 18,
   "id": "7b8a6561-93e0-458c-bfd9-dc85d0856f93",
   "metadata": {},
   "outputs": [
    {
     "name": "stdout",
     "output_type": "stream",
     "text": [
      "Running thread\n",
      "Running thread\n",
      "Running thread\n",
      "Running thread\n",
      "Running thread\n"
     ]
    }
   ],
   "source": [
    "# CODE:-\n",
    "import threading\n",
    "\n",
    "class MyThread(threading.Thread):\n",
    "    def run(self):\n",
    "        for i in range(5):\n",
    "            print(\"Running thread\")\n",
    "\n",
    "t = MyThread()\n",
    "t.start()  \n",
    "t.join()\n"
   ]
  },
  {
   "cell_type": "markdown",
   "id": "0cdf557e-79f4-4fb8-a922-072a83dcca04",
   "metadata": {},
   "source": [
    "2. start():-\n",
    "    Description: This method starts the thread’s activity. It invokes the run() method in a new thread of control. You should not directly call the run() method; instead, use start() to begin execution."
   ]
  },
  {
   "cell_type": "code",
   "execution_count": 17,
   "id": "7f5fef2c-4450-4e0a-b4e7-635b93541606",
   "metadata": {},
   "outputs": [
    {
     "name": "stdout",
     "output_type": "stream",
     "text": [
      "0\n",
      "1\n",
      "2\n",
      "3\n",
      "4\n"
     ]
    }
   ],
   "source": [
    "# CODE:-\n",
    "import threading\n",
    "\n",
    "def print_numbers():\n",
    "    for i in range(5):\n",
    "        print(i)\n",
    "\n",
    "t = threading.Thread(target=print_numbers)\n",
    "t.start()  \n",
    "t.join()\n"
   ]
  },
  {
   "cell_type": "markdown",
   "id": "7e34743f-a103-4b14-b389-d5e09c9928ed",
   "metadata": {},
   "source": [
    "3.  join():-\n",
    "    Description: This method blocks the calling thread until the thread whose join() method was called has terminated. It is used to ensure that the calling thread waits for the completion of the thread it is joining."
   ]
  },
  {
   "cell_type": "code",
   "execution_count": 19,
   "id": "30371e97-5f87-428d-a9de-053f613761fd",
   "metadata": {},
   "outputs": [
    {
     "name": "stdout",
     "output_type": "stream",
     "text": [
      "0\n",
      "1\n",
      "2\n",
      "3\n",
      "4\n",
      "Thread has finished executing.\n"
     ]
    }
   ],
   "source": [
    "# CODE:-\n",
    "import threading\n",
    "\n",
    "def print_numbers():\n",
    "    for i in range(5):\n",
    "        print(i)\n",
    "\n",
    "t = threading.Thread(target=print_numbers)\n",
    "t.start()\n",
    "t.join()  \n",
    "print(\"Thread has finished executing.\")\n"
   ]
  },
  {
   "cell_type": "markdown",
   "id": "1937d180-0f35-4250-8106-d25e2f6fa9b1",
   "metadata": {},
   "source": [
    "4. is_alive():-\n",
    "    Description: This method checks if the thread is currently alive. It returns True if the thread is still executing and False if it has finished execution or has not been started."
   ]
  },
  {
   "cell_type": "code",
   "execution_count": 20,
   "id": "307f5fee-258b-4fbe-9fac-84a716a5cca5",
   "metadata": {},
   "outputs": [
    {
     "name": "stdout",
     "output_type": "stream",
     "text": [
      "0\n",
      "Thread is still running...\n",
      "Thread is still running...\n",
      "1\n",
      "Thread is still running...\n",
      "Thread is still running...\n",
      "2\n",
      "Thread is still running...\n",
      "Thread is still running...\n",
      "3\n",
      "Thread is still running...\n",
      "Thread is still running...\n",
      "4\n",
      "Thread is still running...\n",
      "Thread is still running...\n",
      "Thread has finished.\n"
     ]
    }
   ],
   "source": [
    "# CODE:-\n",
    "import threading\n",
    "import time\n",
    "\n",
    "def print_numbers():\n",
    "    for i in range(5):\n",
    "        print(i)\n",
    "        time.sleep(1)\n",
    "\n",
    "t = threading.Thread(target=print_numbers)\n",
    "t.start()\n",
    "\n",
    "while t.is_alive():\n",
    "    print(\"Thread is still running...\")\n",
    "    time.sleep(0.5)\n",
    "\n",
    "print(\"Thread has finished.\")\n"
   ]
  },
  {
   "cell_type": "markdown",
   "id": "bf3320b6-972c-46b5-b94c-c475b3a3d56d",
   "metadata": {},
   "source": [
    "Q4. Write a python program to create two threads. Thread one must print the list of squares and thread\n",
    "two must print the list of cubes"
   ]
  },
  {
   "cell_type": "markdown",
   "id": "d80d63b2-7c95-4c7d-82dd-9c744285eaa3",
   "metadata": {},
   "source": [
    "ANS_4:- \n"
   ]
  },
  {
   "cell_type": "code",
   "execution_count": 21,
   "id": "f2ea2011-2307-4196-899f-7b0de45c67c2",
   "metadata": {},
   "outputs": [
    {
     "name": "stdout",
     "output_type": "stream",
     "text": [
      "Squares: [1, 4, 9, 16, 25]\n",
      "Cubes: [1, 8, 27, 64, 125]\n",
      "Both threads have finished.\n"
     ]
    }
   ],
   "source": [
    "# CODE:\n",
    "import threading\n",
    "\n",
    "def print_squares():\n",
    "    numbers = [1, 2, 3, 4, 5]\n",
    "    squares = [n**2 for n in numbers]\n",
    "    print(\"Squares:\", squares)\n",
    "def print_cubes():\n",
    "    numbers = [1, 2, 3, 4, 5]\n",
    "    cubes = [n**3 for n in numbers]\n",
    "    print(\"Cubes:\", cubes)\n",
    "\n",
    "thread1 = threading.Thread(target=print_squares)\n",
    "thread2 = threading.Thread(target=print_cubes)\n",
    "\n",
    "thread1.start()\n",
    "thread2.start()\n",
    "\n",
    "thread1.join()\n",
    "thread2.join()\n",
    "\n",
    "print(\"Both threads have finished.\")\n"
   ]
  },
  {
   "cell_type": "markdown",
   "id": "26855315-f926-41f0-9d45-06b43332f5a7",
   "metadata": {},
   "source": [
    "Q5. State advantages and disadvantages of multithreading?"
   ]
  },
  {
   "cell_type": "markdown",
   "id": "5e1a76a1-23fd-4000-9038-5f44179b4994",
   "metadata": {},
   "source": [
    "ANS_5:-\n",
    "\n",
    "-> Advantages of Multithreading:-\n",
    "1. Improved Application Responsiveness:\n",
    "    Multithreading allows a program to remain responsive while performing background tasks. For example, a GUI application can continue to respond to user inputs while performing time-consuming operations in the background.\n",
    "2. Efficient Resource Utilization:\n",
    "    Threads can share resources and data more efficiently compared to separate processes. This can lead to better utilization of system resources, such as memory, because threads within the same process share the same memory space.\n",
    "3. Enhanced Performance for I/O-bound Tasks:\n",
    "    Multithreading can improve performance in I/O-bound tasks (e.g., file operations, network communication) by allowing one thread to handle I/O operations while others perform computation or handle user interactions.\n",
    "4. Parallel Execution:\n",
    "    In some cases, multithreading can achieve parallel execution of tasks, particularly on multi-core processors where different threads can run on different cores simultaneously.\n",
    "    \n",
    "-> Disadvantages of Multithreading:-\n",
    "\n",
    "1. Complexity in Program Design:\n",
    "    Designing and managing multithreaded applications can be complex. Issues such as synchronization, deadlocks, and race conditions can arise, requiring careful design and testing.\n",
    "2. Global Interpreter Lock (GIL) in CPython:\n",
    "    In CPython (the standard Python implementation), the Global Interpreter Lock (GIL) limits the execution of Python bytecode to one thread at a time. This can reduce the effectiveness of multithreading for CPU-bound tasks in Python.\n",
    "3. Increased Resource Consumption:\n",
    "    Threads consume system resources such as memory and CPU. Creating too many threads can lead to increased overhead and reduced performance due to context switching."
   ]
  },
  {
   "cell_type": "markdown",
   "id": "a3e36425-d171-4e1f-8b2d-8e548d14209d",
   "metadata": {},
   "source": [
    "Q6. Explain deadlocks and race conditions?"
   ]
  },
  {
   "cell_type": "markdown",
   "id": "a18c9672-0f95-48ee-8249-2848b0f505cb",
   "metadata": {},
   "source": [
    "ANS_6:-\n",
    "\n",
    "\n",
    "Deadlocks:-\n",
    "\n",
    "->Definition: A deadlock is a situation in which two or more threads are blocked forever, waiting for each other to release resources or complete actions. In other words, each thread holds a resource and is waiting to acquire\n",
    "\n",
    "1. Mutual Exclusion: At least one resource is held in a non-shareable mode, meaning only one thread can use the resource at any time.\n",
    "2. Hold and Wait: A thread holding at least one resource is waiting to acquire additional resources held by other threads.\n",
    "3. No Preemption: Resources cannot be forcibly taken from threads holding them; they must be released voluntarily.\n"
   ]
  },
  {
   "cell_type": "code",
   "execution_count": null,
   "id": "71d7f2b5-0084-4e4b-a83a-5e31c3dc18ab",
   "metadata": {},
   "outputs": [
    {
     "name": "stdout",
     "output_type": "stream",
     "text": [
      "Thread 1 acquired resource 1\n",
      "Thread 2 acquired resource 2\n"
     ]
    }
   ],
   "source": [
    "# CODE:-\n",
    "import threading\n",
    "import time\n",
    "\n",
    "resource1 = threading.Lock()\n",
    "resource2 = threading.Lock()\n",
    "\n",
    "def thread1_function():\n",
    "    with resource1:\n",
    "        print(\"Thread 1 acquired resource 1\")\n",
    "        time.sleep(1)  \n",
    "        with resource2:\n",
    "            print(\"Thread 1 acquired resource 2\")\n",
    "\n",
    "def thread2_function():\n",
    "    with resource2:\n",
    "        print(\"Thread 2 acquired resource 2\")\n",
    "        time.sleep(1)\n",
    "        with resource1:\n",
    "            print(\"Thread 2 acquired resource 1\")\n",
    "\n",
    "thread1 = threading.Thread(target=thread1_function)\n",
    "thread2 = threading.Thread(target=thread2_function)\n",
    "\n",
    "thread1.start()\n",
    "thread2.start()\n",
    "\n",
    "thread1.join()\n",
    "thread2.join()\n"
   ]
  },
  {
   "cell_type": "markdown",
   "id": "e64972de-568d-41fe-8f32-fc53ff966249",
   "metadata": {},
   "source": [
    "Race Conditions:-\n",
    "-> Definition: A race condition occurs when the outcome of a program depends on the sequence or timing of uncontrollable events, such as thread execution order. It typically happens when multiple threads access and modify shared data concurrently without proper synchronization.\n",
    "\n",
    "1. Simultaneous Access: Multiple threads accessing shared resources simultaneously.\n",
    "2. Lack of Synchronization: Absence of mechanisms to coordinate thread access to shared resources."
   ]
  }
 ],
 "metadata": {
  "kernelspec": {
   "display_name": "Python 3 (ipykernel)",
   "language": "python",
   "name": "python3"
  },
  "language_info": {
   "codemirror_mode": {
    "name": "ipython",
    "version": 3
   },
   "file_extension": ".py",
   "mimetype": "text/x-python",
   "name": "python",
   "nbconvert_exporter": "python",
   "pygments_lexer": "ipython3",
   "version": "3.10.8"
  }
 },
 "nbformat": 4,
 "nbformat_minor": 5
}
