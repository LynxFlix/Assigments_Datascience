{
 "cells": [
  {
   "cell_type": "markdown",
   "id": "a999ab7b-6a06-4530-845b-7bddc22d557b",
   "metadata": {},
   "source": [
    "Q1. Write a program to accept percentage from the user and display the grade according to the following :-"
   ]
  },
  {
   "cell_type": "markdown",
   "id": "2ff5d72d-838c-4a65-8aaf-4251a49b202f",
   "metadata": {},
   "source": [
    "ANS_1:-\n"
   ]
  },
  {
   "cell_type": "code",
   "execution_count": 1,
   "id": "6f311ef6-0a1c-4f2d-9548-e54d54c0e9ef",
   "metadata": {},
   "outputs": [
    {
     "name": "stdin",
     "output_type": "stream",
     "text": [
      "Enter your percentage:  67\n"
     ]
    },
    {
     "name": "stdout",
     "output_type": "stream",
     "text": [
      "Your grade is: C\n"
     ]
    }
   ],
   "source": [
    "# CODE:-\n",
    "percentage = float(input(\"Enter your percentage: \"))\n",
    "\n",
    "if percentage > 90:\n",
    "    grade = 'A'\n",
    "elif 80 < percentage <= 90:\n",
    "    grade = 'B'\n",
    "elif 60 <= percentage <= 80:\n",
    "    grade = 'C'\n",
    "else:\n",
    "    grade = 'D'\n",
    "\n",
    "print(f\"Your grade is: {grade}\")\n"
   ]
  },
  {
   "cell_type": "markdown",
   "id": "4ae2f817-5c2f-4ed4-90c0-4dfa32484204",
   "metadata": {},
   "source": [
    "Q2. Write a program to accept the cost price of a bike and display the road tax to be paid according to the \n",
    "following criteria: "
   ]
  },
  {
   "cell_type": "markdown",
   "id": "43feea7b-c136-471e-bfaa-4f3670142205",
   "metadata": {},
   "source": [
    "ANS_2:-"
   ]
  },
  {
   "cell_type": "code",
   "execution_count": 2,
   "id": "317030b9-5bff-4bd8-b197-c1f88d07289e",
   "metadata": {},
   "outputs": [
    {
     "name": "stdin",
     "output_type": "stream",
     "text": [
      "Enter the cost price of the bike (in Rs):  100023\n"
     ]
    },
    {
     "name": "stdout",
     "output_type": "stream",
     "text": [
      "The road tax to be paid is: Rs 15003.45\n"
     ]
    }
   ],
   "source": [
    "# CODE:-\n",
    "\n",
    "cost_price = float(input(\"Enter the cost price of the bike (in Rs): \"))\n",
    "\n",
    "if cost_price > 100000:\n",
    "    tax = cost_price * 0.15\n",
    "elif 50000 < cost_price <= 100000:\n",
    "    tax = cost_price * 0.10\n",
    "else:\n",
    "    tax = cost_price * 0.05\n",
    "\n",
    "print(f\"The road tax to be paid is: Rs {tax:.2f}\")\n"
   ]
  },
  {
   "cell_type": "markdown",
   "id": "e958972d-0c84-4cdd-930f-b9cab7a98f43",
   "metadata": {},
   "source": [
    "Q3. Accept any city from the user and display monuments of that city. \n"
   ]
  },
  {
   "cell_type": "markdown",
   "id": "ae69c1de-ae86-42ee-bbdd-10a50d8c1684",
   "metadata": {},
   "source": [
    "ANS_3:-"
   ]
  },
  {
   "cell_type": "code",
   "execution_count": 3,
   "id": "1c581e20-cf82-48c9-b807-75d2938a0e02",
   "metadata": {},
   "outputs": [
    {
     "name": "stdin",
     "output_type": "stream",
     "text": [
      "Enter the city name:  Delhi\n"
     ]
    },
    {
     "name": "stdout",
     "output_type": "stream",
     "text": [
      "Monuments in Delhi: Red Fort, Qutub Minar, India Gate\n"
     ]
    }
   ],
   "source": [
    "# CODE:-\n",
    "monuments = {\n",
    "    'Delhi': 'Red Fort, Qutub Minar, India Gate',\n",
    "    'Agra': 'Taj Mahal, Agra Fort, Fatehpur Sikri',\n",
    "    'Jaipur': 'Amber Fort, City Palace, Hawa Mahal',\n",
    "    'Mumbai': 'Gateway of India, Elephanta Caves, Marine Drive',\n",
    "    'Kolkata': 'Victoria Memorial, Howrah Bridge, Indian Museum'\n",
    "}\n",
    "\n",
    "# Get city input from the user\n",
    "city = input(\"Enter the city name: \")\n",
    "\n",
    "# Display the monuments based on the city\n",
    "if city in monuments:\n",
    "    print(f\"Monuments in {city}: {monuments[city]}\")\n",
    "else:\n",
    "    print(\"Sorry, information about monuments in this city is not available.\")\n"
   ]
  },
  {
   "cell_type": "markdown",
   "id": "5e9f3d37-abf4-48a8-aa92-3e829184936b",
   "metadata": {},
   "source": [
    "Q4. Check how many times a given number can be divided by 3 before it is less than or equal to 10. \n"
   ]
  },
  {
   "cell_type": "markdown",
   "id": "2477d80e-22ab-4d78-9f41-701aaa225428",
   "metadata": {},
   "source": [
    "ANS_4:-"
   ]
  },
  {
   "cell_type": "code",
   "execution_count": 8,
   "id": "e87bb261-8361-44e5-a3db-2d1a94c10c01",
   "metadata": {},
   "outputs": [
    {
     "name": "stdin",
     "output_type": "stream",
     "text": [
      "Enter a number:  2\n"
     ]
    },
    {
     "name": "stdout",
     "output_type": "stream",
     "text": [
      "The number can be divided by 3 0 times before it is less than or equal to 10.\n"
     ]
    }
   ],
   "source": [
    "# Code:-\n",
    "\n",
    "number = int(input(\"Enter a number: \"))\n",
    "count = 0\n",
    "\n",
    "while number > 10:\n",
    "    number = number/3\n",
    "    count += 1\n",
    "print(f\"The number can be divided by 3 {count} times before it is less than or equal to 10.\")\n"
   ]
  },
  {
   "cell_type": "markdown",
   "id": "9815fd77-3912-4763-830d-9b6498e19077",
   "metadata": {},
   "source": [
    "Q5. Why and When to Use while Loop in Python give a detailed description with example \n"
   ]
  },
  {
   "cell_type": "markdown",
   "id": "133057c3-cfa9-4685-b6ea-7ce2ee7d9fa0",
   "metadata": {},
   "source": [
    "ANS_5:-\n",
    "\n",
    "The while loop in Python is used to execute a block of code repeatedly as long as a specified condition remains True. It is useful in scenarios where the number of iterations is not known beforehand and the loop needs to continue until a particular condition is met.\n",
    "\n",
    " When to Use a while Loop:\n",
    "\n",
    "-> Unknown Number of Iterations: When you don't know in advance how many times the loop needs to execute.\n",
    "-> Condition-Based Execution: When you want to perform iterations based on the evaluation of a condition rather than a fixed number of times.\n",
    "-> Continuous Operations: For tasks that need to run continuously until a certain condition "
   ]
  },
  {
   "cell_type": "code",
   "execution_count": 9,
   "id": "43d9c484-ff4a-4718-ac73-3673c7b1e9e9",
   "metadata": {},
   "outputs": [
    {
     "name": "stdin",
     "output_type": "stream",
     "text": [
      "Enter the password:  sefnksfjbsf\n"
     ]
    },
    {
     "name": "stdout",
     "output_type": "stream",
     "text": [
      "Incorrect password. Try again.\n"
     ]
    },
    {
     "name": "stdin",
     "output_type": "stream",
     "text": [
      "Enter the password:  securepassword\n"
     ]
    },
    {
     "name": "stdout",
     "output_type": "stream",
     "text": [
      "Password accepted.\n",
      "Access granted.\n"
     ]
    }
   ],
   "source": [
    "# CODE:-\n",
    "\n",
    "correct_password = \"securepassword\"\n",
    "\n",
    "user_input = \"\"\n",
    "\n",
    "while user_input != correct_password:\n",
    "    user_input = input(\"Enter the password: \")\n",
    "    \n",
    "    if user_input == correct_password:\n",
    "        print(\"Password accepted.\")\n",
    "    else:\n",
    "        print(\"Incorrect password. Try again.\")\n",
    "\n",
    "print(\"Access granted.\")\n"
   ]
  },
  {
   "cell_type": "markdown",
   "id": "63ee43f3-8c7e-407d-bb0a-969814db0392",
   "metadata": {},
   "source": [
    "Q6. Use nested while loop to print 3 different pattern. \n"
   ]
  },
  {
   "cell_type": "markdown",
   "id": "e92798e6-e09a-4338-9544-b8caabe58a04",
   "metadata": {},
   "source": [
    "ANS_6:-\n",
    "\n",
    "1. Right-Angle Triangle Pattern:"
   ]
  },
  {
   "cell_type": "code",
   "execution_count": 10,
   "id": "6de8a7d2-1660-433c-b9ea-bb1e0a9e3082",
   "metadata": {},
   "outputs": [
    {
     "name": "stdout",
     "output_type": "stream",
     "text": [
      "* \n",
      "* * \n",
      "* * * \n",
      "* * * * \n",
      "* * * * * \n"
     ]
    }
   ],
   "source": [
    "# CODE:-\n",
    "# Right-Angle Triangle Pattern\n",
    "rows = 5\n",
    "i = 1\n",
    "while i <= rows:\n",
    "    j = 1\n",
    "    while j <= i:\n",
    "        print(\"*\", end=\" \")\n",
    "        j += 1\n",
    "    print()\n",
    "    i += 1\n"
   ]
  },
  {
   "cell_type": "markdown",
   "id": "b95cf3cb-f29f-40c7-a8a6-9477ebb6acde",
   "metadata": {},
   "source": [
    "2. Inverted Right-Angle Triangle Pattern:"
   ]
  },
  {
   "cell_type": "code",
   "execution_count": 11,
   "id": "ff4113b6-2268-422b-924e-3884744f0404",
   "metadata": {},
   "outputs": [
    {
     "name": "stdout",
     "output_type": "stream",
     "text": [
      "* * * * * \n",
      "* * * * \n",
      "* * * \n",
      "* * \n",
      "* \n"
     ]
    }
   ],
   "source": [
    "# CODE:-\n",
    "# Inverted Right-Angle Triangle Pattern\n",
    "rows = 5\n",
    "i = rows\n",
    "while i >= 1:\n",
    "    j = 1\n",
    "    while j <= i:\n",
    "        print(\"*\", end=\" \")\n",
    "        j += 1\n",
    "    print()\n",
    "    i -= 1\n"
   ]
  },
  {
   "cell_type": "markdown",
   "id": "713dd2af-e903-45c0-a5b1-760eb765c1d7",
   "metadata": {},
   "source": [
    "3. Diamond Pattern:"
   ]
  },
  {
   "cell_type": "code",
   "execution_count": 14,
   "id": "012b65d3-c1b1-463a-816a-1487c55f6277",
   "metadata": {},
   "outputs": [
    {
     "name": "stdout",
     "output_type": "stream",
     "text": [
      "        * \n",
      "      * * * \n",
      "    * * * * * \n",
      "  * * * * * * * \n",
      "* * * * * * * * * \n",
      "  * * * * * * * \n",
      "    * * * * * \n",
      "      * * * \n",
      "        * \n"
     ]
    }
   ],
   "source": [
    "# Diamond Pattern\n",
    "rows = 5\n",
    "i = 1\n",
    "\n",
    "while i <= rows:\n",
    "    j = 1\n",
    "    while j <= (rows - i):\n",
    "        print(\" \", end=\" \")\n",
    "        j += 1\n",
    "    k = 1\n",
    "    while k <= (2 * i - 1):\n",
    "        print(\"*\", end=\" \")\n",
    "        k += 1\n",
    "    print()\n",
    "    i += 1\n",
    "\n",
    "i = rows - 1\n",
    "while i >= 1:\n",
    "    j = 1\n",
    "    while j <= (rows - i):\n",
    "        print(\" \", end=\" \")\n",
    "        j += 1\n",
    "    k = 1\n",
    "    while k <= (2 * i - 1):\n",
    "        print(\"*\", end=\" \")\n",
    "        k += 1\n",
    "    print()\n",
    "    i -= 1\n"
   ]
  },
  {
   "cell_type": "markdown",
   "id": "adca97a3-5d23-449c-b77e-68e9d96f8e51",
   "metadata": {},
   "source": [
    "Q7. Reverse a while loop to display numbers from 10 to 1."
   ]
  },
  {
   "cell_type": "markdown",
   "id": "e42690dc-94fc-4a03-ad63-bfa47a39eae4",
   "metadata": {},
   "source": [
    "ANS_7:-\n"
   ]
  },
  {
   "cell_type": "code",
   "execution_count": 15,
   "id": "9463dfeb-96a9-4a05-bd6a-2efd8630d44a",
   "metadata": {},
   "outputs": [
    {
     "name": "stdout",
     "output_type": "stream",
     "text": [
      "10\n",
      "9\n",
      "8\n",
      "7\n",
      "6\n",
      "5\n",
      "4\n",
      "3\n",
      "2\n",
      "1\n"
     ]
    }
   ],
   "source": [
    "# CODE:-\n",
    "number = 10\n",
    "\n",
    "while number >= 1:\n",
    "    print(number)\n",
    "    number -= 1  \n"
   ]
  },
  {
   "cell_type": "markdown",
   "id": "0bda1194-f773-4eb8-adfe-8e21500396bc",
   "metadata": {},
   "source": [
    "Q8. Reverse a while loop to display numbers from 10 to 1 \n"
   ]
  },
  {
   "cell_type": "markdown",
   "id": "e327f6ce-34cf-4204-bc6c-c98d077da1f2",
   "metadata": {},
   "source": [
    "ANS_8\":-"
   ]
  },
  {
   "cell_type": "code",
   "execution_count": 16,
   "id": "b36a03be-39e4-4c74-8990-f4fe752eccf8",
   "metadata": {},
   "outputs": [
    {
     "name": "stdout",
     "output_type": "stream",
     "text": [
      "10\n",
      "9\n",
      "8\n",
      "7\n",
      "6\n",
      "5\n",
      "4\n",
      "3\n",
      "2\n",
      "1\n"
     ]
    }
   ],
   "source": [
    "# CODE:-\n",
    "\n",
    "number = 10\n",
    "\n",
    "while number >= 1:\n",
    "    print(number)\n",
    "    number -= 1\n"
   ]
  },
  {
   "cell_type": "code",
   "execution_count": null,
   "id": "6a178625-f0b1-4734-b733-465c5ff9780a",
   "metadata": {},
   "outputs": [],
   "source": []
  }
 ],
 "metadata": {
  "kernelspec": {
   "display_name": "Python 3 (ipykernel)",
   "language": "python",
   "name": "python3"
  },
  "language_info": {
   "codemirror_mode": {
    "name": "ipython",
    "version": 3
   },
   "file_extension": ".py",
   "mimetype": "text/x-python",
   "name": "python",
   "nbconvert_exporter": "python",
   "pygments_lexer": "ipython3",
   "version": "3.10.8"
  }
 },
 "nbformat": 4,
 "nbformat_minor": 5
}
