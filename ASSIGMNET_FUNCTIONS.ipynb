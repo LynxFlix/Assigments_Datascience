{
 "cells": [
  {
   "cell_type": "markdown",
   "id": "251f2355-b90d-427b-9151-71ba7ca365db",
   "metadata": {},
   "source": [
    "Q1. Which keyword is used to create a function? Create a function to return a list of odd numbers in the\n",
    "range of 1 to 25."
   ]
  },
  {
   "cell_type": "markdown",
   "id": "73e57939-c87a-4644-aa72-54c0b6cb5c1d",
   "metadata": {},
   "source": [
    "ANS_1:-\n",
    "\n",
    "In Python, the def keyword is used to create a function."
   ]
  },
  {
   "cell_type": "code",
   "execution_count": 10,
   "id": "4e835c93-bdd6-4740-add3-2dd82cbb70d5",
   "metadata": {},
   "outputs": [
    {
     "name": "stdout",
     "output_type": "stream",
     "text": [
      "[1, 3, 5, 7, 9, 11, 13, 15, 17, 19, 21, 23, 25]\n"
     ]
    }
   ],
   "source": [
    "# example:-\n",
    "def get_odd_numbers():\n",
    "    odd_numbers = [num for num in range(1, 26) if num % 2 != 0]\n",
    "    return odd_numbers\n",
    "\n",
    "print(get_odd_numbers())"
   ]
  },
  {
   "cell_type": "markdown",
   "id": "728ffd88-acd6-4227-abb2-aad94a1eb225",
   "metadata": {},
   "source": [
    "Q2. Why *args and **kwargs is used in some functions? Create a function each for *args and **kwargs to\n",
    "demonstrate their use."
   ]
  },
  {
   "cell_type": "markdown",
   "id": "341b7473-97c5-44f1-940a-c4434cc9e4df",
   "metadata": {},
   "source": [
    "ANS_2:-\n",
    "In Python, *args and **kwargs are used in function definitions to allow the function to accept a variable number of arguments. This makes functions more flexible and capable of handling different numbers of inputs.\n"
   ]
  },
  {
   "cell_type": "code",
   "execution_count": 9,
   "id": "995bde10-9088-4e04-9553-c94639e6e602",
   "metadata": {},
   "outputs": [
    {
     "name": "stdout",
     "output_type": "stream",
     "text": [
      "1\n",
      "2\n",
      "3\n",
      "10\n",
      "20\n",
      "30\n",
      "40\n",
      "50\n"
     ]
    }
   ],
   "source": [
    "# example using *args:-\n",
    "def print_numbers(*args):\n",
    "    for number in args:\n",
    "        print(number)\n",
    "print_numbers(1, 2, 3)\n",
    "print_numbers(10, 20, 30, 40, 50)"
   ]
  },
  {
   "cell_type": "code",
   "execution_count": 8,
   "id": "ecb20efe-181b-410b-aec2-d38166fe7262",
   "metadata": {},
   "outputs": [
    {
     "name": "stdout",
     "output_type": "stream",
     "text": [
      "name: Alice\n",
      "age: 30\n",
      "city: New York\n",
      "job: Engineer\n",
      "company: TechCorp\n"
     ]
    }
   ],
   "source": [
    "# example using **kwargs:-\n",
    "def print_info(**kwargs):\n",
    "    for key, value in kwargs.items():\n",
    "        print(f\"{key}: {value}\")\n",
    "print_info(name=\"Alice\", age=30, city=\"New York\")\n",
    "print_info(job=\"Engineer\", company=\"TechCorp\")\n"
   ]
  },
  {
   "cell_type": "markdown",
   "id": "f02d98ba-3f45-4e2f-bc15-f0668b2da4f4",
   "metadata": {},
   "source": [
    "Q3. What is an iterator in python? Name the method used to initialise the iterator object and the method\n",
    "used for iteration. Use these methods to print the first five elements of the given list [2, 4, 6, 8, 10, 12, 14, 16,\n",
    "18, 20]."
   ]
  },
  {
   "cell_type": "markdown",
   "id": "122a34c4-4b13-4807-aabd-596e9259885e",
   "metadata": {},
   "source": [
    "ANS-3:-\n",
    "An iterator in Python is an object that implements the iterator protocol, consisting of two methods:\n",
    "\n",
    "1) __iter__(): This method initializes the iterator object and returns the iterator itself.\n",
    "2) __next__(): This method is used to get the next item from the iterator. When there are no more items, it raises the StopIteration exception.\n"
   ]
  },
  {
   "cell_type": "code",
   "execution_count": 7,
   "id": "944d7172-bf65-4c4c-a7a8-bdeda846e64f",
   "metadata": {},
   "outputs": [
    {
     "name": "stdout",
     "output_type": "stream",
     "text": [
      "2\n",
      "4\n",
      "6\n",
      "8\n",
      "10\n"
     ]
    }
   ],
   "source": [
    "# example:-\n",
    "my_list = [2, 4, 6, 8, 10, 12, 14, 16, 18, 20]\n",
    "\n",
    "iterator = iter(my_list)\n",
    "\n",
    "for _ in range(5):\n",
    "    print(next(iterator))"
   ]
  },
  {
   "cell_type": "markdown",
   "id": "e47e897f-b232-4703-bd7c-6eddf57d4b78",
   "metadata": {},
   "source": [
    "Q4. What is a generator function in python? Why yield keyword is used? Give an example of a generator\n",
    "function."
   ]
  },
  {
   "cell_type": "markdown",
   "id": "bd70a27b-c423-400a-bb5d-d46e7138fab3",
   "metadata": {},
   "source": [
    "ANS_4:-\n",
    "A generator function in Python is a special type of function that returns an iterator. Unlike regular functions that return a single value and terminate, a generator function uses the yield keyword to return multiple values one at a time, pausing execution between each yield. This allows you to iterate over a sequence of values without having to store the entire sequence in memory.\n",
    "\n",
    "yield: The yield keyword is used in a generator function to produce a value and pause the function’s execution. When yield is called, the function’s state is saved, and the value is returned to the caller. The function can be resumed later from where it left off.\n"
   ]
  },
  {
   "cell_type": "code",
   "execution_count": 5,
   "id": "1f0e4c7b-f59e-4c85-9f25-bae431f18863",
   "metadata": {},
   "outputs": [
    {
     "name": "stdout",
     "output_type": "stream",
     "text": [
      "0\n",
      "1\n",
      "1\n",
      "2\n",
      "3\n"
     ]
    }
   ],
   "source": [
    "# example:-\n",
    "def fibonacci(n):\n",
    "    a, b = 0, 1\n",
    "    count = 0\n",
    "    while count < n:\n",
    "        yield a\n",
    "        a, b = b, a + b\n",
    "        count += 1\n",
    "fib_gen = fibonacci(5)\n",
    "\n",
    "for num in fib_gen:\n",
    "    print(num)\n"
   ]
  },
  {
   "cell_type": "markdown",
   "id": "bc9473c5-7e31-4127-9204-4cc87ded9c2a",
   "metadata": {},
   "source": [
    "Q5. Create a generator function for prime numbers less than 1000. Use the next() method to print the\n",
    "first 20 prime numbers."
   ]
  },
  {
   "cell_type": "markdown",
   "id": "dc132e6c-2945-4554-89c9-29268e14240b",
   "metadata": {},
   "source": [
    "ANS_5:-\n",
    "\n",
    "To create a generator function for prime numbers less than 1000 and use the next() method to print the first 20 prime numbers, follow these steps:\n"
   ]
  },
  {
   "cell_type": "code",
   "execution_count": 4,
   "id": "649e9cd5-7d9c-4a5a-987e-7a367577a8f0",
   "metadata": {},
   "outputs": [
    {
     "name": "stdout",
     "output_type": "stream",
     "text": [
      "2\n",
      "3\n",
      "5\n",
      "7\n",
      "11\n",
      "13\n",
      "17\n",
      "19\n",
      "23\n",
      "29\n",
      "31\n",
      "37\n",
      "41\n",
      "43\n",
      "47\n",
      "53\n",
      "59\n",
      "61\n",
      "67\n",
      "71\n"
     ]
    }
   ],
   "source": [
    "def prime_generator(limit):\n",
    "    def is_prime(num):\n",
    "        if num <= 1:\n",
    "            return False\n",
    "        if num <= 3:\n",
    "            return True\n",
    "        if num % 2 == 0 or num % 3 == 0:\n",
    "            return False\n",
    "        i = 5\n",
    "        while i * i <= num:\n",
    "            if num % i == 0 or num % (i + 2) == 0:\n",
    "                return False\n",
    "            i += 6\n",
    "        return True\n",
    "\n",
    "    for num in range(2, limit):\n",
    "        if is_prime(num):\n",
    "            yield num\n",
    "prime_gen = prime_generator(1000)\n",
    "for _ in range(20):\n",
    "    print(next(prime_gen))\n"
   ]
  },
  {
   "cell_type": "code",
   "execution_count": null,
   "id": "e138efdf-ddfd-4cc7-9b6f-c4ec225edcbc",
   "metadata": {},
   "outputs": [],
   "source": []
  }
 ],
 "metadata": {
  "kernelspec": {
   "display_name": "Python 3 (ipykernel)",
   "language": "python",
   "name": "python3"
  },
  "language_info": {
   "codemirror_mode": {
    "name": "ipython",
    "version": 3
   },
   "file_extension": ".py",
   "mimetype": "text/x-python",
   "name": "python",
   "nbconvert_exporter": "python",
   "pygments_lexer": "ipython3",
   "version": "3.10.8"
  }
 },
 "nbformat": 4,
 "nbformat_minor": 5
}
