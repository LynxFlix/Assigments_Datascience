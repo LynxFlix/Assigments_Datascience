{
 "cells": [
  {
   "cell_type": "markdown",
   "id": "251f2355-b90d-427b-9151-71ba7ca365db",
   "metadata": {},
   "source": [
    "Q1. What is a database? Differentiate between SQL and NoSQL databases."
   ]
  },
  {
   "cell_type": "markdown",
   "id": "73e57939-c87a-4644-aa72-54c0b6cb5c1d",
   "metadata": {},
   "source": [
    "ANS_1:-\n",
    "Differences Between SQL and NoSQL Databases:-\n",
    "\n",
    "-> SQL Databases:\n",
    "1. Structure:\n",
    "    SQL databases are relational databases that use structured query language (SQL) for defining and manipulating the data.\n",
    "    They have a predefined schema and tables with rows and columns.\n",
    "2. Schema:\n",
    "    The schema is fixed and predefined. Changing the schema often requires significant modification to the database structure.\n",
    "3. Scalability:Typically, SQL databases are vertically scalable, meaning you can increase the load on a single server by adding more CPU, RAM, or SSD.\n",
    "\n",
    "-> Examples:\n",
    "MySQL, PostgreSQL, Oracle, SQL Server.\n",
    "\n",
    "->NoSQL Databases:\n",
    "\n",
    "1. Structure:\n",
    "    NoSQL databases are non-relational and can store and retrieve data in a variety of ways, including key-value pairs, wide-column stores, graph databases, or document-oriented databases.\n",
    "    They do not have a predefined schema and are more flexible in terms of the data they can store.\n",
    "2. Schema:\n",
    "    No fixed schema, allowing for dynamic changes and scalability. Data can be added without predefining the structure.\n",
    "3. Scalability:\n",
    "    NoSQL databases are typically horizontally scalable, meaning you can add more servers to handle increased load.\n",
    "    \n",
    "-> Examples:MongoDB, Cassandra, Redis, Couchbase."
   ]
  },
  {
   "cell_type": "markdown",
   "id": "728ffd88-acd6-4227-abb2-aad94a1eb225",
   "metadata": {},
   "source": [
    "Q2. What is DDL? Explain why CREATE, DROP, ALTER, and TRUNCATE are used with an example."
   ]
  },
  {
   "cell_type": "markdown",
   "id": "341b7473-97c5-44f1-940a-c4434cc9e4df",
   "metadata": {},
   "source": [
    "ANS_2:-\n",
    "\n",
    "DDL is a subset of SQL (Structured Query Language) used to define and manage database structures, such as tables, indexes, and schemas. DDL commands are used to create, alter, and delete database objects.\n",
    "\n",
    "\n",
    "DDL (Data Definition Language)\n",
    "DDL is a subset of SQL (Structured Query Language) used to define and manage database structures, such as tables, indexes, and schemas. DDL commands are used to create, alter, and delete database objects.\n",
    "\n",
    "1. CREATE\n",
    "The CREATE command is used to create new database objects like tables, indexes, views, and schemas.\n"
   ]
  },
  {
   "cell_type": "markdown",
   "id": "de20963e-0d76-49d4-951b-ec7027e262e9",
   "metadata": {},
   "source": [
    "#SQL CODE :- \n",
    "CREATE TABLE employees (\n",
    "    employee_id INT PRIMARY KEY,\n",
    "    first_name VARCHAR(50),\n",
    "    last_name VARCHAR(50),\n",
    "    hire_date DATE\n",
    ");\n",
    "\n",
    "2. DROP\n",
    "The DROP command is used to delete existing database objects such as tables, indexes, views, and schemas. It permanently removes the object and its data from the database.\n",
    "\n",
    "#SQL CODE :- \n",
    "DROP TABLE employees;\n",
    "\n",
    "\n",
    "3. ALTER\n",
    "The ALTER command is used to modify the structure of an existing database object. It can add, delete, or modify columns and constraints in a table.\n",
    "\n",
    "#SQL CODE:- \n",
    "ALTER TABLE employees\n",
    "ADD COLUMN email VARCHAR(100);\n",
    "\n",
    "4. TRUNCATE\n",
    "The TRUNCATE command is used to remove all rows from a table without deleting the table itself. It is faster than DELETE because it does not generate individual row deletion log entries.\n",
    "\n",
    "#SQL CODE :- \n",
    "TRUNCATE TABLE employees;\n",
    "\n"
   ]
  },
  {
   "cell_type": "markdown",
   "id": "f02d98ba-3f45-4e2f-bc15-f0668b2da4f4",
   "metadata": {},
   "source": [
    "Q3. What is DML? Explain INSERT, UPDATE, and DELETE with an example."
   ]
  },
  {
   "cell_type": "markdown",
   "id": "122a34c4-4b13-4807-aabd-596e9259885e",
   "metadata": {},
   "source": [
    "ANS-3:-\n",
    "\n",
    "DML is a subset of SQL used to retrieve, insert, update, and delete data within database tables. DML commands are essential for managing the data within a database.\n",
    "\n",
    "1. INSERT\n",
    "The INSERT command is used to add new rows of data into a table.\n",
    "\n",
    "#SQL CODE:-  \n",
    "INSERT INTO employees (employee_id, first_name, last_name, hire_date)\n",
    "VALUES (1, 'John', 'Doe', '2023-01-15');\n",
    "\n",
    "2. UPDATE\n",
    "The UPDATE command is used to modify existing data within a table. It can update one or more rows based on specified conditions.\n",
    "\n",
    "#SQL CODE:- \n",
    " UPDATE employees\n",
    "SET email = 'john.doe@example.com'\n",
    "WHERE employee_id = 1;\n",
    "\n",
    "3. DELETE\n",
    "The DELETE command is used to remove existing rows from a table based on specified conditions.\n",
    "\n",
    "#SQL CODE :- \n",
    " DELETE FROM employees\n",
    "WHERE employee_id = 1;\n",
    "\n"
   ]
  },
  {
   "cell_type": "markdown",
   "id": "e47e897f-b232-4703-bd7c-6eddf57d4b78",
   "metadata": {},
   "source": [
    "Q4. What is DQL? Explain SELECT with an example."
   ]
  },
  {
   "cell_type": "markdown",
   "id": "bd70a27b-c423-400a-bb5d-d46e7138fab3",
   "metadata": {},
   "source": [
    "ANS_4:-\n",
    "\n",
    "DQL is a subset of SQL used to query or retrieve data from a database. The primary DQL command is SELECT, which allows you to fetch data from one or more tables.\n",
    "\n",
    "The SELECT command is used to specify which columns of data to retrieve from a database table or tables. It can include conditions to filter the results, sorting to order the results, and joins to combine data from multiple tables.\n",
    "\n",
    "#SQL CODE:-\n",
    "SELECT column1, column2, ...\n",
    "FROM table_name\n",
    "WHERE condition;\n",
    "\n",
    "\n",
    "SELECT: The primary DQL command used to retrieve data from a database.\n",
    "Can include various clauses such as WHERE (for filtering), ORDER BY (for sorting), and JOIN (for combining data from multiple tables)."
   ]
  },
  {
   "cell_type": "markdown",
   "id": "bc9473c5-7e31-4127-9204-4cc87ded9c2a",
   "metadata": {},
   "source": [
    "Q5. Explain Primary Key and Foreign Key."
   ]
  },
  {
   "cell_type": "markdown",
   "id": "dc132e6c-2945-4554-89c9-29268e14240b",
   "metadata": {},
   "source": [
    "ANS_5:-\n",
    "\n",
    "Primary Key\n",
    "\n",
    "A primary key is a column or a combination of columns in a database table that uniquely identifies each row in that table. It ensures that each record within the table is unique and can be referenced unambiguously.\n",
    "\n",
    "Characteristics of a Primary Key:\n",
    "\n",
    "1. Uniqueness: Each value in the primary key column(s) must be unique, ensuring no duplicate entries.\n",
    "2. Non-null: Primary key columns cannot contain NULL values, ensuring that each row has a valid and identifiable key.\n",
    "3. Immutable: The values in the primary key column(s) should rarely change, maintaining the integrity of the table.\n",
    "4. Single Column or Composite Key: A primary key can consist of a single column or multiple columns (composite key).\n",
    "\n",
    "Foreign Key\n",
    "\n",
    "A foreign key is a column or a combination of columns in one table that establishes a link between data in two tables. It is used to enforce referential integrity by ensuring that the value in the foreign key column exists in the referenced primary key column.\n",
    "\n",
    "Characteristics of a Foreign Key:\n",
    "\n",
    "1. Referential Integrity: Ensures that the value in the foreign key column corresponds to a valid, existing value in the 2. 2. referenced table's primary key.\n",
    "3. Non-unique: Foreign key values can be duplicated in the table where they reside.\n",
    "4. Foreign key columns can contain NULL values, indicating an optional relationship.\n"
   ]
  },
  {
   "cell_type": "markdown",
   "id": "a0ad7003-41f5-47f5-8c1f-2b21a0810f8f",
   "metadata": {},
   "source": [
    "Q6. Write a python code to connect MySQL to python. Explain the cursor() and execute() method."
   ]
  },
  {
   "cell_type": "code",
   "execution_count": null,
   "id": "0e201d1e-4d3f-4ae2-aa6b-a943b3f6458b",
   "metadata": {},
   "outputs": [],
   "source": [
    "# CODE:-\n",
    "import mysql.connector\n",
    "\n",
    "connection = mysql.connector.connect(\n",
    "    host=\"localhost\",  \n",
    "    user=\"ODBC \",  \n",
    "    password=\"-p\",  \n",
    "    database=\"your_database\"  \n",
    ")\n",
    "\n",
    "cursor = connection.cursor()\n",
    "cursor.execute(\"SELECT * FROM employees\")\n",
    "result = cursor.fetchall()\n",
    "\n",
    "for row in result:\n",
    "    print(row)\n",
    "\n",
    "cursor.close()\n",
    "connection.close()\n"
   ]
  },
  {
   "cell_type": "markdown",
   "id": "32b5e23c-93b7-4df2-8f6c-957b133a38e9",
   "metadata": {},
   "source": [
    "Q7. Give the order of execution of SQL clauses in an SQL query."
   ]
  },
  {
   "cell_type": "markdown",
   "id": "f0d3958f-54e6-43c8-95e4-d251251b62f9",
   "metadata": {},
   "source": [
    "ANS_7:-\n",
    "\n",
    "Order of Execution of SQL Clauses\n",
    "When an SQL query is executed, the clauses are processed in a specific order. Understanding this order is crucial for writing effective and efficient queries.\n",
    "\n",
    "1. FROM: Determines the source tables from which to retrieve data.\n",
    "\n",
    "2. JOIN: Combines rows from two or more tables based on a related column between them.\n",
    "\n",
    "3. WHERE: Filters rows based on specified conditions.\n",
    "\n",
    "4. GROUP BY: Groups rows sharing a property so that aggregate functions can be applied to each group.\n",
    "\n",
    "5. HAVING: Filters groups based on specified conditions (used with GROUP BY).\n",
    "\n",
    "6. SELECT: Specifies the columns to be returned by the query.\n",
    "\n",
    "7. DISTINCT: Removes duplicate rows from the result set.\n",
    "\n",
    "8. ORDER BY: Sorts the result set based on one or more columns.\n",
    "\n",
    "9. LIMIT/OFFSET: Limits the number of rows returned by the query and specifies an offset for the rows."
   ]
  },
  {
   "cell_type": "code",
   "execution_count": null,
   "id": "a970dedd-e794-4f55-b893-8ead0c3b1212",
   "metadata": {},
   "outputs": [],
   "source": []
  }
 ],
 "metadata": {
  "kernelspec": {
   "display_name": "Python 3 (ipykernel)",
   "language": "python",
   "name": "python3"
  },
  "language_info": {
   "codemirror_mode": {
    "name": "ipython",
    "version": 3
   },
   "file_extension": ".py",
   "mimetype": "text/x-python",
   "name": "python",
   "nbconvert_exporter": "python",
   "pygments_lexer": "ipython3",
   "version": "3.10.8"
  }
 },
 "nbformat": 4,
 "nbformat_minor": 5
}
