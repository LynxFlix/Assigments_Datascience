{
 "cells": [
  {
   "cell_type": "markdown",
   "id": "8db5706c-ee0e-4d3c-9371-7ecfb3ed19ca",
   "metadata": {},
   "source": [
    "Q1. Who developed Python Programming Language? "
   ]
  },
  {
   "cell_type": "markdown",
   "id": "2356154c-8016-40cc-b1f9-975e2ac494b2",
   "metadata": {},
   "source": [
    "ANS_1:_\n",
    "Python was developed by Guido van Rossum. He started working on it in the late 1980s and officially released the first version in 1991."
   ]
  },
  {
   "cell_type": "markdown",
   "id": "6fe3edd4-7999-4499-bc70-cd493e25227e",
   "metadata": {},
   "source": [
    "Q2. Which type of Programming does Python support? \n"
   ]
  },
  {
   "cell_type": "markdown",
   "id": "38ba6653-6cf0-488a-a1e3-ae1f81d36c45",
   "metadata": {},
   "source": [
    "ANS_2:-\n",
    "Python supports multiple programming paradigms, including:\n",
    "\n",
    "Procedural Programming: Organizes code into procedures or functions.\n",
    "Object-Oriented Programming (OOP): Uses classes and objects to model real-world entities and their interactions.\n",
    "Functional Programming: Treats functions as first-class citizens and emphasizes immutability and higher-order functions.\n",
    "Imperative Programming: Focuses on describing the steps the computer must take to achieve a goal.\n",
    "Reflective Programming: Allows programs to inspect and modify their own structure and behavior."
   ]
  },
  {
   "cell_type": "markdown",
   "id": "10cd9fb5-3f37-49c6-956c-c705c9d45a07",
   "metadata": {},
   "source": [
    "Q3. Is Python case sensitive when dealing with identifiers? \n"
   ]
  },
  {
   "cell_type": "markdown",
   "id": "1b766589-8f22-444a-8d76-279e8353d012",
   "metadata": {},
   "source": [
    "ANS_3:-\n",
    "Yes, Python is case sensitive when dealing with identifiers. This means that variable, Variable, and VARIABLE would be considered distinct identifiers in Python."
   ]
  },
  {
   "cell_type": "markdown",
   "id": "56e8c339-1035-4a25-8f9b-ddb61929610f",
   "metadata": {},
   "source": [
    "Q4. What is the correct extension of the Python file? \n"
   ]
  },
  {
   "cell_type": "markdown",
   "id": "8eaca871-2ce9-48fc-b732-a3c620c88d7c",
   "metadata": {},
   "source": [
    "ANS_4:-\n",
    "The correct file extension of python is \".py\""
   ]
  },
  {
   "cell_type": "markdown",
   "id": "2474a6bf-81e1-48ff-aba0-8b833408d7e0",
   "metadata": {},
   "source": [
    "Q5. Is Python code compiled or interpreted? \n"
   ]
  },
  {
   "cell_type": "markdown",
   "id": "12273c59-95f4-45ed-9a04-a9435a86f156",
   "metadata": {},
   "source": [
    "ANS_5:-\n",
    "Python is primarily an interpreted language. The Python interpreter reads and executes the code directly."
   ]
  },
  {
   "cell_type": "markdown",
   "id": "9e2a4e6e-249e-44c5-af88-1c5be0d72124",
   "metadata": {},
   "source": [
    "Q6. Name a few blocks of code used to define in Python language? \n"
   ]
  },
  {
   "cell_type": "markdown",
   "id": "9f774c83-cc42-406b-bd53-6fb4d21fbedb",
   "metadata": {},
   "source": [
    "ANS_6:-\n",
    "In Python, code blocks are defined using indentation. Some common blocks include:\n",
    "\n",
    "1)Function Definitions:\n",
    "Code:-\n",
    "def my_function():\n",
    "    print(\"Hello, world!\")\n",
    "2)Class Definitions:\n",
    "COde:-\n",
    "class MyClass:\n",
    "    def __init__(self):\n",
    "    self.value = 0\n",
    "3)Loops:\n",
    "Code:-\n",
    "for i in range(5):\n",
    "    # Code block\n",
    "    print(i)\n",
    "\n",
    "while condition:\n",
    "    # Code block\n",
    "    print(\"Looping\")"
   ]
  },
  {
   "cell_type": "markdown",
   "id": "fb0e2dbd-c13a-4de3-bc39-a6a735696fda",
   "metadata": {},
   "source": [
    "Q7. State a character used to give single-line comments in Python? "
   ]
  },
  {
   "cell_type": "markdown",
   "id": "03f504bb-ba5e-45b4-abfe-b8ad45caa2b4",
   "metadata": {},
   "source": [
    "ANS_7:- In Python, the # character is used to create single-line comments"
   ]
  },
  {
   "cell_type": "markdown",
   "id": "3551002a-c2ae-4f3a-bd9a-48bdb4c26fe6",
   "metadata": {},
   "source": [
    "Q8. Mention functions which can help us to find the version of python that we are currently working on?"
   ]
  },
  {
   "cell_type": "markdown",
   "id": "a53e5770-2e03-4c00-b18b-51b44e4ad005",
   "metadata": {},
   "source": [
    "ANS_8: To find the version of Python you are currently working with, you can use the following functions and methods:\n",
    "\n",
    "1) Using the sys module.\n",
    "2) Using the platform module."
   ]
  },
  {
   "cell_type": "markdown",
   "id": "be4add64-c51f-418a-9c91-45e743b9176f",
   "metadata": {},
   "source": [
    "Q9. Python supports the creation of anonymous functions at runtime, using a construct called ?"
   ]
  },
  {
   "cell_type": "markdown",
   "id": "09b9993f-6b7c-4503-9888-0f4469271990",
   "metadata": {},
   "source": [
    "ANS_9:-Python supports the creation of anonymous functions at runtime using a construct called a lambda function. Lambda functions are small, unnamed functions defined with the lambda keyword. "
   ]
  },
  {
   "cell_type": "markdown",
   "id": "5d576644-866d-4b3e-bb1b-90a923329fc1",
   "metadata": {},
   "source": [
    "Q10. What does pip stand for python?"
   ]
  },
  {
   "cell_type": "markdown",
   "id": "bfa3cb24-d9d6-4872-a2a1-127dfde2e88c",
   "metadata": {},
   "source": [
    "ANS_10:-In the context of Python, pip stands for \"Pip Installs Packages.\" It is a package management system used to install and manage Python libraries and dependencies"
   ]
  },
  {
   "cell_type": "markdown",
   "id": "20dc974a-6e91-4658-936b-6fcaeb07faad",
   "metadata": {},
   "source": [
    "Q11. Mention a few built-in functions in python? \n"
   ]
  },
  {
   "cell_type": "markdown",
   "id": "f00de136-5254-45de-ab30-a1b172c05887",
   "metadata": {},
   "source": [
    "ANS_11:- Some built-in functions in Python include print(), len(), type(), int(), and str()."
   ]
  },
  {
   "cell_type": "markdown",
   "id": "e80871dc-5586-43fe-bf23-a82c0c600e02",
   "metadata": {},
   "source": [
    "Q12. What is the maximum possible length of an identifier in Python? \n"
   ]
  },
  {
   "cell_type": "markdown",
   "id": "5e43b724-088c-4ee1-afb6-cc6fa1ab3882",
   "metadata": {},
   "source": [
    "ANS_12:-In Python, there is no explicit maximum length for an identifier; it is limited by available memory."
   ]
  },
  {
   "cell_type": "markdown",
   "id": "d4b7998f-8b61-401f-9f57-0eca9837c5c0",
   "metadata": {},
   "source": [
    "Q13. What are the benefits of using Python? "
   ]
  },
  {
   "cell_type": "markdown",
   "id": "73bcf2a2-47de-4d18-8f52-5fff0abffb56",
   "metadata": {},
   "source": [
    "ANS_13:-he benefits of using Python include its readability, simplicity, extensive standard library, ease of learning, strong community support, versatility across different domains, and robust frameworks for web development, data science, and automation.\n"
   ]
  },
  {
   "cell_type": "markdown",
   "id": "d073b6df-84e6-4d47-bc0b-30f21950a7c1",
   "metadata": {},
   "source": [
    "Q14. How is memory managed in Python? \n"
   ]
  },
  {
   "cell_type": "markdown",
   "id": "8ceb2230-7559-4eee-b8ca-288633059dcf",
   "metadata": {},
   "source": [
    "ASN_14:-\n",
    "Memory in Python is managed through a combination of techniques, including:\n",
    "\n",
    "1. Automatic Garbage Collection: Python uses reference counting and cyclic garbage collection to reclaim memory from objects that are no longer in use.\n",
    "\n",
    "2. Memory Pools: Python employs memory pools for managing small objects efficiently, which helps reduce the overhead of frequent memory allocation and deallocation.\n",
    "\n",
    "3. Dynamic Typing: Python handles memory allocation dynamically, adjusting as needed based on the types and sizes of objects being used."
   ]
  },
  {
   "cell_type": "markdown",
   "id": "519f7dff-25aa-4995-b22d-a9c60418a17f",
   "metadata": {},
   "source": [
    "Q15. How to install Python on Windows and set path variables? 16. Is indentation required in python? \n"
   ]
  },
  {
   "cell_type": "markdown",
   "id": "815f22c6-1316-479d-8bf1-aae7ef34c882",
   "metadata": {},
   "source": [
    "ANS_15:-\n",
    "To install Python on Windows, first download the installer from the official Python website. Run the installer, making sure to check the box labeled \"Add Python to PATH,\" then click \"Install Now\" to complete the installation. After installation, verify it by opening Command Prompt and typing python --version to check if Python is correctly installed. If needed, set the path variables manually by searching for \"Environment Variables\" in Windows, editing the Path variable in the \"System variables\" section, and adding the paths to the Python installation directory and the Scripts directory."
   ]
  },
  {
   "cell_type": "code",
   "execution_count": null,
   "id": "c140084f-bfbe-4d22-a5a7-502a53cca3cb",
   "metadata": {},
   "outputs": [],
   "source": []
  }
 ],
 "metadata": {
  "kernelspec": {
   "display_name": "Python 3 (ipykernel)",
   "language": "python",
   "name": "python3"
  },
  "language_info": {
   "codemirror_mode": {
    "name": "ipython",
    "version": 3
   },
   "file_extension": ".py",
   "mimetype": "text/x-python",
   "name": "python",
   "nbconvert_exporter": "python",
   "pygments_lexer": "ipython3",
   "version": "3.10.8"
  }
 },
 "nbformat": 4,
 "nbformat_minor": 5
}
