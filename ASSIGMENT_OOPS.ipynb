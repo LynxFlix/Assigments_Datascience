{
 "cells": [
  {
   "cell_type": "markdown",
   "id": "9e8fc95d-0860-4139-abfa-00cd0082f67b",
   "metadata": {},
   "source": [
    "Q1. Explain Class and Object with respect to Object-Oriented Programming. Give a suitable example."
   ]
  },
  {
   "cell_type": "markdown",
   "id": "59f891a7-b23f-4131-9811-fa8768a32846",
   "metadata": {},
   "source": [
    "ANS_1:-\n",
    "Object-Oriented Programming (OOP), the concepts of class and object are fundamental.\n",
    "\n",
    "1) Class\n",
    "A class is a blueprint or template for creating objects. It defines a set of attributes (data) and methods (functions) that the objects created from the class can use. A class encapsulates data for the object and the methods to manipulate that data.\n",
    "\n",
    "2) Object\n",
    "An object is an instance of a class. It is a concrete realization of the class, with actual values for the attributes defined in the class. Objects can interact with each other through their methods and share common behaviors as defined by their class."
   ]
  },
  {
   "cell_type": "code",
   "execution_count": 1,
   "id": "0d6cfde3-7dd7-4273-9e19-45423e4e185a",
   "metadata": {},
   "outputs": [
    {
     "name": "stdout",
     "output_type": "stream",
     "text": [
      "The engine of the 2022 Toyota Fortuner is now running.\n",
      "The engine of the 2021 Honda Civic is now turned off.\n"
     ]
    }
   ],
   "source": [
    "# EMAPLE:_\n",
    "class Car:\n",
    "    def __init__(self, make, model, year):\n",
    "        self.make = make\n",
    "        self.model = model\n",
    "        self.year = year\n",
    "\n",
    "    def start_engine(self):\n",
    "        return f\"The engine of the {self.year} {self.make} {self.model} is now running.\"\n",
    "\n",
    "    def stop_engine(self):\n",
    "        return f\"The engine of the {self.year} {self.make} {self.model} is now turned off.\"\n",
    "\n",
    "car1 = Car(\"Toyota\", \"Fortuner\", 2022)\n",
    "car2 = Car(\"Honda\", \"Civic\", 2021)\n",
    "\n",
    "print(car1.start_engine())  \n",
    "print(car2.stop_engine())   \n"
   ]
  },
  {
   "cell_type": "markdown",
   "id": "8a7ad269-4ec0-467b-8866-ea332888b6f4",
   "metadata": {},
   "source": [
    "Q2. Name the four pillars of OOPs."
   ]
  },
  {
   "cell_type": "markdown",
   "id": "caa84783-86dd-49c7-8858-2d127895b2e0",
   "metadata": {},
   "source": [
    "ANS_2:-\n",
    "The four fundamental pillars of Object-Oriented Programming (OOP) are:\n",
    "    \n",
    "1. Encapsulation\n",
    "Encapsulation is about bundling the data (attributes) and methods (functions) that operate on the data into a single unit, or class. It restricts direct access to some of an object's components and can help prevent unintended interference and misuse. Encapsulation hides the internal state of the object and only exposes a controlled interface.\n",
    "\n",
    "2. Inheritance\n",
    "Inheritance allows one class (the child or subclass) to inherit attributes and methods from another class (the parent or superclass). This promotes code reuse by allowing the subclass to use and extend the functionality of the superclass. It also establishes a hierarchical relationship between classes.\n",
    "\n",
    "3. Polymorphism\n",
    "Polymorphism enables objects of different classes to be treated as objects of a common superclass. It allows methods to have different behaviors based on the object’s class. In essence, polymorphism provides a way to use a single interface to represent different underlying forms (data types).\n",
    "\n",
    "4. Abstraction\n",
    "Abstraction involves hiding the complex implementation details of an object and exposing only the essential features. It simplifies interaction with the object by providing a clear and simplified interface while concealing the underlying complexity. Abstraction helps in managing complexity and allows for a more user-friendly interaction with the object.\n"
   ]
  },
  {
   "cell_type": "markdown",
   "id": "ca634fa0-96d3-48f3-9795-f443ab4211e4",
   "metadata": {},
   "source": [
    "Q3. Explain why the __init__() function is used. Give a suitable example."
   ]
  },
  {
   "cell_type": "markdown",
   "id": "ccdb21c4-c7ab-42fa-8a56-11c86b15d951",
   "metadata": {},
   "source": [
    "ANS_2:-\n",
    "\n",
    "The __init__() function in Python is a special method known as a constructor. It is used to initialize the newly created object with default or provided values. When a new object of a class is created, Python automatically calls the __init__() method to set up the initial state of the object."
   ]
  },
  {
   "cell_type": "code",
   "execution_count": 2,
   "id": "08de6a80-b495-47d8-8bfe-ef14ababa44b",
   "metadata": {},
   "outputs": [
    {
     "name": "stdout",
     "output_type": "stream",
     "text": [
      "Hello, my name is Alice and I am 30 years old.\n"
     ]
    }
   ],
   "source": [
    "# EXAMPLE:-\n",
    "class Person:\n",
    "    def __init__(self, name, age):\n",
    "        self.name = name  \n",
    "        self.age = age    \n",
    "\n",
    "    def greet(self):\n",
    "        return f\"Hello, my name is {self.name} and I am {self.age} years old.\"\n",
    "\n",
    "person1 = Person(\"Alice\", 30)\n",
    "\n",
    "print(person1.greet())\n"
   ]
  },
  {
   "cell_type": "markdown",
   "id": "64d1d9ed-3773-4bdb-a3ca-8b96fcbe1c97",
   "metadata": {},
   "source": [
    "Q4. Why self is used in OOPs?"
   ]
  },
  {
   "cell_type": "markdown",
   "id": "2af20a91-ed20-4d51-bde8-a2481abf9af8",
   "metadata": {},
   "source": [
    "ANS_3:- In Object-Oriented Programming (OOP), self is a reference to the current instance of a class. It is used to access the attributes and methods of the instance within the class definition.\n",
    "\n",
    "-> self allows methods within a class to access and modify the instance’s attributes and call other methods of the instance. It distinguishes between instance attributes and local variables or method parameters.\\\n",
    "\n",
    "-> By using self, you ensure that attributes and methods belong to the instance, making it clear when you are referring to instance-specific data rather than class-level data or global variables.\n",
    "\n",
    "-> It enables methods to call other methods within the same class instance, facilitating interaction between different parts of the class.\n",
    "\n"
   ]
  },
  {
   "cell_type": "markdown",
   "id": "7b0927d7-c16f-4879-998b-d6dddac42d98",
   "metadata": {},
   "source": [
    "Q5. What is inheritance? Give an example for each type of inheritance."
   ]
  },
  {
   "cell_type": "markdown",
   "id": "1a1a6879-f982-40f1-9ef9-f02f941b7a1d",
   "metadata": {},
   "source": [
    "ANS_5:-\n",
    "\n",
    "Inheritance is a fundamental concept in Object-Oriented Programming (OOP) that allows a class (called a subclass or derived class) to inherit attributes and methods from another class (called a superclass or base class). This promotes code reuse and establishes a hierarchical relationship between classes\n",
    "\n",
    "1)Single Inheritance\n",
    "\n",
    "Definition: A subclass inherits from a single superclass."
   ]
  },
  {
   "cell_type": "code",
   "execution_count": 3,
   "id": "5c79ebe2-9b3b-4ba4-8415-2fd508c53050",
   "metadata": {},
   "outputs": [
    {
     "name": "stdout",
     "output_type": "stream",
     "text": [
      "Animal makes a sound.\n",
      "Dog barks.\n"
     ]
    }
   ],
   "source": [
    "# EMAPLE:-\n",
    "class Animal:\n",
    "    def speak(self):\n",
    "        return \"Animal makes a sound.\"\n",
    "\n",
    "class Dog(Animal):\n",
    "    def bark(self):\n",
    "        return \"Dog barks.\"\n",
    "\n",
    "dog = Dog()\n",
    "print(dog.speak())  \n",
    "print(dog.bark())\n"
   ]
  },
  {
   "cell_type": "markdown",
   "id": "42ad278f-e2f9-4fa5-bbfa-e19238a60170",
   "metadata": {},
   "source": [
    "2) Multiple Inheritance.\n",
    "\n",
    "Definition: A subclass inherits from more than one superclass.\n"
   ]
  },
  {
   "cell_type": "code",
   "execution_count": 4,
   "id": "392c573f-6018-4694-9c2e-900a0cde71ad",
   "metadata": {},
   "outputs": [
    {
     "name": "stdout",
     "output_type": "stream",
     "text": [
      "Engine started.\n",
      "Wheels are rotating.\n",
      "Car is driving.\n"
     ]
    }
   ],
   "source": [
    "# EXMAPLE:-\n",
    "class Engine:\n",
    "    def start_engine(self):\n",
    "        return \"Engine started.\"\n",
    "\n",
    "class Wheels:\n",
    "    def rotate(self):\n",
    "        return \"Wheels are rotating.\"\n",
    "\n",
    "class Car(Engine, Wheels):\n",
    "    def drive(self):\n",
    "        return \"Car is driving.\"\n",
    "\n",
    "car = Car()\n",
    "print(car.start_engine())\n",
    "print(car.rotate())        \n",
    "print(car.drive())         "
   ]
  },
  {
   "cell_type": "markdown",
   "id": "8d0cfc43-73e5-48bb-a07f-5d047bddf446",
   "metadata": {},
   "source": [
    "3. Multilevel Inheritance\n",
    "\n",
    "Definition: A subclass inherits from another subclass, forming a chain of inheritance."
   ]
  },
  {
   "cell_type": "code",
   "execution_count": 5,
   "id": "cb902a08-daab-4654-a467-e9c3afc079e5",
   "metadata": {},
   "outputs": [
    {
     "name": "stdout",
     "output_type": "stream",
     "text": [
      "Animal makes a sound.\n",
      "Mammals give birth to live young.\n",
      "Dog barks.\n"
     ]
    }
   ],
   "source": [
    "# EXAMPLE:-\n",
    "class Animal:\n",
    "    def speak(self):\n",
    "        return \"Animal makes a sound.\"\n",
    "\n",
    "class Mammal(Animal):\n",
    "    def give_birth(self):\n",
    "        return \"Mammals give birth to live young.\"\n",
    "\n",
    "class Dog(Mammal):\n",
    "    def bark(self):\n",
    "        return \"Dog barks.\"\n",
    "\n",
    "dog = Dog()\n",
    "print(dog.speak())      \n",
    "print(dog.give_birth()) \n",
    "print(dog.bark())       \n"
   ]
  },
  {
   "cell_type": "markdown",
   "id": "73f5e640-9e8b-4378-976b-06bc9fe641a0",
   "metadata": {},
   "source": [
    "4. Hybrid Inheritance\n",
    "\n",
    "Definition: A combination of two or more types of inheritance."
   ]
  },
  {
   "cell_type": "code",
   "execution_count": 7,
   "id": "a46107ba-391b-4fa3-b78b-3edaaad04005",
   "metadata": {},
   "outputs": [
    {
     "name": "stdout",
     "output_type": "stream",
     "text": [
      "Animal is eating.\n",
      "Bird is flying.\n",
      "Fish is swimming.\n",
      "Flying fish jumps out of the water.\n"
     ]
    }
   ],
   "source": [
    "# EXAMPLE:-\n",
    "class Animal:\n",
    "    def eat(self):\n",
    "        return \"Animal is eating.\"\n",
    "\n",
    "class Bird(Animal):\n",
    "    def fly(self):\n",
    "        return \"Bird is flying.\"\n",
    "\n",
    "class Fish(Animal):\n",
    "    def swim(self):\n",
    "        return \"Fish is swimming.\"\n",
    "\n",
    "class FlyingFish(Bird, Fish):\n",
    "    def jump(self):\n",
    "        return \"Flying fish jumps out of the water.\"\n",
    "\n",
    "flying_fish = FlyingFish()\n",
    "print(flying_fish.eat())   \n",
    "print(flying_fish.fly())   \n",
    "print(flying_fish.swim())  \n",
    "print(flying_fish.jump())  \n"
   ]
  },
  {
   "cell_type": "code",
   "execution_count": null,
   "id": "55fba153-757f-4a7d-a962-976899bb4387",
   "metadata": {},
   "outputs": [],
   "source": []
  }
 ],
 "metadata": {
  "kernelspec": {
   "display_name": "Python 3 (ipykernel)",
   "language": "python",
   "name": "python3"
  },
  "language_info": {
   "codemirror_mode": {
    "name": "ipython",
    "version": 3
   },
   "file_extension": ".py",
   "mimetype": "text/x-python",
   "name": "python",
   "nbconvert_exporter": "python",
   "pygments_lexer": "ipython3",
   "version": "3.10.8"
  }
 },
 "nbformat": 4,
 "nbformat_minor": 5
}
