{
 "cells": [
  {
   "cell_type": "markdown",
   "id": "9726900f-2f76-4295-937b-896d0c779404",
   "metadata": {},
   "source": [
    "Q1. Create a vehicle class with an init method having instance variables as name_of_vehicle, max_speed\n",
    "and average_of_vehicle."
   ]
  },
  {
   "cell_type": "markdown",
   "id": "18a38b46-86e1-4dec-b74e-7eb69885df44",
   "metadata": {},
   "source": [
    "ANS_1:-"
   ]
  },
  {
   "cell_type": "code",
   "execution_count": 1,
   "id": "20463b9f-ffba-4e26-9a3a-d16328868466",
   "metadata": {},
   "outputs": [
    {
     "name": "stdout",
     "output_type": "stream",
     "text": [
      "Name of Vehicle: Toyota Corolla\n",
      "Max Speed: 180 km/h\n",
      "Average: 15 km/l\n"
     ]
    }
   ],
   "source": [
    "# CPDE:-\n",
    "class Vehicle:\n",
    "    def __init__(self, name_of_vehicle, max_speed, average_of_vehicle):\n",
    "        self.name_of_vehicle = name_of_vehicle\n",
    "        self.max_speed = max_speed\n",
    "        self.average_of_vehicle = average_of_vehicle\n",
    "\n",
    "    def display_info(self):\n",
    "        print(f\"Name of Vehicle: {self.name_of_vehicle}\")\n",
    "        print(f\"Max Speed: {self.max_speed} km/h\")\n",
    "        print(f\"Average: {self.average_of_vehicle} km/l\")\n",
    "\n",
    "car = Vehicle(\"Toyota Corolla\", 180, 15)\n",
    "car.display_info()\n"
   ]
  },
  {
   "cell_type": "markdown",
   "id": "059fdea2-6eac-4299-9b98-58378d0b5978",
   "metadata": {},
   "source": [
    "Q2. Create a child class car from the vehicle class created in Que 1, which will inherit the vehicle class.\n",
    "Create a method named seating_capacity which takes capacity as an argument and returns the name of\n",
    "the vehicle and its seating capacity."
   ]
  },
  {
   "cell_type": "markdown",
   "id": "7c164f7f-85c2-4a4e-a129-d0fc3436b25c",
   "metadata": {},
   "source": [
    "ANS_2:-"
   ]
  },
  {
   "cell_type": "code",
   "execution_count": 2,
   "id": "bf7e1c36-104b-4318-bf6a-9bb47e8bf02a",
   "metadata": {},
   "outputs": [
    {
     "name": "stdout",
     "output_type": "stream",
     "text": [
      "Name of Vehicle: Toyota Corolla\n",
      "Max Speed: 180 km/h\n",
      "Average: 15 km/l\n",
      "Toyota Corolla has a seating capacity of 5 people.\n"
     ]
    }
   ],
   "source": [
    "# CODE:-\n",
    "class Vehicle:\n",
    "    def __init__(self, name_of_vehicle, max_speed, average_of_vehicle):\n",
    "        self.name_of_vehicle = name_of_vehicle\n",
    "        self.max_speed = max_speed\n",
    "        self.average_of_vehicle = average_of_vehicle\n",
    "\n",
    "    def display_info(self):\n",
    "        print(f\"Name of Vehicle: {self.name_of_vehicle}\")\n",
    "        print(f\"Max Speed: {self.max_speed} km/h\")\n",
    "        print(f\"Average: {self.average_of_vehicle} km/l\")\n",
    "\n",
    "class Car(Vehicle):\n",
    "    def seating_capacity(self, capacity):\n",
    "        return f\"{self.name_of_vehicle} has a seating capacity of {capacity} people.\"\n",
    "\n",
    "my_car = Car(\"Toyota Corolla\", 180, 15)\n",
    "my_car.display_info()\n",
    "print(my_car.seating_capacity(5))\n"
   ]
  },
  {
   "cell_type": "markdown",
   "id": "7f9b7480-0275-4957-b40a-80d0c8bfd28b",
   "metadata": {},
   "source": [
    "Q3. What is multiple inheritance? Write a python code to demonstrate multiple inheritance."
   ]
  },
  {
   "cell_type": "markdown",
   "id": "7d1b5f70-21c9-4cca-a551-81fb56e9262c",
   "metadata": {},
   "source": [
    "ANS_3:-\n",
    "Multiple inheritance is a feature of object-oriented programming where a class can inherit attributes and methods from more than one parent class. This allows a class to combine functionalities from multiple classes."
   ]
  },
  {
   "cell_type": "code",
   "execution_count": 3,
   "id": "e018d373-bc5b-4502-a264-a4fbd4cb0939",
   "metadata": {},
   "outputs": [
    {
     "name": "stdout",
     "output_type": "stream",
     "text": [
      "Car Model: Toyota Camry\n",
      "Engine Type: V6 Engine\n",
      "Number of Wheels: 4\n"
     ]
    }
   ],
   "source": [
    "# CODE:-\n",
    "\n",
    "class Engine:\n",
    "    def engine_type(self):\n",
    "        return \"V6 Engine\"\n",
    "\n",
    "# Parent Class 2\n",
    "class Wheels:\n",
    "    def wheel_count(self):\n",
    "        return 4\n",
    "class Car(Engine, Wheels):\n",
    "    def __init__(self, model):\n",
    "        self.model = model\n",
    "\n",
    "    def display_info(self):\n",
    "        print(f\"Car Model: {self.model}\")\n",
    "        print(f\"Engine Type: {self.engine_type()}\")\n",
    "        print(f\"Number of Wheels: {self.wheel_count()}\")\n",
    "\n",
    "\n",
    "my_car = Car(\"Toyota Camry\")\n",
    "my_car.display_info()\n"
   ]
  },
  {
   "cell_type": "markdown",
   "id": "2c4b4595-0e3c-43f8-9849-a729e2a9ec97",
   "metadata": {},
   "source": [
    "Q4. What are getter and setter in python? Create a class and create a getter and a setter method in this\n",
    "class."
   ]
  },
  {
   "cell_type": "markdown",
   "id": "0dceb581-c96b-4e08-a1a7-16c3623477a7",
   "metadata": {},
   "source": [
    "ANS_4:-\n",
    "Getters and Setters are methods used in object-oriented programming to access and modify the private attributes of a class. They provide a way to control how attributes are accessed and updated, ensuring that the object maintains its integrity."
   ]
  },
  {
   "cell_type": "code",
   "execution_count": 4,
   "id": "74a0e5b1-ed44-4388-a3d8-c2d3f5a35c23",
   "metadata": {},
   "outputs": [
    {
     "name": "stdout",
     "output_type": "stream",
     "text": [
      "Name: Ashish\n",
      "Age: 30\n",
      "Ashish\n",
      "30\n",
      "Name: Devesh\n",
      "Age: 35\n",
      "Name must be a non-empty string.\n",
      "Age must be a positive integer.\n"
     ]
    }
   ],
   "source": [
    "class Person:\n",
    "    def __init__(self, name, age):\n",
    "        self._name = name\n",
    "        self._age = age    \n",
    "\n",
    "\n",
    "    @property\n",
    "    def name(self):\n",
    "        return self._name\n",
    "\n",
    "    @name.setter\n",
    "    def name(self, value):\n",
    "        if isinstance(value, str) and value:\n",
    "            self._name = value\n",
    "        else:\n",
    "            raise ValueError(\"Name must be a non-empty string.\")\n",
    "\n",
    "    @property\n",
    "    def age(self):\n",
    "        return self._age\n",
    "\n",
    "    @age.setter\n",
    "    def age(self, value):\n",
    "        if isinstance(value, int) and value > 0:\n",
    "            self._age = value\n",
    "        else:\n",
    "            raise ValueError(\"Age must be a positive integer.\")\n",
    "\n",
    "    def display_info(self):\n",
    "        print(f\"Name: {self._name}\")\n",
    "        print(f\"Age: {self._age}\")\n",
    "\n",
    "person = Person(\"Ashish\", 30)\n",
    "person.display_info()\n",
    "\n",
    "print(person.name)  \n",
    "print(person.age)   \n",
    "person.name = \"Devesh\"\n",
    "person.age = 35\n",
    "person.display_info()\n",
    "\n",
    "try:\n",
    "    person.name = \"\"\n",
    "except ValueError as e:\n",
    "    print(e)  # Output: Name must be a non-empty string.\n",
    "\n",
    "try:\n",
    "    person.age = -5\n",
    "except ValueError as e:\n",
    "    print(e)  # Output: Age must be a positive integer.\n"
   ]
  },
  {
   "cell_type": "markdown",
   "id": "7e46b3df-60f3-4417-98ce-eeb7c5d1d12c",
   "metadata": {},
   "source": [
    "Q5.What is method overriding in python? Write a python code to demonstrate method overriding."
   ]
  },
  {
   "cell_type": "markdown",
   "id": "d1986299-72fc-47b5-831b-c456c4a2bdc5",
   "metadata": {},
   "source": [
    "ANS_5:-\n",
    "\n",
    "Method overriding in Python refers to the ability of a subclass to provide a specific implementation for a method that is already defined in its superclass. This allows the subclass to modify or extend the behavior of the inherited method."
   ]
  },
  {
   "cell_type": "code",
   "execution_count": 5,
   "id": "b658d466-6042-4357-99bf-05c9131a1a2c",
   "metadata": {},
   "outputs": [
    {
     "name": "stdout",
     "output_type": "stream",
     "text": [
      "Animal speaks\n",
      "Dog barks\n",
      "Cat meows\n"
     ]
    }
   ],
   "source": [
    "# CODE:-\n",
    "\n",
    "class Animal:\n",
    "    def speak(self):\n",
    "        return \"Animal speaks\"\n",
    "\n",
    "class Dog(Animal):\n",
    "    def speak(self):\n",
    "        return \"Dog barks\"\n",
    "class Cat(Animal):\n",
    "    def speak(self):\n",
    "        return \"Cat meows\"\n",
    "\n",
    "animals = [Animal(), Dog(), Cat()]\n",
    "\n",
    "for animal in animals:\n",
    "    print(animal.speak())\n"
   ]
  },
  {
   "cell_type": "code",
   "execution_count": null,
   "id": "fc7b6f35-e688-466f-a60a-d7c47a42d67e",
   "metadata": {},
   "outputs": [],
   "source": []
  }
 ],
 "metadata": {
  "kernelspec": {
   "display_name": "Python 3 (ipykernel)",
   "language": "python",
   "name": "python3"
  },
  "language_info": {
   "codemirror_mode": {
    "name": "ipython",
    "version": 3
   },
   "file_extension": ".py",
   "mimetype": "text/x-python",
   "name": "python",
   "nbconvert_exporter": "python",
   "pygments_lexer": "ipython3",
   "version": "3.10.8"
  }
 },
 "nbformat": 4,
 "nbformat_minor": 5
}
